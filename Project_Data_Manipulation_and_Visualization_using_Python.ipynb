{
  "nbformat": 4,
  "nbformat_minor": 0,
  "metadata": {
    "colab": {
      "name": "Project - Data Manipulation and Visualization using Python",
      "provenance": [],
      "collapsed_sections": []
    },
    "kernelspec": {
      "display_name": "Python 3",
      "name": "python3"
    },
    "language_info": {
      "name": "python"
    }
  },
  "cells": [
    {
      "cell_type": "markdown",
      "metadata": {
        "id": "-5DkXHLiGZCa"
      },
      "source": [
        "# Virtual Internship Program (VIP) by AINE AI as a Data Science Intern 2021"
      ]
    },
    {
      "cell_type": "markdown",
      "metadata": {
        "id": "2yFCwozlHDH4"
      },
      "source": [
        "#Project: Data Manipulation and Visualization using Python"
      ]
    },
    {
      "cell_type": "markdown",
      "metadata": {
        "id": "IFMPw34gH7Sm"
      },
      "source": [
        "#By:- Prasad Shinde"
      ]
    },
    {
      "cell_type": "code",
      "metadata": {
        "id": "XubJQ8195F5F"
      },
      "source": [
        "\n",
        "# import the relevent package\n",
        "import pandas as pd\n",
        "import seaborn as sns\n",
        "\n",
        "import matplotlib.pyplot as plt\n",
        "import numpy as np"
      ],
      "execution_count": null,
      "outputs": []
    },
    {
      "cell_type": "markdown",
      "metadata": {
        "id": "BtXTBARQGWGl"
      },
      "source": [
        ""
      ]
    },
    {
      "cell_type": "code",
      "metadata": {
        "id": "-SHMHYQ06Vk5"
      },
      "source": [
        "brics = pd.read_csv(\"/content/brics.csv\")\n",
        "cars = pd.read_csv(\"/content/cars.csv\")\n",
        "marks = pd.read_csv(\"/content/marks.csv\")\n",
        "mtcars = pd.read_csv(\"/content/mtcars.csv\")"
      ],
      "execution_count": null,
      "outputs": []
    },
    {
      "cell_type": "code",
      "metadata": {
        "colab": {
          "base_uri": "https://localhost:8080/",
          "height": 202
        },
        "id": "D3mcbPfx7uqJ",
        "outputId": "5f335e7d-973e-49bd-9578-4ea84c802357"
      },
      "source": [
        "brics"
      ],
      "execution_count": null,
      "outputs": [
        {
          "output_type": "execute_result",
          "data": {
            "text/html": [
              "<div>\n",
              "<style scoped>\n",
              "    .dataframe tbody tr th:only-of-type {\n",
              "        vertical-align: middle;\n",
              "    }\n",
              "\n",
              "    .dataframe tbody tr th {\n",
              "        vertical-align: top;\n",
              "    }\n",
              "\n",
              "    .dataframe thead th {\n",
              "        text-align: right;\n",
              "    }\n",
              "</style>\n",
              "<table border=\"1\" class=\"dataframe\">\n",
              "  <thead>\n",
              "    <tr style=\"text-align: right;\">\n",
              "      <th></th>\n",
              "      <th>code</th>\n",
              "      <th>country</th>\n",
              "      <th>population</th>\n",
              "      <th>area</th>\n",
              "      <th>capital</th>\n",
              "    </tr>\n",
              "  </thead>\n",
              "  <tbody>\n",
              "    <tr>\n",
              "      <th>0</th>\n",
              "      <td>BR</td>\n",
              "      <td>Brazil</td>\n",
              "      <td>200</td>\n",
              "      <td>8515767</td>\n",
              "      <td>Brasilia</td>\n",
              "    </tr>\n",
              "    <tr>\n",
              "      <th>1</th>\n",
              "      <td>RU</td>\n",
              "      <td>Russia</td>\n",
              "      <td>144</td>\n",
              "      <td>17098242</td>\n",
              "      <td>Moscow</td>\n",
              "    </tr>\n",
              "    <tr>\n",
              "      <th>2</th>\n",
              "      <td>IN</td>\n",
              "      <td>India</td>\n",
              "      <td>1252</td>\n",
              "      <td>3287590</td>\n",
              "      <td>New Delhi</td>\n",
              "    </tr>\n",
              "    <tr>\n",
              "      <th>3</th>\n",
              "      <td>CH</td>\n",
              "      <td>China</td>\n",
              "      <td>1357</td>\n",
              "      <td>9596961</td>\n",
              "      <td>Beijing</td>\n",
              "    </tr>\n",
              "    <tr>\n",
              "      <th>4</th>\n",
              "      <td>SA</td>\n",
              "      <td>South Africa</td>\n",
              "      <td>55</td>\n",
              "      <td>1221037</td>\n",
              "      <td>Pretoria</td>\n",
              "    </tr>\n",
              "  </tbody>\n",
              "</table>\n",
              "</div>"
            ],
            "text/plain": [
              "  code       country  population      area    capital\n",
              "0   BR        Brazil         200   8515767   Brasilia\n",
              "1   RU        Russia         144  17098242     Moscow\n",
              "2   IN         India        1252   3287590  New Delhi\n",
              "3   CH         China        1357   9596961    Beijing\n",
              "4   SA  South Africa          55   1221037   Pretoria"
            ]
          },
          "metadata": {
            "tags": []
          },
          "execution_count": 3
        }
      ]
    },
    {
      "cell_type": "code",
      "metadata": {
        "colab": {
          "base_uri": "https://localhost:8080/"
        },
        "id": "qQp76UHU734h",
        "outputId": "7c818b85-aa76-48b0-d04e-172d3e195df3"
      },
      "source": [
        "print(brics)"
      ],
      "execution_count": null,
      "outputs": [
        {
          "output_type": "stream",
          "text": [
            "  code       country  population      area    capital\n",
            "0   BR        Brazil         200   8515767   Brasilia\n",
            "1   RU        Russia         144  17098242     Moscow\n",
            "2   IN         India        1252   3287590  New Delhi\n",
            "3   CH         China        1357   9596961    Beijing\n",
            "4   SA  South Africa          55   1221037   Pretoria\n"
          ],
          "name": "stdout"
        }
      ]
    },
    {
      "cell_type": "code",
      "metadata": {
        "colab": {
          "base_uri": "https://localhost:8080/"
        },
        "id": "eMrDi4Ka8Dzo",
        "outputId": "0d5a78d6-efbd-4f42-c88b-40b45a36a77a"
      },
      "source": [
        "brics.info()"
      ],
      "execution_count": null,
      "outputs": [
        {
          "output_type": "stream",
          "text": [
            "<class 'pandas.core.frame.DataFrame'>\n",
            "RangeIndex: 5 entries, 0 to 4\n",
            "Data columns (total 5 columns):\n",
            " #   Column      Non-Null Count  Dtype \n",
            "---  ------      --------------  ----- \n",
            " 0   code        5 non-null      object\n",
            " 1   country     5 non-null      object\n",
            " 2   population  5 non-null      int64 \n",
            " 3   area        5 non-null      int64 \n",
            " 4   capital     5 non-null      object\n",
            "dtypes: int64(2), object(3)\n",
            "memory usage: 328.0+ bytes\n"
          ],
          "name": "stdout"
        }
      ]
    },
    {
      "cell_type": "code",
      "metadata": {
        "colab": {
          "base_uri": "https://localhost:8080/"
        },
        "id": "nwvvucnD88_U",
        "outputId": "a03bbe9d-8894-4625-cb44-28783c7c300a"
      },
      "source": [
        "brics.value_counts()"
      ],
      "execution_count": null,
      "outputs": [
        {
          "output_type": "execute_result",
          "data": {
            "text/plain": [
              "code  country       population  area      capital  \n",
              "SA    South Africa  55          1221037   Pretoria     1\n",
              "RU    Russia        144         17098242  Moscow       1\n",
              "IN    India         1252        3287590   New Delhi    1\n",
              "CH    China         1357        9596961   Beijing      1\n",
              "BR    Brazil        200         8515767   Brasilia     1\n",
              "dtype: int64"
            ]
          },
          "metadata": {
            "tags": []
          },
          "execution_count": 6
        }
      ]
    },
    {
      "cell_type": "code",
      "metadata": {
        "colab": {
          "base_uri": "https://localhost:8080/",
          "height": 202
        },
        "id": "dkPlS2Px9Lgi",
        "outputId": "6f980028-dafb-4d2d-fded-8b079212d4ed"
      },
      "source": [
        "brics.sort_values(by=['code'])"
      ],
      "execution_count": null,
      "outputs": [
        {
          "output_type": "execute_result",
          "data": {
            "text/html": [
              "<div>\n",
              "<style scoped>\n",
              "    .dataframe tbody tr th:only-of-type {\n",
              "        vertical-align: middle;\n",
              "    }\n",
              "\n",
              "    .dataframe tbody tr th {\n",
              "        vertical-align: top;\n",
              "    }\n",
              "\n",
              "    .dataframe thead th {\n",
              "        text-align: right;\n",
              "    }\n",
              "</style>\n",
              "<table border=\"1\" class=\"dataframe\">\n",
              "  <thead>\n",
              "    <tr style=\"text-align: right;\">\n",
              "      <th></th>\n",
              "      <th>code</th>\n",
              "      <th>country</th>\n",
              "      <th>population</th>\n",
              "      <th>area</th>\n",
              "      <th>capital</th>\n",
              "    </tr>\n",
              "  </thead>\n",
              "  <tbody>\n",
              "    <tr>\n",
              "      <th>0</th>\n",
              "      <td>BR</td>\n",
              "      <td>Brazil</td>\n",
              "      <td>200</td>\n",
              "      <td>8515767</td>\n",
              "      <td>Brasilia</td>\n",
              "    </tr>\n",
              "    <tr>\n",
              "      <th>3</th>\n",
              "      <td>CH</td>\n",
              "      <td>China</td>\n",
              "      <td>1357</td>\n",
              "      <td>9596961</td>\n",
              "      <td>Beijing</td>\n",
              "    </tr>\n",
              "    <tr>\n",
              "      <th>2</th>\n",
              "      <td>IN</td>\n",
              "      <td>India</td>\n",
              "      <td>1252</td>\n",
              "      <td>3287590</td>\n",
              "      <td>New Delhi</td>\n",
              "    </tr>\n",
              "    <tr>\n",
              "      <th>1</th>\n",
              "      <td>RU</td>\n",
              "      <td>Russia</td>\n",
              "      <td>144</td>\n",
              "      <td>17098242</td>\n",
              "      <td>Moscow</td>\n",
              "    </tr>\n",
              "    <tr>\n",
              "      <th>4</th>\n",
              "      <td>SA</td>\n",
              "      <td>South Africa</td>\n",
              "      <td>55</td>\n",
              "      <td>1221037</td>\n",
              "      <td>Pretoria</td>\n",
              "    </tr>\n",
              "  </tbody>\n",
              "</table>\n",
              "</div>"
            ],
            "text/plain": [
              "  code       country  population      area    capital\n",
              "0   BR        Brazil         200   8515767   Brasilia\n",
              "3   CH         China        1357   9596961    Beijing\n",
              "2   IN         India        1252   3287590  New Delhi\n",
              "1   RU        Russia         144  17098242     Moscow\n",
              "4   SA  South Africa          55   1221037   Pretoria"
            ]
          },
          "metadata": {
            "tags": []
          },
          "execution_count": 7
        }
      ]
    },
    {
      "cell_type": "code",
      "metadata": {
        "colab": {
          "base_uri": "https://localhost:8080/",
          "height": 202
        },
        "id": "kL-gRXJW9q5d",
        "outputId": "0e0c9d2e-7767-4be5-aa39-8a9bc6e355e7"
      },
      "source": [
        "# Sorting in descending order.\n",
        "brics.sort_values(by=['code'], ascending = False)"
      ],
      "execution_count": null,
      "outputs": [
        {
          "output_type": "execute_result",
          "data": {
            "text/html": [
              "<div>\n",
              "<style scoped>\n",
              "    .dataframe tbody tr th:only-of-type {\n",
              "        vertical-align: middle;\n",
              "    }\n",
              "\n",
              "    .dataframe tbody tr th {\n",
              "        vertical-align: top;\n",
              "    }\n",
              "\n",
              "    .dataframe thead th {\n",
              "        text-align: right;\n",
              "    }\n",
              "</style>\n",
              "<table border=\"1\" class=\"dataframe\">\n",
              "  <thead>\n",
              "    <tr style=\"text-align: right;\">\n",
              "      <th></th>\n",
              "      <th>code</th>\n",
              "      <th>country</th>\n",
              "      <th>population</th>\n",
              "      <th>area</th>\n",
              "      <th>capital</th>\n",
              "    </tr>\n",
              "  </thead>\n",
              "  <tbody>\n",
              "    <tr>\n",
              "      <th>4</th>\n",
              "      <td>SA</td>\n",
              "      <td>South Africa</td>\n",
              "      <td>55</td>\n",
              "      <td>1221037</td>\n",
              "      <td>Pretoria</td>\n",
              "    </tr>\n",
              "    <tr>\n",
              "      <th>1</th>\n",
              "      <td>RU</td>\n",
              "      <td>Russia</td>\n",
              "      <td>144</td>\n",
              "      <td>17098242</td>\n",
              "      <td>Moscow</td>\n",
              "    </tr>\n",
              "    <tr>\n",
              "      <th>2</th>\n",
              "      <td>IN</td>\n",
              "      <td>India</td>\n",
              "      <td>1252</td>\n",
              "      <td>3287590</td>\n",
              "      <td>New Delhi</td>\n",
              "    </tr>\n",
              "    <tr>\n",
              "      <th>3</th>\n",
              "      <td>CH</td>\n",
              "      <td>China</td>\n",
              "      <td>1357</td>\n",
              "      <td>9596961</td>\n",
              "      <td>Beijing</td>\n",
              "    </tr>\n",
              "    <tr>\n",
              "      <th>0</th>\n",
              "      <td>BR</td>\n",
              "      <td>Brazil</td>\n",
              "      <td>200</td>\n",
              "      <td>8515767</td>\n",
              "      <td>Brasilia</td>\n",
              "    </tr>\n",
              "  </tbody>\n",
              "</table>\n",
              "</div>"
            ],
            "text/plain": [
              "  code       country  population      area    capital\n",
              "4   SA  South Africa          55   1221037   Pretoria\n",
              "1   RU        Russia         144  17098242     Moscow\n",
              "2   IN         India        1252   3287590  New Delhi\n",
              "3   CH         China        1357   9596961    Beijing\n",
              "0   BR        Brazil         200   8515767   Brasilia"
            ]
          },
          "metadata": {
            "tags": []
          },
          "execution_count": 8
        }
      ]
    },
    {
      "cell_type": "code",
      "metadata": {
        "colab": {
          "base_uri": "https://localhost:8080/"
        },
        "id": "z3qYSQgw99t1",
        "outputId": "795b52c8-7c55-4178-b350-5ee5e8a46dc3"
      },
      "source": [
        "print(brics) #sorting the data can not changes the data in original dataframe"
      ],
      "execution_count": null,
      "outputs": [
        {
          "output_type": "stream",
          "text": [
            "  code       country  population      area    capital\n",
            "0   BR        Brazil         200   8515767   Brasilia\n",
            "1   RU        Russia         144  17098242     Moscow\n",
            "2   IN         India        1252   3287590  New Delhi\n",
            "3   CH         China        1357   9596961    Beijing\n",
            "4   SA  South Africa          55   1221037   Pretoria\n"
          ],
          "name": "stdout"
        }
      ]
    },
    {
      "cell_type": "code",
      "metadata": {
        "colab": {
          "base_uri": "https://localhost:8080/",
          "height": 202
        },
        "id": "hO8I92iz-NhI",
        "outputId": "f810de1c-d394-4ffc-c539-fd22c352c4bb"
      },
      "source": [
        "# lets Sort the data to see which country has largest population ( population is in millions)\n",
        "brics.sort_values(by=['population'],ascending = False)\n",
        "\n",
        "# china has the largest population country"
      ],
      "execution_count": null,
      "outputs": [
        {
          "output_type": "execute_result",
          "data": {
            "text/html": [
              "<div>\n",
              "<style scoped>\n",
              "    .dataframe tbody tr th:only-of-type {\n",
              "        vertical-align: middle;\n",
              "    }\n",
              "\n",
              "    .dataframe tbody tr th {\n",
              "        vertical-align: top;\n",
              "    }\n",
              "\n",
              "    .dataframe thead th {\n",
              "        text-align: right;\n",
              "    }\n",
              "</style>\n",
              "<table border=\"1\" class=\"dataframe\">\n",
              "  <thead>\n",
              "    <tr style=\"text-align: right;\">\n",
              "      <th></th>\n",
              "      <th>code</th>\n",
              "      <th>country</th>\n",
              "      <th>population</th>\n",
              "      <th>area</th>\n",
              "      <th>capital</th>\n",
              "    </tr>\n",
              "  </thead>\n",
              "  <tbody>\n",
              "    <tr>\n",
              "      <th>3</th>\n",
              "      <td>CH</td>\n",
              "      <td>China</td>\n",
              "      <td>1357</td>\n",
              "      <td>9596961</td>\n",
              "      <td>Beijing</td>\n",
              "    </tr>\n",
              "    <tr>\n",
              "      <th>2</th>\n",
              "      <td>IN</td>\n",
              "      <td>India</td>\n",
              "      <td>1252</td>\n",
              "      <td>3287590</td>\n",
              "      <td>New Delhi</td>\n",
              "    </tr>\n",
              "    <tr>\n",
              "      <th>0</th>\n",
              "      <td>BR</td>\n",
              "      <td>Brazil</td>\n",
              "      <td>200</td>\n",
              "      <td>8515767</td>\n",
              "      <td>Brasilia</td>\n",
              "    </tr>\n",
              "    <tr>\n",
              "      <th>1</th>\n",
              "      <td>RU</td>\n",
              "      <td>Russia</td>\n",
              "      <td>144</td>\n",
              "      <td>17098242</td>\n",
              "      <td>Moscow</td>\n",
              "    </tr>\n",
              "    <tr>\n",
              "      <th>4</th>\n",
              "      <td>SA</td>\n",
              "      <td>South Africa</td>\n",
              "      <td>55</td>\n",
              "      <td>1221037</td>\n",
              "      <td>Pretoria</td>\n",
              "    </tr>\n",
              "  </tbody>\n",
              "</table>\n",
              "</div>"
            ],
            "text/plain": [
              "  code       country  population      area    capital\n",
              "3   CH         China        1357   9596961    Beijing\n",
              "2   IN         India        1252   3287590  New Delhi\n",
              "0   BR        Brazil         200   8515767   Brasilia\n",
              "1   RU        Russia         144  17098242     Moscow\n",
              "4   SA  South Africa          55   1221037   Pretoria"
            ]
          },
          "metadata": {
            "tags": []
          },
          "execution_count": 10
        }
      ]
    },
    {
      "cell_type": "code",
      "metadata": {
        "colab": {
          "base_uri": "https://localhost:8080/",
          "height": 202
        },
        "id": "vH3GeAdl-zZb",
        "outputId": "88899d96-7a1d-497c-a66a-26bff278c3f1"
      },
      "source": [
        "# lets Sort the data to see which country is smallest in size.\n",
        "brics.sort_values(by=['area'])\n",
        "\n",
        "# South Africa is the country which has the smallest in size"
      ],
      "execution_count": null,
      "outputs": [
        {
          "output_type": "execute_result",
          "data": {
            "text/html": [
              "<div>\n",
              "<style scoped>\n",
              "    .dataframe tbody tr th:only-of-type {\n",
              "        vertical-align: middle;\n",
              "    }\n",
              "\n",
              "    .dataframe tbody tr th {\n",
              "        vertical-align: top;\n",
              "    }\n",
              "\n",
              "    .dataframe thead th {\n",
              "        text-align: right;\n",
              "    }\n",
              "</style>\n",
              "<table border=\"1\" class=\"dataframe\">\n",
              "  <thead>\n",
              "    <tr style=\"text-align: right;\">\n",
              "      <th></th>\n",
              "      <th>code</th>\n",
              "      <th>country</th>\n",
              "      <th>population</th>\n",
              "      <th>area</th>\n",
              "      <th>capital</th>\n",
              "    </tr>\n",
              "  </thead>\n",
              "  <tbody>\n",
              "    <tr>\n",
              "      <th>4</th>\n",
              "      <td>SA</td>\n",
              "      <td>South Africa</td>\n",
              "      <td>55</td>\n",
              "      <td>1221037</td>\n",
              "      <td>Pretoria</td>\n",
              "    </tr>\n",
              "    <tr>\n",
              "      <th>2</th>\n",
              "      <td>IN</td>\n",
              "      <td>India</td>\n",
              "      <td>1252</td>\n",
              "      <td>3287590</td>\n",
              "      <td>New Delhi</td>\n",
              "    </tr>\n",
              "    <tr>\n",
              "      <th>0</th>\n",
              "      <td>BR</td>\n",
              "      <td>Brazil</td>\n",
              "      <td>200</td>\n",
              "      <td>8515767</td>\n",
              "      <td>Brasilia</td>\n",
              "    </tr>\n",
              "    <tr>\n",
              "      <th>3</th>\n",
              "      <td>CH</td>\n",
              "      <td>China</td>\n",
              "      <td>1357</td>\n",
              "      <td>9596961</td>\n",
              "      <td>Beijing</td>\n",
              "    </tr>\n",
              "    <tr>\n",
              "      <th>1</th>\n",
              "      <td>RU</td>\n",
              "      <td>Russia</td>\n",
              "      <td>144</td>\n",
              "      <td>17098242</td>\n",
              "      <td>Moscow</td>\n",
              "    </tr>\n",
              "  </tbody>\n",
              "</table>\n",
              "</div>"
            ],
            "text/plain": [
              "  code       country  population      area    capital\n",
              "4   SA  South Africa          55   1221037   Pretoria\n",
              "2   IN         India        1252   3287590  New Delhi\n",
              "0   BR        Brazil         200   8515767   Brasilia\n",
              "3   CH         China        1357   9596961    Beijing\n",
              "1   RU        Russia         144  17098242     Moscow"
            ]
          },
          "metadata": {
            "tags": []
          },
          "execution_count": 11
        }
      ]
    },
    {
      "cell_type": "code",
      "metadata": {
        "colab": {
          "base_uri": "https://localhost:8080/"
        },
        "id": "z2bGBeUq_V3B",
        "outputId": "12918468-53f6-4f73-baaa-adc788c55cd0"
      },
      "source": [
        "# Sorting and printing just one column.\n",
        "\n",
        "brics.country.sort_values(ascending=False)"
      ],
      "execution_count": null,
      "outputs": [
        {
          "output_type": "execute_result",
          "data": {
            "text/plain": [
              "4    South Africa\n",
              "1          Russia\n",
              "2           India\n",
              "3           China\n",
              "0          Brazil\n",
              "Name: country, dtype: object"
            ]
          },
          "metadata": {
            "tags": []
          },
          "execution_count": 12
        }
      ]
    },
    {
      "cell_type": "code",
      "metadata": {
        "colab": {
          "base_uri": "https://localhost:8080/"
        },
        "id": "2u_0I439_xua",
        "outputId": "46c7bda5-7b54-4f67-8ab9-2e667a3335c6"
      },
      "source": [
        "# lets Sort and print area column on from largest to smallest\n",
        "brics.area.sort_values(ascending=False)"
      ],
      "execution_count": null,
      "outputs": [
        {
          "output_type": "execute_result",
          "data": {
            "text/plain": [
              "1    17098242\n",
              "3     9596961\n",
              "0     8515767\n",
              "2     3287590\n",
              "4     1221037\n",
              "Name: area, dtype: int64"
            ]
          },
          "metadata": {
            "tags": []
          },
          "execution_count": 13
        }
      ]
    },
    {
      "cell_type": "code",
      "metadata": {
        "colab": {
          "base_uri": "https://localhost:8080/",
          "height": 35
        },
        "id": "PrsrngbhAEXh",
        "outputId": "eb505769-083a-4696-e280-3e38fc4955e5"
      },
      "source": [
        "brics.country[1]"
      ],
      "execution_count": null,
      "outputs": [
        {
          "output_type": "execute_result",
          "data": {
            "application/vnd.google.colaboratory.intrinsic+json": {
              "type": "string"
            },
            "text/plain": [
              "'Russia'"
            ]
          },
          "metadata": {
            "tags": []
          },
          "execution_count": 14
        }
      ]
    },
    {
      "cell_type": "code",
      "metadata": {
        "colab": {
          "base_uri": "https://localhost:8080/"
        },
        "id": "31sDNLyjAhnu",
        "outputId": "0bdb85db-f6d6-4bd7-a1f5-f98a462238b7"
      },
      "source": [
        "# Getting single column from a dataframe\n",
        "\n",
        "print(brics[\"country\"])"
      ],
      "execution_count": null,
      "outputs": [
        {
          "output_type": "stream",
          "text": [
            "0          Brazil\n",
            "1          Russia\n",
            "2           India\n",
            "3           China\n",
            "4    South Africa\n",
            "Name: country, dtype: object\n"
          ],
          "name": "stdout"
        }
      ]
    },
    {
      "cell_type": "code",
      "metadata": {
        "colab": {
          "base_uri": "https://localhost:8080/"
        },
        "id": "O5fo___2Ao1f",
        "outputId": "f9e0427a-4d1e-4288-ea23-9559620f182d"
      },
      "source": [
        "# lets Print area column from brics dataframe\n",
        "print(brics['area'])"
      ],
      "execution_count": null,
      "outputs": [
        {
          "output_type": "stream",
          "text": [
            "0     8515767\n",
            "1    17098242\n",
            "2     3287590\n",
            "3     9596961\n",
            "4     1221037\n",
            "Name: area, dtype: int64\n"
          ],
          "name": "stdout"
        }
      ]
    },
    {
      "cell_type": "code",
      "metadata": {
        "colab": {
          "base_uri": "https://localhost:8080/"
        },
        "id": "zGH6TEQuBNP9",
        "outputId": "b2c23230-d31d-459d-8560-deb81ae28a9f"
      },
      "source": [
        "# Other way to get a single column from a dataframe - use dot\n",
        "\n",
        "brics.country"
      ],
      "execution_count": null,
      "outputs": [
        {
          "output_type": "execute_result",
          "data": {
            "text/plain": [
              "0          Brazil\n",
              "1          Russia\n",
              "2           India\n",
              "3           China\n",
              "4    South Africa\n",
              "Name: country, dtype: object"
            ]
          },
          "metadata": {
            "tags": []
          },
          "execution_count": 17
        }
      ]
    },
    {
      "cell_type": "code",
      "metadata": {
        "colab": {
          "base_uri": "https://localhost:8080/"
        },
        "id": "Pim44SlUBVHa",
        "outputId": "746b3619-55a3-4a9f-e2f8-72b07cd7ac8d"
      },
      "source": [
        "# lets Print code column from the dataframe using dot\n",
        "brics.code"
      ],
      "execution_count": null,
      "outputs": [
        {
          "output_type": "execute_result",
          "data": {
            "text/plain": [
              "0    BR\n",
              "1    RU\n",
              "2    IN\n",
              "3    CH\n",
              "4    SA\n",
              "Name: code, dtype: object"
            ]
          },
          "metadata": {
            "tags": []
          },
          "execution_count": 18
        }
      ]
    },
    {
      "cell_type": "code",
      "metadata": {
        "colab": {
          "base_uri": "https://localhost:8080/",
          "height": 202
        },
        "id": "or2wpBVbBfiu",
        "outputId": "c2630716-37dc-49ec-a40e-9fd45070bd8a"
      },
      "source": [
        "# Pritning multiple columns\n",
        "brics[['country','capital']]"
      ],
      "execution_count": null,
      "outputs": [
        {
          "output_type": "execute_result",
          "data": {
            "text/html": [
              "<div>\n",
              "<style scoped>\n",
              "    .dataframe tbody tr th:only-of-type {\n",
              "        vertical-align: middle;\n",
              "    }\n",
              "\n",
              "    .dataframe tbody tr th {\n",
              "        vertical-align: top;\n",
              "    }\n",
              "\n",
              "    .dataframe thead th {\n",
              "        text-align: right;\n",
              "    }\n",
              "</style>\n",
              "<table border=\"1\" class=\"dataframe\">\n",
              "  <thead>\n",
              "    <tr style=\"text-align: right;\">\n",
              "      <th></th>\n",
              "      <th>country</th>\n",
              "      <th>capital</th>\n",
              "    </tr>\n",
              "  </thead>\n",
              "  <tbody>\n",
              "    <tr>\n",
              "      <th>0</th>\n",
              "      <td>Brazil</td>\n",
              "      <td>Brasilia</td>\n",
              "    </tr>\n",
              "    <tr>\n",
              "      <th>1</th>\n",
              "      <td>Russia</td>\n",
              "      <td>Moscow</td>\n",
              "    </tr>\n",
              "    <tr>\n",
              "      <th>2</th>\n",
              "      <td>India</td>\n",
              "      <td>New Delhi</td>\n",
              "    </tr>\n",
              "    <tr>\n",
              "      <th>3</th>\n",
              "      <td>China</td>\n",
              "      <td>Beijing</td>\n",
              "    </tr>\n",
              "    <tr>\n",
              "      <th>4</th>\n",
              "      <td>South Africa</td>\n",
              "      <td>Pretoria</td>\n",
              "    </tr>\n",
              "  </tbody>\n",
              "</table>\n",
              "</div>"
            ],
            "text/plain": [
              "        country    capital\n",
              "0        Brazil   Brasilia\n",
              "1        Russia     Moscow\n",
              "2         India  New Delhi\n",
              "3         China    Beijing\n",
              "4  South Africa   Pretoria"
            ]
          },
          "metadata": {
            "tags": []
          },
          "execution_count": 19
        }
      ]
    },
    {
      "cell_type": "code",
      "metadata": {
        "colab": {
          "base_uri": "https://localhost:8080/",
          "height": 202
        },
        "id": "a5SKpV_wBtvo",
        "outputId": "1a4d9c9e-2455-4c47-b4fe-781be819b5f4"
      },
      "source": [
        "# lets Print country, capital and population\n",
        "brics[['country','capital','population']]"
      ],
      "execution_count": null,
      "outputs": [
        {
          "output_type": "execute_result",
          "data": {
            "text/html": [
              "<div>\n",
              "<style scoped>\n",
              "    .dataframe tbody tr th:only-of-type {\n",
              "        vertical-align: middle;\n",
              "    }\n",
              "\n",
              "    .dataframe tbody tr th {\n",
              "        vertical-align: top;\n",
              "    }\n",
              "\n",
              "    .dataframe thead th {\n",
              "        text-align: right;\n",
              "    }\n",
              "</style>\n",
              "<table border=\"1\" class=\"dataframe\">\n",
              "  <thead>\n",
              "    <tr style=\"text-align: right;\">\n",
              "      <th></th>\n",
              "      <th>country</th>\n",
              "      <th>capital</th>\n",
              "      <th>population</th>\n",
              "    </tr>\n",
              "  </thead>\n",
              "  <tbody>\n",
              "    <tr>\n",
              "      <th>0</th>\n",
              "      <td>Brazil</td>\n",
              "      <td>Brasilia</td>\n",
              "      <td>200</td>\n",
              "    </tr>\n",
              "    <tr>\n",
              "      <th>1</th>\n",
              "      <td>Russia</td>\n",
              "      <td>Moscow</td>\n",
              "      <td>144</td>\n",
              "    </tr>\n",
              "    <tr>\n",
              "      <th>2</th>\n",
              "      <td>India</td>\n",
              "      <td>New Delhi</td>\n",
              "      <td>1252</td>\n",
              "    </tr>\n",
              "    <tr>\n",
              "      <th>3</th>\n",
              "      <td>China</td>\n",
              "      <td>Beijing</td>\n",
              "      <td>1357</td>\n",
              "    </tr>\n",
              "    <tr>\n",
              "      <th>4</th>\n",
              "      <td>South Africa</td>\n",
              "      <td>Pretoria</td>\n",
              "      <td>55</td>\n",
              "    </tr>\n",
              "  </tbody>\n",
              "</table>\n",
              "</div>"
            ],
            "text/plain": [
              "        country    capital  population\n",
              "0        Brazil   Brasilia         200\n",
              "1        Russia     Moscow         144\n",
              "2         India  New Delhi        1252\n",
              "3         China    Beijing        1357\n",
              "4  South Africa   Pretoria          55"
            ]
          },
          "metadata": {
            "tags": []
          },
          "execution_count": 20
        }
      ]
    },
    {
      "cell_type": "code",
      "metadata": {
        "colab": {
          "base_uri": "https://localhost:8080/",
          "height": 232
        },
        "id": "L5Alfx8WB5bw",
        "outputId": "24a7a04a-d173-45a1-ba98-1885e775cfbf"
      },
      "source": [
        "# use col 0 as index.\n",
        "\n",
        "brics = pd.read_csv(\"/content/brics.csv\",index_col=0)\n",
        "brics"
      ],
      "execution_count": null,
      "outputs": [
        {
          "output_type": "execute_result",
          "data": {
            "text/html": [
              "<div>\n",
              "<style scoped>\n",
              "    .dataframe tbody tr th:only-of-type {\n",
              "        vertical-align: middle;\n",
              "    }\n",
              "\n",
              "    .dataframe tbody tr th {\n",
              "        vertical-align: top;\n",
              "    }\n",
              "\n",
              "    .dataframe thead th {\n",
              "        text-align: right;\n",
              "    }\n",
              "</style>\n",
              "<table border=\"1\" class=\"dataframe\">\n",
              "  <thead>\n",
              "    <tr style=\"text-align: right;\">\n",
              "      <th></th>\n",
              "      <th>country</th>\n",
              "      <th>population</th>\n",
              "      <th>area</th>\n",
              "      <th>capital</th>\n",
              "    </tr>\n",
              "    <tr>\n",
              "      <th>code</th>\n",
              "      <th></th>\n",
              "      <th></th>\n",
              "      <th></th>\n",
              "      <th></th>\n",
              "    </tr>\n",
              "  </thead>\n",
              "  <tbody>\n",
              "    <tr>\n",
              "      <th>BR</th>\n",
              "      <td>Brazil</td>\n",
              "      <td>200</td>\n",
              "      <td>8515767</td>\n",
              "      <td>Brasilia</td>\n",
              "    </tr>\n",
              "    <tr>\n",
              "      <th>RU</th>\n",
              "      <td>Russia</td>\n",
              "      <td>144</td>\n",
              "      <td>17098242</td>\n",
              "      <td>Moscow</td>\n",
              "    </tr>\n",
              "    <tr>\n",
              "      <th>IN</th>\n",
              "      <td>India</td>\n",
              "      <td>1252</td>\n",
              "      <td>3287590</td>\n",
              "      <td>New Delhi</td>\n",
              "    </tr>\n",
              "    <tr>\n",
              "      <th>CH</th>\n",
              "      <td>China</td>\n",
              "      <td>1357</td>\n",
              "      <td>9596961</td>\n",
              "      <td>Beijing</td>\n",
              "    </tr>\n",
              "    <tr>\n",
              "      <th>SA</th>\n",
              "      <td>South Africa</td>\n",
              "      <td>55</td>\n",
              "      <td>1221037</td>\n",
              "      <td>Pretoria</td>\n",
              "    </tr>\n",
              "  </tbody>\n",
              "</table>\n",
              "</div>"
            ],
            "text/plain": [
              "           country  population      area    capital\n",
              "code                                               \n",
              "BR          Brazil         200   8515767   Brasilia\n",
              "RU          Russia         144  17098242     Moscow\n",
              "IN           India        1252   3287590  New Delhi\n",
              "CH           China        1357   9596961    Beijing\n",
              "SA    South Africa          55   1221037   Pretoria"
            ]
          },
          "metadata": {
            "tags": []
          },
          "execution_count": 21
        }
      ]
    },
    {
      "cell_type": "markdown",
      "metadata": {
        "id": "LhWbb7hBC8JD"
      },
      "source": [
        "# Transforming the dataframe"
      ]
    },
    {
      "cell_type": "code",
      "metadata": {
        "colab": {
          "base_uri": "https://localhost:8080/",
          "height": 232
        },
        "id": "BpiJ7kZ7DA4u",
        "outputId": "80673033-c598-431c-db93-a314172b459a"
      },
      "source": [
        "#Adding a new column to the existing Data Frame\n",
        "brics[\"on_earth\"] = [True, True, True, True, True]\n",
        "brics"
      ],
      "execution_count": null,
      "outputs": [
        {
          "output_type": "execute_result",
          "data": {
            "text/html": [
              "<div>\n",
              "<style scoped>\n",
              "    .dataframe tbody tr th:only-of-type {\n",
              "        vertical-align: middle;\n",
              "    }\n",
              "\n",
              "    .dataframe tbody tr th {\n",
              "        vertical-align: top;\n",
              "    }\n",
              "\n",
              "    .dataframe thead th {\n",
              "        text-align: right;\n",
              "    }\n",
              "</style>\n",
              "<table border=\"1\" class=\"dataframe\">\n",
              "  <thead>\n",
              "    <tr style=\"text-align: right;\">\n",
              "      <th></th>\n",
              "      <th>country</th>\n",
              "      <th>population</th>\n",
              "      <th>area</th>\n",
              "      <th>capital</th>\n",
              "      <th>on_earth</th>\n",
              "    </tr>\n",
              "    <tr>\n",
              "      <th>code</th>\n",
              "      <th></th>\n",
              "      <th></th>\n",
              "      <th></th>\n",
              "      <th></th>\n",
              "      <th></th>\n",
              "    </tr>\n",
              "  </thead>\n",
              "  <tbody>\n",
              "    <tr>\n",
              "      <th>BR</th>\n",
              "      <td>Brazil</td>\n",
              "      <td>200</td>\n",
              "      <td>8515767</td>\n",
              "      <td>Brasilia</td>\n",
              "      <td>True</td>\n",
              "    </tr>\n",
              "    <tr>\n",
              "      <th>RU</th>\n",
              "      <td>Russia</td>\n",
              "      <td>144</td>\n",
              "      <td>17098242</td>\n",
              "      <td>Moscow</td>\n",
              "      <td>True</td>\n",
              "    </tr>\n",
              "    <tr>\n",
              "      <th>IN</th>\n",
              "      <td>India</td>\n",
              "      <td>1252</td>\n",
              "      <td>3287590</td>\n",
              "      <td>New Delhi</td>\n",
              "      <td>True</td>\n",
              "    </tr>\n",
              "    <tr>\n",
              "      <th>CH</th>\n",
              "      <td>China</td>\n",
              "      <td>1357</td>\n",
              "      <td>9596961</td>\n",
              "      <td>Beijing</td>\n",
              "      <td>True</td>\n",
              "    </tr>\n",
              "    <tr>\n",
              "      <th>SA</th>\n",
              "      <td>South Africa</td>\n",
              "      <td>55</td>\n",
              "      <td>1221037</td>\n",
              "      <td>Pretoria</td>\n",
              "      <td>True</td>\n",
              "    </tr>\n",
              "  </tbody>\n",
              "</table>\n",
              "</div>"
            ],
            "text/plain": [
              "           country  population      area    capital  on_earth\n",
              "code                                                         \n",
              "BR          Brazil         200   8515767   Brasilia      True\n",
              "RU          Russia         144  17098242     Moscow      True\n",
              "IN           India        1252   3287590  New Delhi      True\n",
              "CH           China        1357   9596961    Beijing      True\n",
              "SA    South Africa          55   1221037   Pretoria      True"
            ]
          },
          "metadata": {
            "tags": []
          },
          "execution_count": 22
        }
      ]
    },
    {
      "cell_type": "code",
      "metadata": {
        "colab": {
          "base_uri": "https://localhost:8080/",
          "height": 232
        },
        "id": "kbeN1pCHDG9Q",
        "outputId": "cd21d98b-d9fb-4a0c-e6cb-5988fdf5db8f"
      },
      "source": [
        "# adding a calculated column\n",
        "brics[\"density\"] = brics[\"population\"] / brics[\"area\"] * 1000000   # per km sq.\n",
        "brics"
      ],
      "execution_count": null,
      "outputs": [
        {
          "output_type": "execute_result",
          "data": {
            "text/html": [
              "<div>\n",
              "<style scoped>\n",
              "    .dataframe tbody tr th:only-of-type {\n",
              "        vertical-align: middle;\n",
              "    }\n",
              "\n",
              "    .dataframe tbody tr th {\n",
              "        vertical-align: top;\n",
              "    }\n",
              "\n",
              "    .dataframe thead th {\n",
              "        text-align: right;\n",
              "    }\n",
              "</style>\n",
              "<table border=\"1\" class=\"dataframe\">\n",
              "  <thead>\n",
              "    <tr style=\"text-align: right;\">\n",
              "      <th></th>\n",
              "      <th>country</th>\n",
              "      <th>population</th>\n",
              "      <th>area</th>\n",
              "      <th>capital</th>\n",
              "      <th>on_earth</th>\n",
              "      <th>density</th>\n",
              "    </tr>\n",
              "    <tr>\n",
              "      <th>code</th>\n",
              "      <th></th>\n",
              "      <th></th>\n",
              "      <th></th>\n",
              "      <th></th>\n",
              "      <th></th>\n",
              "      <th></th>\n",
              "    </tr>\n",
              "  </thead>\n",
              "  <tbody>\n",
              "    <tr>\n",
              "      <th>BR</th>\n",
              "      <td>Brazil</td>\n",
              "      <td>200</td>\n",
              "      <td>8515767</td>\n",
              "      <td>Brasilia</td>\n",
              "      <td>True</td>\n",
              "      <td>23.485847</td>\n",
              "    </tr>\n",
              "    <tr>\n",
              "      <th>RU</th>\n",
              "      <td>Russia</td>\n",
              "      <td>144</td>\n",
              "      <td>17098242</td>\n",
              "      <td>Moscow</td>\n",
              "      <td>True</td>\n",
              "      <td>8.421918</td>\n",
              "    </tr>\n",
              "    <tr>\n",
              "      <th>IN</th>\n",
              "      <td>India</td>\n",
              "      <td>1252</td>\n",
              "      <td>3287590</td>\n",
              "      <td>New Delhi</td>\n",
              "      <td>True</td>\n",
              "      <td>380.826076</td>\n",
              "    </tr>\n",
              "    <tr>\n",
              "      <th>CH</th>\n",
              "      <td>China</td>\n",
              "      <td>1357</td>\n",
              "      <td>9596961</td>\n",
              "      <td>Beijing</td>\n",
              "      <td>True</td>\n",
              "      <td>141.398928</td>\n",
              "    </tr>\n",
              "    <tr>\n",
              "      <th>SA</th>\n",
              "      <td>South Africa</td>\n",
              "      <td>55</td>\n",
              "      <td>1221037</td>\n",
              "      <td>Pretoria</td>\n",
              "      <td>True</td>\n",
              "      <td>45.043680</td>\n",
              "    </tr>\n",
              "  </tbody>\n",
              "</table>\n",
              "</div>"
            ],
            "text/plain": [
              "           country  population      area    capital  on_earth     density\n",
              "code                                                                     \n",
              "BR          Brazil         200   8515767   Brasilia      True   23.485847\n",
              "RU          Russia         144  17098242     Moscow      True    8.421918\n",
              "IN           India        1252   3287590  New Delhi      True  380.826076\n",
              "CH           China        1357   9596961    Beijing      True  141.398928\n",
              "SA    South Africa          55   1221037   Pretoria      True   45.043680"
            ]
          },
          "metadata": {
            "tags": []
          },
          "execution_count": 23
        }
      ]
    },
    {
      "cell_type": "markdown",
      "metadata": {
        "id": "JyQn8A23DnWp"
      },
      "source": [
        "###Removing the additional decimal points or setting the precision can be done on the entire dataframe."
      ]
    },
    {
      "cell_type": "code",
      "metadata": {
        "colab": {
          "base_uri": "https://localhost:8080/",
          "height": 156
        },
        "id": "rErOEF3DDo8t",
        "outputId": "51fb14e0-dff8-44b1-9f1e-ea92f49f7e08"
      },
      "source": [
        "brics.style.set_precision(2)  # Upto 2 decimal points for all float columns in the dataframe. \n",
        "\n",
        "# This WILL NOT change the original dataframe i.e. the original dataframe will still have multiple digits after decimals."
      ],
      "execution_count": null,
      "outputs": [
        {
          "output_type": "execute_result",
          "data": {
            "text/html": [
              "<style  type=\"text/css\" >\n",
              "</style><table id=\"T_28682a54_fe64_11eb_9632_0242ac1c0002\" ><thead>    <tr>        <th class=\"blank level0\" ></th>        <th class=\"col_heading level0 col0\" >country</th>        <th class=\"col_heading level0 col1\" >population</th>        <th class=\"col_heading level0 col2\" >area</th>        <th class=\"col_heading level0 col3\" >capital</th>        <th class=\"col_heading level0 col4\" >on_earth</th>        <th class=\"col_heading level0 col5\" >density</th>    </tr>    <tr>        <th class=\"index_name level0\" >code</th>        <th class=\"blank\" ></th>        <th class=\"blank\" ></th>        <th class=\"blank\" ></th>        <th class=\"blank\" ></th>        <th class=\"blank\" ></th>        <th class=\"blank\" ></th>    </tr></thead><tbody>\n",
              "                <tr>\n",
              "                        <th id=\"T_28682a54_fe64_11eb_9632_0242ac1c0002level0_row0\" class=\"row_heading level0 row0\" >BR</th>\n",
              "                        <td id=\"T_28682a54_fe64_11eb_9632_0242ac1c0002row0_col0\" class=\"data row0 col0\" >Brazil</td>\n",
              "                        <td id=\"T_28682a54_fe64_11eb_9632_0242ac1c0002row0_col1\" class=\"data row0 col1\" >200</td>\n",
              "                        <td id=\"T_28682a54_fe64_11eb_9632_0242ac1c0002row0_col2\" class=\"data row0 col2\" >8515767</td>\n",
              "                        <td id=\"T_28682a54_fe64_11eb_9632_0242ac1c0002row0_col3\" class=\"data row0 col3\" >Brasilia</td>\n",
              "                        <td id=\"T_28682a54_fe64_11eb_9632_0242ac1c0002row0_col4\" class=\"data row0 col4\" >True</td>\n",
              "                        <td id=\"T_28682a54_fe64_11eb_9632_0242ac1c0002row0_col5\" class=\"data row0 col5\" >23.49</td>\n",
              "            </tr>\n",
              "            <tr>\n",
              "                        <th id=\"T_28682a54_fe64_11eb_9632_0242ac1c0002level0_row1\" class=\"row_heading level0 row1\" >RU</th>\n",
              "                        <td id=\"T_28682a54_fe64_11eb_9632_0242ac1c0002row1_col0\" class=\"data row1 col0\" >Russia</td>\n",
              "                        <td id=\"T_28682a54_fe64_11eb_9632_0242ac1c0002row1_col1\" class=\"data row1 col1\" >144</td>\n",
              "                        <td id=\"T_28682a54_fe64_11eb_9632_0242ac1c0002row1_col2\" class=\"data row1 col2\" >17098242</td>\n",
              "                        <td id=\"T_28682a54_fe64_11eb_9632_0242ac1c0002row1_col3\" class=\"data row1 col3\" >Moscow</td>\n",
              "                        <td id=\"T_28682a54_fe64_11eb_9632_0242ac1c0002row1_col4\" class=\"data row1 col4\" >True</td>\n",
              "                        <td id=\"T_28682a54_fe64_11eb_9632_0242ac1c0002row1_col5\" class=\"data row1 col5\" >8.42</td>\n",
              "            </tr>\n",
              "            <tr>\n",
              "                        <th id=\"T_28682a54_fe64_11eb_9632_0242ac1c0002level0_row2\" class=\"row_heading level0 row2\" >IN</th>\n",
              "                        <td id=\"T_28682a54_fe64_11eb_9632_0242ac1c0002row2_col0\" class=\"data row2 col0\" >India</td>\n",
              "                        <td id=\"T_28682a54_fe64_11eb_9632_0242ac1c0002row2_col1\" class=\"data row2 col1\" >1252</td>\n",
              "                        <td id=\"T_28682a54_fe64_11eb_9632_0242ac1c0002row2_col2\" class=\"data row2 col2\" >3287590</td>\n",
              "                        <td id=\"T_28682a54_fe64_11eb_9632_0242ac1c0002row2_col3\" class=\"data row2 col3\" >New Delhi</td>\n",
              "                        <td id=\"T_28682a54_fe64_11eb_9632_0242ac1c0002row2_col4\" class=\"data row2 col4\" >True</td>\n",
              "                        <td id=\"T_28682a54_fe64_11eb_9632_0242ac1c0002row2_col5\" class=\"data row2 col5\" >380.83</td>\n",
              "            </tr>\n",
              "            <tr>\n",
              "                        <th id=\"T_28682a54_fe64_11eb_9632_0242ac1c0002level0_row3\" class=\"row_heading level0 row3\" >CH</th>\n",
              "                        <td id=\"T_28682a54_fe64_11eb_9632_0242ac1c0002row3_col0\" class=\"data row3 col0\" >China</td>\n",
              "                        <td id=\"T_28682a54_fe64_11eb_9632_0242ac1c0002row3_col1\" class=\"data row3 col1\" >1357</td>\n",
              "                        <td id=\"T_28682a54_fe64_11eb_9632_0242ac1c0002row3_col2\" class=\"data row3 col2\" >9596961</td>\n",
              "                        <td id=\"T_28682a54_fe64_11eb_9632_0242ac1c0002row3_col3\" class=\"data row3 col3\" >Beijing</td>\n",
              "                        <td id=\"T_28682a54_fe64_11eb_9632_0242ac1c0002row3_col4\" class=\"data row3 col4\" >True</td>\n",
              "                        <td id=\"T_28682a54_fe64_11eb_9632_0242ac1c0002row3_col5\" class=\"data row3 col5\" >141.40</td>\n",
              "            </tr>\n",
              "            <tr>\n",
              "                        <th id=\"T_28682a54_fe64_11eb_9632_0242ac1c0002level0_row4\" class=\"row_heading level0 row4\" >SA</th>\n",
              "                        <td id=\"T_28682a54_fe64_11eb_9632_0242ac1c0002row4_col0\" class=\"data row4 col0\" >South Africa</td>\n",
              "                        <td id=\"T_28682a54_fe64_11eb_9632_0242ac1c0002row4_col1\" class=\"data row4 col1\" >55</td>\n",
              "                        <td id=\"T_28682a54_fe64_11eb_9632_0242ac1c0002row4_col2\" class=\"data row4 col2\" >1221037</td>\n",
              "                        <td id=\"T_28682a54_fe64_11eb_9632_0242ac1c0002row4_col3\" class=\"data row4 col3\" >Pretoria</td>\n",
              "                        <td id=\"T_28682a54_fe64_11eb_9632_0242ac1c0002row4_col4\" class=\"data row4 col4\" >True</td>\n",
              "                        <td id=\"T_28682a54_fe64_11eb_9632_0242ac1c0002row4_col5\" class=\"data row4 col5\" >45.04</td>\n",
              "            </tr>\n",
              "    </tbody></table>"
            ],
            "text/plain": [
              "<pandas.io.formats.style.Styler at 0x7f912a8e1490>"
            ]
          },
          "metadata": {
            "tags": []
          },
          "execution_count": 24
        }
      ]
    },
    {
      "cell_type": "code",
      "metadata": {
        "colab": {
          "base_uri": "https://localhost:8080/"
        },
        "id": "V4w3KuOID0wD",
        "outputId": "570b85c5-f1a3-416b-eeef-f34d8b59d6bf"
      },
      "source": [
        "brics[\"density\"].round(2) # Rounding of individual column to fixed decimal points."
      ],
      "execution_count": null,
      "outputs": [
        {
          "output_type": "execute_result",
          "data": {
            "text/plain": [
              "code\n",
              "BR     23.49\n",
              "RU      8.42\n",
              "IN    380.83\n",
              "CH    141.40\n",
              "SA     45.04\n",
              "Name: density, dtype: float64"
            ]
          },
          "metadata": {
            "tags": []
          },
          "execution_count": 25
        }
      ]
    },
    {
      "cell_type": "markdown",
      "metadata": {
        "id": "tT5CQZgZEWaX"
      },
      "source": [
        "# Fetching data using indices and location functions (.loc and .iloc)"
      ]
    },
    {
      "cell_type": "code",
      "metadata": {
        "colab": {
          "base_uri": "https://localhost:8080/",
          "height": 232
        },
        "id": "1ziWLmaTEYcQ",
        "outputId": "f17d67fd-7fe1-446a-a5c9-f2b1cbc75f60"
      },
      "source": [
        "# let's first print the brics daraframe.\n",
        "brics"
      ],
      "execution_count": null,
      "outputs": [
        {
          "output_type": "execute_result",
          "data": {
            "text/html": [
              "<div>\n",
              "<style scoped>\n",
              "    .dataframe tbody tr th:only-of-type {\n",
              "        vertical-align: middle;\n",
              "    }\n",
              "\n",
              "    .dataframe tbody tr th {\n",
              "        vertical-align: top;\n",
              "    }\n",
              "\n",
              "    .dataframe thead th {\n",
              "        text-align: right;\n",
              "    }\n",
              "</style>\n",
              "<table border=\"1\" class=\"dataframe\">\n",
              "  <thead>\n",
              "    <tr style=\"text-align: right;\">\n",
              "      <th></th>\n",
              "      <th>country</th>\n",
              "      <th>population</th>\n",
              "      <th>area</th>\n",
              "      <th>capital</th>\n",
              "      <th>on_earth</th>\n",
              "      <th>density</th>\n",
              "    </tr>\n",
              "    <tr>\n",
              "      <th>code</th>\n",
              "      <th></th>\n",
              "      <th></th>\n",
              "      <th></th>\n",
              "      <th></th>\n",
              "      <th></th>\n",
              "      <th></th>\n",
              "    </tr>\n",
              "  </thead>\n",
              "  <tbody>\n",
              "    <tr>\n",
              "      <th>BR</th>\n",
              "      <td>Brazil</td>\n",
              "      <td>200</td>\n",
              "      <td>8515767</td>\n",
              "      <td>Brasilia</td>\n",
              "      <td>True</td>\n",
              "      <td>23.485847</td>\n",
              "    </tr>\n",
              "    <tr>\n",
              "      <th>RU</th>\n",
              "      <td>Russia</td>\n",
              "      <td>144</td>\n",
              "      <td>17098242</td>\n",
              "      <td>Moscow</td>\n",
              "      <td>True</td>\n",
              "      <td>8.421918</td>\n",
              "    </tr>\n",
              "    <tr>\n",
              "      <th>IN</th>\n",
              "      <td>India</td>\n",
              "      <td>1252</td>\n",
              "      <td>3287590</td>\n",
              "      <td>New Delhi</td>\n",
              "      <td>True</td>\n",
              "      <td>380.826076</td>\n",
              "    </tr>\n",
              "    <tr>\n",
              "      <th>CH</th>\n",
              "      <td>China</td>\n",
              "      <td>1357</td>\n",
              "      <td>9596961</td>\n",
              "      <td>Beijing</td>\n",
              "      <td>True</td>\n",
              "      <td>141.398928</td>\n",
              "    </tr>\n",
              "    <tr>\n",
              "      <th>SA</th>\n",
              "      <td>South Africa</td>\n",
              "      <td>55</td>\n",
              "      <td>1221037</td>\n",
              "      <td>Pretoria</td>\n",
              "      <td>True</td>\n",
              "      <td>45.043680</td>\n",
              "    </tr>\n",
              "  </tbody>\n",
              "</table>\n",
              "</div>"
            ],
            "text/plain": [
              "           country  population      area    capital  on_earth     density\n",
              "code                                                                     \n",
              "BR          Brazil         200   8515767   Brasilia      True   23.485847\n",
              "RU          Russia         144  17098242     Moscow      True    8.421918\n",
              "IN           India        1252   3287590  New Delhi      True  380.826076\n",
              "CH           China        1357   9596961    Beijing      True  141.398928\n",
              "SA    South Africa          55   1221037   Pretoria      True   45.043680"
            ]
          },
          "metadata": {
            "tags": []
          },
          "execution_count": 26
        }
      ]
    },
    {
      "cell_type": "code",
      "metadata": {
        "id": "Z7d3a_L0EtWG"
      },
      "source": [
        "# Notice that the indices are BR, RU, IN, CH and SA. However, their position (numerical index) are 0, 1, 2, 3 and 4."
      ],
      "execution_count": null,
      "outputs": []
    },
    {
      "cell_type": "code",
      "metadata": {
        "colab": {
          "base_uri": "https://localhost:8080/"
        },
        "id": "W1F26ho8E8hC",
        "outputId": "985e788f-eb02-4fa1-f433-e2c5e29c677a"
      },
      "source": [
        "brics.loc[\"SA\"]     # .loc is used with actual value of the index."
      ],
      "execution_count": null,
      "outputs": [
        {
          "output_type": "execute_result",
          "data": {
            "text/plain": [
              "country       South Africa\n",
              "population              55\n",
              "area               1221037\n",
              "capital           Pretoria\n",
              "on_earth              True\n",
              "density            45.0437\n",
              "Name: SA, dtype: object"
            ]
          },
          "metadata": {
            "tags": []
          },
          "execution_count": 28
        }
      ]
    },
    {
      "cell_type": "code",
      "metadata": {
        "colab": {
          "base_uri": "https://localhost:8080/"
        },
        "id": "kT_dPG02FC6V",
        "outputId": "fe293e9e-514e-4764-ac68-bb626095595b"
      },
      "source": [
        "brics.iloc[4]  # .loc is used when we are giving the index reference as number, not the actual value of the index."
      ],
      "execution_count": null,
      "outputs": [
        {
          "output_type": "execute_result",
          "data": {
            "text/plain": [
              "country       South Africa\n",
              "population              55\n",
              "area               1221037\n",
              "capital           Pretoria\n",
              "on_earth              True\n",
              "density            45.0437\n",
              "Name: SA, dtype: object"
            ]
          },
          "metadata": {
            "tags": []
          },
          "execution_count": 29
        }
      ]
    },
    {
      "cell_type": "code",
      "metadata": {
        "colab": {
          "base_uri": "https://localhost:8080/"
        },
        "id": "bicFT4GxFUSL",
        "outputId": "087db7f5-53fe-4b6a-848e-3ba32d1cfb19"
      },
      "source": [
        "# lets Use .loc to print the values from all columns for IN\n",
        "brics.loc['IN']"
      ],
      "execution_count": null,
      "outputs": [
        {
          "output_type": "execute_result",
          "data": {
            "text/plain": [
              "country           India\n",
              "population         1252\n",
              "area            3287590\n",
              "capital       New Delhi\n",
              "on_earth           True\n",
              "density         380.826\n",
              "Name: IN, dtype: object"
            ]
          },
          "metadata": {
            "tags": []
          },
          "execution_count": 30
        }
      ]
    },
    {
      "cell_type": "code",
      "metadata": {
        "colab": {
          "base_uri": "https://localhost:8080/"
        },
        "id": "DCF6_mKbFtq_",
        "outputId": "b7ba97d6-5541-448f-a758-1bdf711ba9ed"
      },
      "source": [
        "# lets Use .iloc to print the values from all columns from 3rd row (index number will be 1 less than the row number)\n",
        "brics.iloc[2]"
      ],
      "execution_count": null,
      "outputs": [
        {
          "output_type": "execute_result",
          "data": {
            "text/plain": [
              "country           India\n",
              "population         1252\n",
              "area            3287590\n",
              "capital       New Delhi\n",
              "on_earth           True\n",
              "density         380.826\n",
              "Name: IN, dtype: object"
            ]
          },
          "metadata": {
            "tags": []
          },
          "execution_count": 31
        }
      ]
    },
    {
      "cell_type": "markdown",
      "metadata": {
        "id": "IGqLAx3tGdkL"
      },
      "source": [
        "#Adding rows in the dataframe"
      ]
    },
    {
      "cell_type": "code",
      "metadata": {
        "id": "ow1uKNGDGggN"
      },
      "source": [
        "#ading a new ROW using append\n",
        "newrow = {'code':'WK', 'country':'Wakanda', 'population':5,'area':1000000,'capital':'Wakanda City','on_earth':False,'density':5}\n",
        "brics1 = brics.append(newrow,ignore_index=True)   # Ignoring the existing index.\n",
        "# Ignoring the existing index will result into new dataframe index 0,1,2,...."
      ],
      "execution_count": null,
      "outputs": []
    },
    {
      "cell_type": "code",
      "metadata": {
        "colab": {
          "base_uri": "https://localhost:8080/",
          "height": 232
        },
        "id": "DhH_h-c4G-AM",
        "outputId": "35c84385-fa0d-4cf0-dccd-c555b06bb231"
      },
      "source": [
        "brics1"
      ],
      "execution_count": null,
      "outputs": [
        {
          "output_type": "execute_result",
          "data": {
            "text/html": [
              "<div>\n",
              "<style scoped>\n",
              "    .dataframe tbody tr th:only-of-type {\n",
              "        vertical-align: middle;\n",
              "    }\n",
              "\n",
              "    .dataframe tbody tr th {\n",
              "        vertical-align: top;\n",
              "    }\n",
              "\n",
              "    .dataframe thead th {\n",
              "        text-align: right;\n",
              "    }\n",
              "</style>\n",
              "<table border=\"1\" class=\"dataframe\">\n",
              "  <thead>\n",
              "    <tr style=\"text-align: right;\">\n",
              "      <th></th>\n",
              "      <th>country</th>\n",
              "      <th>population</th>\n",
              "      <th>area</th>\n",
              "      <th>capital</th>\n",
              "      <th>on_earth</th>\n",
              "      <th>density</th>\n",
              "      <th>code</th>\n",
              "    </tr>\n",
              "  </thead>\n",
              "  <tbody>\n",
              "    <tr>\n",
              "      <th>0</th>\n",
              "      <td>Brazil</td>\n",
              "      <td>200</td>\n",
              "      <td>8515767</td>\n",
              "      <td>Brasilia</td>\n",
              "      <td>True</td>\n",
              "      <td>23.485847</td>\n",
              "      <td>NaN</td>\n",
              "    </tr>\n",
              "    <tr>\n",
              "      <th>1</th>\n",
              "      <td>Russia</td>\n",
              "      <td>144</td>\n",
              "      <td>17098242</td>\n",
              "      <td>Moscow</td>\n",
              "      <td>True</td>\n",
              "      <td>8.421918</td>\n",
              "      <td>NaN</td>\n",
              "    </tr>\n",
              "    <tr>\n",
              "      <th>2</th>\n",
              "      <td>India</td>\n",
              "      <td>1252</td>\n",
              "      <td>3287590</td>\n",
              "      <td>New Delhi</td>\n",
              "      <td>True</td>\n",
              "      <td>380.826076</td>\n",
              "      <td>NaN</td>\n",
              "    </tr>\n",
              "    <tr>\n",
              "      <th>3</th>\n",
              "      <td>China</td>\n",
              "      <td>1357</td>\n",
              "      <td>9596961</td>\n",
              "      <td>Beijing</td>\n",
              "      <td>True</td>\n",
              "      <td>141.398928</td>\n",
              "      <td>NaN</td>\n",
              "    </tr>\n",
              "    <tr>\n",
              "      <th>4</th>\n",
              "      <td>South Africa</td>\n",
              "      <td>55</td>\n",
              "      <td>1221037</td>\n",
              "      <td>Pretoria</td>\n",
              "      <td>True</td>\n",
              "      <td>45.043680</td>\n",
              "      <td>NaN</td>\n",
              "    </tr>\n",
              "    <tr>\n",
              "      <th>5</th>\n",
              "      <td>Wakanda</td>\n",
              "      <td>5</td>\n",
              "      <td>1000000</td>\n",
              "      <td>Wakanda City</td>\n",
              "      <td>False</td>\n",
              "      <td>5.000000</td>\n",
              "      <td>WK</td>\n",
              "    </tr>\n",
              "  </tbody>\n",
              "</table>\n",
              "</div>"
            ],
            "text/plain": [
              "        country  population      area       capital  on_earth     density code\n",
              "0        Brazil         200   8515767      Brasilia      True   23.485847  NaN\n",
              "1        Russia         144  17098242        Moscow      True    8.421918  NaN\n",
              "2         India        1252   3287590     New Delhi      True  380.826076  NaN\n",
              "3         China        1357   9596961       Beijing      True  141.398928  NaN\n",
              "4  South Africa          55   1221037      Pretoria      True   45.043680  NaN\n",
              "5       Wakanda           5   1000000  Wakanda City     False    5.000000   WK"
            ]
          },
          "metadata": {
            "tags": []
          },
          "execution_count": 33
        }
      ]
    },
    {
      "cell_type": "code",
      "metadata": {
        "colab": {
          "base_uri": "https://localhost:8080/",
          "height": 263
        },
        "id": "nG-lF92QHAYx",
        "outputId": "4135bfb3-3687-4384-9974-ca1fedeced9c"
      },
      "source": [
        "#Adding a new row using .loc\n",
        "brics.loc['WK'] = ['Wakanda', 5, 1000000, 'Wakanda City', False, 5]   \n",
        "# Sequence is very important. Data types may get changed due to wrong sequence.\n",
        "brics"
      ],
      "execution_count": null,
      "outputs": [
        {
          "output_type": "execute_result",
          "data": {
            "text/html": [
              "<div>\n",
              "<style scoped>\n",
              "    .dataframe tbody tr th:only-of-type {\n",
              "        vertical-align: middle;\n",
              "    }\n",
              "\n",
              "    .dataframe tbody tr th {\n",
              "        vertical-align: top;\n",
              "    }\n",
              "\n",
              "    .dataframe thead th {\n",
              "        text-align: right;\n",
              "    }\n",
              "</style>\n",
              "<table border=\"1\" class=\"dataframe\">\n",
              "  <thead>\n",
              "    <tr style=\"text-align: right;\">\n",
              "      <th></th>\n",
              "      <th>country</th>\n",
              "      <th>population</th>\n",
              "      <th>area</th>\n",
              "      <th>capital</th>\n",
              "      <th>on_earth</th>\n",
              "      <th>density</th>\n",
              "    </tr>\n",
              "    <tr>\n",
              "      <th>code</th>\n",
              "      <th></th>\n",
              "      <th></th>\n",
              "      <th></th>\n",
              "      <th></th>\n",
              "      <th></th>\n",
              "      <th></th>\n",
              "    </tr>\n",
              "  </thead>\n",
              "  <tbody>\n",
              "    <tr>\n",
              "      <th>BR</th>\n",
              "      <td>Brazil</td>\n",
              "      <td>200</td>\n",
              "      <td>8515767</td>\n",
              "      <td>Brasilia</td>\n",
              "      <td>True</td>\n",
              "      <td>23.485847</td>\n",
              "    </tr>\n",
              "    <tr>\n",
              "      <th>RU</th>\n",
              "      <td>Russia</td>\n",
              "      <td>144</td>\n",
              "      <td>17098242</td>\n",
              "      <td>Moscow</td>\n",
              "      <td>True</td>\n",
              "      <td>8.421918</td>\n",
              "    </tr>\n",
              "    <tr>\n",
              "      <th>IN</th>\n",
              "      <td>India</td>\n",
              "      <td>1252</td>\n",
              "      <td>3287590</td>\n",
              "      <td>New Delhi</td>\n",
              "      <td>True</td>\n",
              "      <td>380.826076</td>\n",
              "    </tr>\n",
              "    <tr>\n",
              "      <th>CH</th>\n",
              "      <td>China</td>\n",
              "      <td>1357</td>\n",
              "      <td>9596961</td>\n",
              "      <td>Beijing</td>\n",
              "      <td>True</td>\n",
              "      <td>141.398928</td>\n",
              "    </tr>\n",
              "    <tr>\n",
              "      <th>SA</th>\n",
              "      <td>South Africa</td>\n",
              "      <td>55</td>\n",
              "      <td>1221037</td>\n",
              "      <td>Pretoria</td>\n",
              "      <td>True</td>\n",
              "      <td>45.043680</td>\n",
              "    </tr>\n",
              "    <tr>\n",
              "      <th>WK</th>\n",
              "      <td>Wakanda</td>\n",
              "      <td>5</td>\n",
              "      <td>1000000</td>\n",
              "      <td>Wakanda City</td>\n",
              "      <td>False</td>\n",
              "      <td>5.000000</td>\n",
              "    </tr>\n",
              "  </tbody>\n",
              "</table>\n",
              "</div>"
            ],
            "text/plain": [
              "           country  population      area       capital  on_earth     density\n",
              "code                                                                        \n",
              "BR          Brazil         200   8515767      Brasilia      True   23.485847\n",
              "RU          Russia         144  17098242        Moscow      True    8.421918\n",
              "IN           India        1252   3287590     New Delhi      True  380.826076\n",
              "CH           China        1357   9596961       Beijing      True  141.398928\n",
              "SA    South Africa          55   1221037      Pretoria      True   45.043680\n",
              "WK         Wakanda           5   1000000  Wakanda City     False    5.000000"
            ]
          },
          "metadata": {
            "tags": []
          },
          "execution_count": 34
        }
      ]
    },
    {
      "cell_type": "code",
      "metadata": {
        "colab": {
          "base_uri": "https://localhost:8080/",
          "height": 294
        },
        "id": "9VDSbMldHmAw",
        "outputId": "a1a62ef6-91d4-45a9-f666-f926b9fb44ad"
      },
      "source": [
        "# lets add a new row in the dataframe using .loc any other country with some values in all columns.\n",
        "brics.loc['FR'] = ['France', 10, 2000000, 'Paris', True, 10]\n",
        "brics"
      ],
      "execution_count": null,
      "outputs": [
        {
          "output_type": "execute_result",
          "data": {
            "text/html": [
              "<div>\n",
              "<style scoped>\n",
              "    .dataframe tbody tr th:only-of-type {\n",
              "        vertical-align: middle;\n",
              "    }\n",
              "\n",
              "    .dataframe tbody tr th {\n",
              "        vertical-align: top;\n",
              "    }\n",
              "\n",
              "    .dataframe thead th {\n",
              "        text-align: right;\n",
              "    }\n",
              "</style>\n",
              "<table border=\"1\" class=\"dataframe\">\n",
              "  <thead>\n",
              "    <tr style=\"text-align: right;\">\n",
              "      <th></th>\n",
              "      <th>country</th>\n",
              "      <th>population</th>\n",
              "      <th>area</th>\n",
              "      <th>capital</th>\n",
              "      <th>on_earth</th>\n",
              "      <th>density</th>\n",
              "    </tr>\n",
              "    <tr>\n",
              "      <th>code</th>\n",
              "      <th></th>\n",
              "      <th></th>\n",
              "      <th></th>\n",
              "      <th></th>\n",
              "      <th></th>\n",
              "      <th></th>\n",
              "    </tr>\n",
              "  </thead>\n",
              "  <tbody>\n",
              "    <tr>\n",
              "      <th>BR</th>\n",
              "      <td>Brazil</td>\n",
              "      <td>200</td>\n",
              "      <td>8515767</td>\n",
              "      <td>Brasilia</td>\n",
              "      <td>True</td>\n",
              "      <td>23.485847</td>\n",
              "    </tr>\n",
              "    <tr>\n",
              "      <th>RU</th>\n",
              "      <td>Russia</td>\n",
              "      <td>144</td>\n",
              "      <td>17098242</td>\n",
              "      <td>Moscow</td>\n",
              "      <td>True</td>\n",
              "      <td>8.421918</td>\n",
              "    </tr>\n",
              "    <tr>\n",
              "      <th>IN</th>\n",
              "      <td>India</td>\n",
              "      <td>1252</td>\n",
              "      <td>3287590</td>\n",
              "      <td>New Delhi</td>\n",
              "      <td>True</td>\n",
              "      <td>380.826076</td>\n",
              "    </tr>\n",
              "    <tr>\n",
              "      <th>CH</th>\n",
              "      <td>China</td>\n",
              "      <td>1357</td>\n",
              "      <td>9596961</td>\n",
              "      <td>Beijing</td>\n",
              "      <td>True</td>\n",
              "      <td>141.398928</td>\n",
              "    </tr>\n",
              "    <tr>\n",
              "      <th>SA</th>\n",
              "      <td>South Africa</td>\n",
              "      <td>55</td>\n",
              "      <td>1221037</td>\n",
              "      <td>Pretoria</td>\n",
              "      <td>True</td>\n",
              "      <td>45.043680</td>\n",
              "    </tr>\n",
              "    <tr>\n",
              "      <th>WK</th>\n",
              "      <td>Wakanda</td>\n",
              "      <td>5</td>\n",
              "      <td>1000000</td>\n",
              "      <td>Wakanda City</td>\n",
              "      <td>False</td>\n",
              "      <td>5.000000</td>\n",
              "    </tr>\n",
              "    <tr>\n",
              "      <th>FR</th>\n",
              "      <td>France</td>\n",
              "      <td>10</td>\n",
              "      <td>2000000</td>\n",
              "      <td>Paris</td>\n",
              "      <td>True</td>\n",
              "      <td>10.000000</td>\n",
              "    </tr>\n",
              "  </tbody>\n",
              "</table>\n",
              "</div>"
            ],
            "text/plain": [
              "           country  population      area       capital  on_earth     density\n",
              "code                                                                        \n",
              "BR          Brazil         200   8515767      Brasilia      True   23.485847\n",
              "RU          Russia         144  17098242        Moscow      True    8.421918\n",
              "IN           India        1252   3287590     New Delhi      True  380.826076\n",
              "CH           China        1357   9596961       Beijing      True  141.398928\n",
              "SA    South Africa          55   1221037      Pretoria      True   45.043680\n",
              "WK         Wakanda           5   1000000  Wakanda City     False    5.000000\n",
              "FR          France          10   2000000         Paris      True   10.000000"
            ]
          },
          "metadata": {
            "tags": []
          },
          "execution_count": 35
        }
      ]
    },
    {
      "cell_type": "code",
      "metadata": {
        "colab": {
          "base_uri": "https://localhost:8080/",
          "height": 35
        },
        "id": "9FSOHW5_IoW2",
        "outputId": "b6109b9f-6175-4fd3-be03-de281be372e1"
      },
      "source": [
        "brics.loc[\"IN\",\"capital\"]"
      ],
      "execution_count": null,
      "outputs": [
        {
          "output_type": "execute_result",
          "data": {
            "application/vnd.google.colaboratory.intrinsic+json": {
              "type": "string"
            },
            "text/plain": [
              "'New Delhi'"
            ]
          },
          "metadata": {
            "tags": []
          },
          "execution_count": 36
        }
      ]
    },
    {
      "cell_type": "code",
      "metadata": {
        "colab": {
          "base_uri": "https://localhost:8080/",
          "height": 35
        },
        "id": "AZHCiqddJdjZ",
        "outputId": "e5da21ee-e356-4e2a-a796-4f2baac3b238"
      },
      "source": [
        "brics[\"capital\"].loc[\"IN\"]"
      ],
      "execution_count": null,
      "outputs": [
        {
          "output_type": "execute_result",
          "data": {
            "application/vnd.google.colaboratory.intrinsic+json": {
              "type": "string"
            },
            "text/plain": [
              "'New Delhi'"
            ]
          },
          "metadata": {
            "tags": []
          },
          "execution_count": 37
        }
      ]
    },
    {
      "cell_type": "code",
      "metadata": {
        "colab": {
          "base_uri": "https://localhost:8080/",
          "height": 35
        },
        "id": "xoLyktSRJjFl",
        "outputId": "486d8bec-319f-4f02-8ad4-bf0897909f6a"
      },
      "source": [
        "brics.loc[\"IN\"]['capital']"
      ],
      "execution_count": null,
      "outputs": [
        {
          "output_type": "execute_result",
          "data": {
            "application/vnd.google.colaboratory.intrinsic+json": {
              "type": "string"
            },
            "text/plain": [
              "'New Delhi'"
            ]
          },
          "metadata": {
            "tags": []
          },
          "execution_count": 38
        }
      ]
    },
    {
      "cell_type": "markdown",
      "metadata": {
        "id": "0yMMFsQvJxDI"
      },
      "source": [
        "##Deleting rows and columns from a dataframe using drop()"
      ]
    },
    {
      "cell_type": "code",
      "metadata": {
        "colab": {
          "base_uri": "https://localhost:8080/",
          "height": 294
        },
        "id": "tou1lyobJyQj",
        "outputId": "5f0f5272-e457-4710-cdbf-dc820461035b"
      },
      "source": [
        "# Lets create a new dataframe so that brics is not affected.\n",
        "\n",
        "brics1 = brics\n",
        "brics1"
      ],
      "execution_count": null,
      "outputs": [
        {
          "output_type": "execute_result",
          "data": {
            "text/html": [
              "<div>\n",
              "<style scoped>\n",
              "    .dataframe tbody tr th:only-of-type {\n",
              "        vertical-align: middle;\n",
              "    }\n",
              "\n",
              "    .dataframe tbody tr th {\n",
              "        vertical-align: top;\n",
              "    }\n",
              "\n",
              "    .dataframe thead th {\n",
              "        text-align: right;\n",
              "    }\n",
              "</style>\n",
              "<table border=\"1\" class=\"dataframe\">\n",
              "  <thead>\n",
              "    <tr style=\"text-align: right;\">\n",
              "      <th></th>\n",
              "      <th>country</th>\n",
              "      <th>population</th>\n",
              "      <th>area</th>\n",
              "      <th>capital</th>\n",
              "      <th>on_earth</th>\n",
              "      <th>density</th>\n",
              "    </tr>\n",
              "    <tr>\n",
              "      <th>code</th>\n",
              "      <th></th>\n",
              "      <th></th>\n",
              "      <th></th>\n",
              "      <th></th>\n",
              "      <th></th>\n",
              "      <th></th>\n",
              "    </tr>\n",
              "  </thead>\n",
              "  <tbody>\n",
              "    <tr>\n",
              "      <th>BR</th>\n",
              "      <td>Brazil</td>\n",
              "      <td>200</td>\n",
              "      <td>8515767</td>\n",
              "      <td>Brasilia</td>\n",
              "      <td>True</td>\n",
              "      <td>23.485847</td>\n",
              "    </tr>\n",
              "    <tr>\n",
              "      <th>RU</th>\n",
              "      <td>Russia</td>\n",
              "      <td>144</td>\n",
              "      <td>17098242</td>\n",
              "      <td>Moscow</td>\n",
              "      <td>True</td>\n",
              "      <td>8.421918</td>\n",
              "    </tr>\n",
              "    <tr>\n",
              "      <th>IN</th>\n",
              "      <td>India</td>\n",
              "      <td>1252</td>\n",
              "      <td>3287590</td>\n",
              "      <td>New Delhi</td>\n",
              "      <td>True</td>\n",
              "      <td>380.826076</td>\n",
              "    </tr>\n",
              "    <tr>\n",
              "      <th>CH</th>\n",
              "      <td>China</td>\n",
              "      <td>1357</td>\n",
              "      <td>9596961</td>\n",
              "      <td>Beijing</td>\n",
              "      <td>True</td>\n",
              "      <td>141.398928</td>\n",
              "    </tr>\n",
              "    <tr>\n",
              "      <th>SA</th>\n",
              "      <td>South Africa</td>\n",
              "      <td>55</td>\n",
              "      <td>1221037</td>\n",
              "      <td>Pretoria</td>\n",
              "      <td>True</td>\n",
              "      <td>45.043680</td>\n",
              "    </tr>\n",
              "    <tr>\n",
              "      <th>WK</th>\n",
              "      <td>Wakanda</td>\n",
              "      <td>5</td>\n",
              "      <td>1000000</td>\n",
              "      <td>Wakanda City</td>\n",
              "      <td>False</td>\n",
              "      <td>5.000000</td>\n",
              "    </tr>\n",
              "    <tr>\n",
              "      <th>FR</th>\n",
              "      <td>France</td>\n",
              "      <td>10</td>\n",
              "      <td>2000000</td>\n",
              "      <td>Paris</td>\n",
              "      <td>True</td>\n",
              "      <td>10.000000</td>\n",
              "    </tr>\n",
              "  </tbody>\n",
              "</table>\n",
              "</div>"
            ],
            "text/plain": [
              "           country  population      area       capital  on_earth     density\n",
              "code                                                                        \n",
              "BR          Brazil         200   8515767      Brasilia      True   23.485847\n",
              "RU          Russia         144  17098242        Moscow      True    8.421918\n",
              "IN           India        1252   3287590     New Delhi      True  380.826076\n",
              "CH           China        1357   9596961       Beijing      True  141.398928\n",
              "SA    South Africa          55   1221037      Pretoria      True   45.043680\n",
              "WK         Wakanda           5   1000000  Wakanda City     False    5.000000\n",
              "FR          France          10   2000000         Paris      True   10.000000"
            ]
          },
          "metadata": {
            "tags": []
          },
          "execution_count": 39
        }
      ]
    },
    {
      "cell_type": "code",
      "metadata": {
        "colab": {
          "base_uri": "https://localhost:8080/",
          "height": 294
        },
        "id": "asKzNPFFJ2vT",
        "outputId": "1cba23c7-65a5-4eda-fbc9-811f8b4d6089"
      },
      "source": [
        "brics1.drop(['area'], axis=1)  # axis = 0 by default for rows. Axis = 1 for column"
      ],
      "execution_count": null,
      "outputs": [
        {
          "output_type": "execute_result",
          "data": {
            "text/html": [
              "<div>\n",
              "<style scoped>\n",
              "    .dataframe tbody tr th:only-of-type {\n",
              "        vertical-align: middle;\n",
              "    }\n",
              "\n",
              "    .dataframe tbody tr th {\n",
              "        vertical-align: top;\n",
              "    }\n",
              "\n",
              "    .dataframe thead th {\n",
              "        text-align: right;\n",
              "    }\n",
              "</style>\n",
              "<table border=\"1\" class=\"dataframe\">\n",
              "  <thead>\n",
              "    <tr style=\"text-align: right;\">\n",
              "      <th></th>\n",
              "      <th>country</th>\n",
              "      <th>population</th>\n",
              "      <th>capital</th>\n",
              "      <th>on_earth</th>\n",
              "      <th>density</th>\n",
              "    </tr>\n",
              "    <tr>\n",
              "      <th>code</th>\n",
              "      <th></th>\n",
              "      <th></th>\n",
              "      <th></th>\n",
              "      <th></th>\n",
              "      <th></th>\n",
              "    </tr>\n",
              "  </thead>\n",
              "  <tbody>\n",
              "    <tr>\n",
              "      <th>BR</th>\n",
              "      <td>Brazil</td>\n",
              "      <td>200</td>\n",
              "      <td>Brasilia</td>\n",
              "      <td>True</td>\n",
              "      <td>23.485847</td>\n",
              "    </tr>\n",
              "    <tr>\n",
              "      <th>RU</th>\n",
              "      <td>Russia</td>\n",
              "      <td>144</td>\n",
              "      <td>Moscow</td>\n",
              "      <td>True</td>\n",
              "      <td>8.421918</td>\n",
              "    </tr>\n",
              "    <tr>\n",
              "      <th>IN</th>\n",
              "      <td>India</td>\n",
              "      <td>1252</td>\n",
              "      <td>New Delhi</td>\n",
              "      <td>True</td>\n",
              "      <td>380.826076</td>\n",
              "    </tr>\n",
              "    <tr>\n",
              "      <th>CH</th>\n",
              "      <td>China</td>\n",
              "      <td>1357</td>\n",
              "      <td>Beijing</td>\n",
              "      <td>True</td>\n",
              "      <td>141.398928</td>\n",
              "    </tr>\n",
              "    <tr>\n",
              "      <th>SA</th>\n",
              "      <td>South Africa</td>\n",
              "      <td>55</td>\n",
              "      <td>Pretoria</td>\n",
              "      <td>True</td>\n",
              "      <td>45.043680</td>\n",
              "    </tr>\n",
              "    <tr>\n",
              "      <th>WK</th>\n",
              "      <td>Wakanda</td>\n",
              "      <td>5</td>\n",
              "      <td>Wakanda City</td>\n",
              "      <td>False</td>\n",
              "      <td>5.000000</td>\n",
              "    </tr>\n",
              "    <tr>\n",
              "      <th>FR</th>\n",
              "      <td>France</td>\n",
              "      <td>10</td>\n",
              "      <td>Paris</td>\n",
              "      <td>True</td>\n",
              "      <td>10.000000</td>\n",
              "    </tr>\n",
              "  </tbody>\n",
              "</table>\n",
              "</div>"
            ],
            "text/plain": [
              "           country  population       capital  on_earth     density\n",
              "code                                                              \n",
              "BR          Brazil         200      Brasilia      True   23.485847\n",
              "RU          Russia         144        Moscow      True    8.421918\n",
              "IN           India        1252     New Delhi      True  380.826076\n",
              "CH           China        1357       Beijing      True  141.398928\n",
              "SA    South Africa          55      Pretoria      True   45.043680\n",
              "WK         Wakanda           5  Wakanda City     False    5.000000\n",
              "FR          France          10         Paris      True   10.000000"
            ]
          },
          "metadata": {
            "tags": []
          },
          "execution_count": 40
        }
      ]
    },
    {
      "cell_type": "code",
      "metadata": {
        "id": "fT2QpabEKnVH"
      },
      "source": [
        "brics1 = brics"
      ],
      "execution_count": null,
      "outputs": []
    },
    {
      "cell_type": "code",
      "metadata": {
        "colab": {
          "base_uri": "https://localhost:8080/",
          "height": 294
        },
        "id": "e4l_6-7GKBdV",
        "outputId": "e31b0b24-b6ea-494f-c5be-48c53a19ea19"
      },
      "source": [
        "# lets try deleting area and density columns from brics1 dataframe\n",
        "brics1.drop(['area','density'],axis=1)\n",
        "brics1"
      ],
      "execution_count": null,
      "outputs": [
        {
          "output_type": "execute_result",
          "data": {
            "text/html": [
              "<div>\n",
              "<style scoped>\n",
              "    .dataframe tbody tr th:only-of-type {\n",
              "        vertical-align: middle;\n",
              "    }\n",
              "\n",
              "    .dataframe tbody tr th {\n",
              "        vertical-align: top;\n",
              "    }\n",
              "\n",
              "    .dataframe thead th {\n",
              "        text-align: right;\n",
              "    }\n",
              "</style>\n",
              "<table border=\"1\" class=\"dataframe\">\n",
              "  <thead>\n",
              "    <tr style=\"text-align: right;\">\n",
              "      <th></th>\n",
              "      <th>country</th>\n",
              "      <th>population</th>\n",
              "      <th>area</th>\n",
              "      <th>capital</th>\n",
              "      <th>on_earth</th>\n",
              "      <th>density</th>\n",
              "    </tr>\n",
              "    <tr>\n",
              "      <th>code</th>\n",
              "      <th></th>\n",
              "      <th></th>\n",
              "      <th></th>\n",
              "      <th></th>\n",
              "      <th></th>\n",
              "      <th></th>\n",
              "    </tr>\n",
              "  </thead>\n",
              "  <tbody>\n",
              "    <tr>\n",
              "      <th>BR</th>\n",
              "      <td>Brazil</td>\n",
              "      <td>200</td>\n",
              "      <td>8515767</td>\n",
              "      <td>Brasilia</td>\n",
              "      <td>True</td>\n",
              "      <td>23.485847</td>\n",
              "    </tr>\n",
              "    <tr>\n",
              "      <th>RU</th>\n",
              "      <td>Russia</td>\n",
              "      <td>144</td>\n",
              "      <td>17098242</td>\n",
              "      <td>Moscow</td>\n",
              "      <td>True</td>\n",
              "      <td>8.421918</td>\n",
              "    </tr>\n",
              "    <tr>\n",
              "      <th>IN</th>\n",
              "      <td>India</td>\n",
              "      <td>1252</td>\n",
              "      <td>3287590</td>\n",
              "      <td>New Delhi</td>\n",
              "      <td>True</td>\n",
              "      <td>380.826076</td>\n",
              "    </tr>\n",
              "    <tr>\n",
              "      <th>CH</th>\n",
              "      <td>China</td>\n",
              "      <td>1357</td>\n",
              "      <td>9596961</td>\n",
              "      <td>Beijing</td>\n",
              "      <td>True</td>\n",
              "      <td>141.398928</td>\n",
              "    </tr>\n",
              "    <tr>\n",
              "      <th>SA</th>\n",
              "      <td>South Africa</td>\n",
              "      <td>55</td>\n",
              "      <td>1221037</td>\n",
              "      <td>Pretoria</td>\n",
              "      <td>True</td>\n",
              "      <td>45.043680</td>\n",
              "    </tr>\n",
              "    <tr>\n",
              "      <th>WK</th>\n",
              "      <td>Wakanda</td>\n",
              "      <td>5</td>\n",
              "      <td>1000000</td>\n",
              "      <td>Wakanda City</td>\n",
              "      <td>False</td>\n",
              "      <td>5.000000</td>\n",
              "    </tr>\n",
              "    <tr>\n",
              "      <th>FR</th>\n",
              "      <td>France</td>\n",
              "      <td>10</td>\n",
              "      <td>2000000</td>\n",
              "      <td>Paris</td>\n",
              "      <td>True</td>\n",
              "      <td>10.000000</td>\n",
              "    </tr>\n",
              "  </tbody>\n",
              "</table>\n",
              "</div>"
            ],
            "text/plain": [
              "           country  population      area       capital  on_earth     density\n",
              "code                                                                        \n",
              "BR          Brazil         200   8515767      Brasilia      True   23.485847\n",
              "RU          Russia         144  17098242        Moscow      True    8.421918\n",
              "IN           India        1252   3287590     New Delhi      True  380.826076\n",
              "CH           China        1357   9596961       Beijing      True  141.398928\n",
              "SA    South Africa          55   1221037      Pretoria      True   45.043680\n",
              "WK         Wakanda           5   1000000  Wakanda City     False    5.000000\n",
              "FR          France          10   2000000         Paris      True   10.000000"
            ]
          },
          "metadata": {
            "tags": []
          },
          "execution_count": 42
        }
      ]
    },
    {
      "cell_type": "code",
      "metadata": {
        "colab": {
          "base_uri": "https://localhost:8080/",
          "height": 263
        },
        "id": "ojysbgKdKg_y",
        "outputId": "81ce32c8-3265-48b1-c8a9-6162c1440872"
      },
      "source": [
        "# lets delete the record for Wakanda by using its index WK\n",
        "brics1.drop(['WK'],inplace=True)\n",
        "brics1"
      ],
      "execution_count": null,
      "outputs": [
        {
          "output_type": "execute_result",
          "data": {
            "text/html": [
              "<div>\n",
              "<style scoped>\n",
              "    .dataframe tbody tr th:only-of-type {\n",
              "        vertical-align: middle;\n",
              "    }\n",
              "\n",
              "    .dataframe tbody tr th {\n",
              "        vertical-align: top;\n",
              "    }\n",
              "\n",
              "    .dataframe thead th {\n",
              "        text-align: right;\n",
              "    }\n",
              "</style>\n",
              "<table border=\"1\" class=\"dataframe\">\n",
              "  <thead>\n",
              "    <tr style=\"text-align: right;\">\n",
              "      <th></th>\n",
              "      <th>country</th>\n",
              "      <th>population</th>\n",
              "      <th>area</th>\n",
              "      <th>capital</th>\n",
              "      <th>on_earth</th>\n",
              "      <th>density</th>\n",
              "    </tr>\n",
              "    <tr>\n",
              "      <th>code</th>\n",
              "      <th></th>\n",
              "      <th></th>\n",
              "      <th></th>\n",
              "      <th></th>\n",
              "      <th></th>\n",
              "      <th></th>\n",
              "    </tr>\n",
              "  </thead>\n",
              "  <tbody>\n",
              "    <tr>\n",
              "      <th>BR</th>\n",
              "      <td>Brazil</td>\n",
              "      <td>200</td>\n",
              "      <td>8515767</td>\n",
              "      <td>Brasilia</td>\n",
              "      <td>True</td>\n",
              "      <td>23.485847</td>\n",
              "    </tr>\n",
              "    <tr>\n",
              "      <th>RU</th>\n",
              "      <td>Russia</td>\n",
              "      <td>144</td>\n",
              "      <td>17098242</td>\n",
              "      <td>Moscow</td>\n",
              "      <td>True</td>\n",
              "      <td>8.421918</td>\n",
              "    </tr>\n",
              "    <tr>\n",
              "      <th>IN</th>\n",
              "      <td>India</td>\n",
              "      <td>1252</td>\n",
              "      <td>3287590</td>\n",
              "      <td>New Delhi</td>\n",
              "      <td>True</td>\n",
              "      <td>380.826076</td>\n",
              "    </tr>\n",
              "    <tr>\n",
              "      <th>CH</th>\n",
              "      <td>China</td>\n",
              "      <td>1357</td>\n",
              "      <td>9596961</td>\n",
              "      <td>Beijing</td>\n",
              "      <td>True</td>\n",
              "      <td>141.398928</td>\n",
              "    </tr>\n",
              "    <tr>\n",
              "      <th>SA</th>\n",
              "      <td>South Africa</td>\n",
              "      <td>55</td>\n",
              "      <td>1221037</td>\n",
              "      <td>Pretoria</td>\n",
              "      <td>True</td>\n",
              "      <td>45.043680</td>\n",
              "    </tr>\n",
              "    <tr>\n",
              "      <th>FR</th>\n",
              "      <td>France</td>\n",
              "      <td>10</td>\n",
              "      <td>2000000</td>\n",
              "      <td>Paris</td>\n",
              "      <td>True</td>\n",
              "      <td>10.000000</td>\n",
              "    </tr>\n",
              "  </tbody>\n",
              "</table>\n",
              "</div>"
            ],
            "text/plain": [
              "           country  population      area    capital  on_earth     density\n",
              "code                                                                     \n",
              "BR          Brazil         200   8515767   Brasilia      True   23.485847\n",
              "RU          Russia         144  17098242     Moscow      True    8.421918\n",
              "IN           India        1252   3287590  New Delhi      True  380.826076\n",
              "CH           China        1357   9596961    Beijing      True  141.398928\n",
              "SA    South Africa          55   1221037   Pretoria      True   45.043680\n",
              "FR          France          10   2000000      Paris      True   10.000000"
            ]
          },
          "metadata": {
            "tags": []
          },
          "execution_count": 43
        }
      ]
    },
    {
      "cell_type": "code",
      "metadata": {
        "colab": {
          "base_uri": "https://localhost:8080/",
          "height": 263
        },
        "id": "bfDEANNaL8zk",
        "outputId": "f79f277d-8986-4382-8eb9-2532f9d392f4"
      },
      "source": [
        "brics1 = brics\n",
        "\n",
        "# Another way to drop columns\n",
        "brics1.drop(columns=['area', 'density'])"
      ],
      "execution_count": null,
      "outputs": [
        {
          "output_type": "execute_result",
          "data": {
            "text/html": [
              "<div>\n",
              "<style scoped>\n",
              "    .dataframe tbody tr th:only-of-type {\n",
              "        vertical-align: middle;\n",
              "    }\n",
              "\n",
              "    .dataframe tbody tr th {\n",
              "        vertical-align: top;\n",
              "    }\n",
              "\n",
              "    .dataframe thead th {\n",
              "        text-align: right;\n",
              "    }\n",
              "</style>\n",
              "<table border=\"1\" class=\"dataframe\">\n",
              "  <thead>\n",
              "    <tr style=\"text-align: right;\">\n",
              "      <th></th>\n",
              "      <th>country</th>\n",
              "      <th>population</th>\n",
              "      <th>capital</th>\n",
              "      <th>on_earth</th>\n",
              "    </tr>\n",
              "    <tr>\n",
              "      <th>code</th>\n",
              "      <th></th>\n",
              "      <th></th>\n",
              "      <th></th>\n",
              "      <th></th>\n",
              "    </tr>\n",
              "  </thead>\n",
              "  <tbody>\n",
              "    <tr>\n",
              "      <th>BR</th>\n",
              "      <td>Brazil</td>\n",
              "      <td>200</td>\n",
              "      <td>Brasilia</td>\n",
              "      <td>True</td>\n",
              "    </tr>\n",
              "    <tr>\n",
              "      <th>RU</th>\n",
              "      <td>Russia</td>\n",
              "      <td>144</td>\n",
              "      <td>Moscow</td>\n",
              "      <td>True</td>\n",
              "    </tr>\n",
              "    <tr>\n",
              "      <th>IN</th>\n",
              "      <td>India</td>\n",
              "      <td>1252</td>\n",
              "      <td>New Delhi</td>\n",
              "      <td>True</td>\n",
              "    </tr>\n",
              "    <tr>\n",
              "      <th>CH</th>\n",
              "      <td>China</td>\n",
              "      <td>1357</td>\n",
              "      <td>Beijing</td>\n",
              "      <td>True</td>\n",
              "    </tr>\n",
              "    <tr>\n",
              "      <th>SA</th>\n",
              "      <td>South Africa</td>\n",
              "      <td>55</td>\n",
              "      <td>Pretoria</td>\n",
              "      <td>True</td>\n",
              "    </tr>\n",
              "    <tr>\n",
              "      <th>FR</th>\n",
              "      <td>France</td>\n",
              "      <td>10</td>\n",
              "      <td>Paris</td>\n",
              "      <td>True</td>\n",
              "    </tr>\n",
              "  </tbody>\n",
              "</table>\n",
              "</div>"
            ],
            "text/plain": [
              "           country  population    capital  on_earth\n",
              "code                                               \n",
              "BR          Brazil         200   Brasilia      True\n",
              "RU          Russia         144     Moscow      True\n",
              "IN           India        1252  New Delhi      True\n",
              "CH           China        1357    Beijing      True\n",
              "SA    South Africa          55   Pretoria      True\n",
              "FR          France          10      Paris      True"
            ]
          },
          "metadata": {
            "tags": []
          },
          "execution_count": 44
        }
      ]
    },
    {
      "cell_type": "code",
      "metadata": {
        "colab": {
          "base_uri": "https://localhost:8080/",
          "height": 202
        },
        "id": "v9IipMVRNud4",
        "outputId": "a8d0fc1c-fad2-4d76-8c38-564bd08f9e0f"
      },
      "source": [
        "brics1 = brics\n",
        "\n",
        "# Drop rows by index\n",
        "\n",
        "brics1.drop(['IN', 'CH'])"
      ],
      "execution_count": null,
      "outputs": [
        {
          "output_type": "execute_result",
          "data": {
            "text/html": [
              "<div>\n",
              "<style scoped>\n",
              "    .dataframe tbody tr th:only-of-type {\n",
              "        vertical-align: middle;\n",
              "    }\n",
              "\n",
              "    .dataframe tbody tr th {\n",
              "        vertical-align: top;\n",
              "    }\n",
              "\n",
              "    .dataframe thead th {\n",
              "        text-align: right;\n",
              "    }\n",
              "</style>\n",
              "<table border=\"1\" class=\"dataframe\">\n",
              "  <thead>\n",
              "    <tr style=\"text-align: right;\">\n",
              "      <th></th>\n",
              "      <th>country</th>\n",
              "      <th>population</th>\n",
              "      <th>area</th>\n",
              "      <th>capital</th>\n",
              "      <th>on_earth</th>\n",
              "      <th>density</th>\n",
              "    </tr>\n",
              "    <tr>\n",
              "      <th>code</th>\n",
              "      <th></th>\n",
              "      <th></th>\n",
              "      <th></th>\n",
              "      <th></th>\n",
              "      <th></th>\n",
              "      <th></th>\n",
              "    </tr>\n",
              "  </thead>\n",
              "  <tbody>\n",
              "    <tr>\n",
              "      <th>BR</th>\n",
              "      <td>Brazil</td>\n",
              "      <td>200</td>\n",
              "      <td>8515767</td>\n",
              "      <td>Brasilia</td>\n",
              "      <td>True</td>\n",
              "      <td>23.485847</td>\n",
              "    </tr>\n",
              "    <tr>\n",
              "      <th>RU</th>\n",
              "      <td>Russia</td>\n",
              "      <td>144</td>\n",
              "      <td>17098242</td>\n",
              "      <td>Moscow</td>\n",
              "      <td>True</td>\n",
              "      <td>8.421918</td>\n",
              "    </tr>\n",
              "    <tr>\n",
              "      <th>SA</th>\n",
              "      <td>South Africa</td>\n",
              "      <td>55</td>\n",
              "      <td>1221037</td>\n",
              "      <td>Pretoria</td>\n",
              "      <td>True</td>\n",
              "      <td>45.043680</td>\n",
              "    </tr>\n",
              "    <tr>\n",
              "      <th>FR</th>\n",
              "      <td>France</td>\n",
              "      <td>10</td>\n",
              "      <td>2000000</td>\n",
              "      <td>Paris</td>\n",
              "      <td>True</td>\n",
              "      <td>10.000000</td>\n",
              "    </tr>\n",
              "  </tbody>\n",
              "</table>\n",
              "</div>"
            ],
            "text/plain": [
              "           country  population      area   capital  on_earth    density\n",
              "code                                                                   \n",
              "BR          Brazil         200   8515767  Brasilia      True  23.485847\n",
              "RU          Russia         144  17098242    Moscow      True   8.421918\n",
              "SA    South Africa          55   1221037  Pretoria      True  45.043680\n",
              "FR          France          10   2000000     Paris      True  10.000000"
            ]
          },
          "metadata": {
            "tags": []
          },
          "execution_count": 45
        }
      ]
    },
    {
      "cell_type": "code",
      "metadata": {
        "colab": {
          "base_uri": "https://localhost:8080/"
        },
        "id": "ed2AjzV5N1tD",
        "outputId": "23063df7-d6d7-46f2-ad90-7a256b97b499"
      },
      "source": [
        "\n",
        "for index in range(brics.shape[0]):    \n",
        "    countryName = brics.iloc[index,0]  # row - index, column - 0\n",
        "    cityName = brics.iloc[index, 3]  # row - index, column - 3\n",
        "    print('The Capital City of', countryName, 'is', cityName)"
      ],
      "execution_count": null,
      "outputs": [
        {
          "output_type": "stream",
          "text": [
            "The Capital City of Brazil is Brasilia\n",
            "The Capital City of Russia is Moscow\n",
            "The Capital City of India is New Delhi\n",
            "The Capital City of China is Beijing\n",
            "The Capital City of South Africa is Pretoria\n",
            "The Capital City of France is Paris\n"
          ],
          "name": "stdout"
        }
      ]
    },
    {
      "cell_type": "code",
      "metadata": {
        "colab": {
          "base_uri": "https://localhost:8080/"
        },
        "id": "nysZ0JUZO0hG",
        "outputId": "5caa6dc1-c528-4063-dc2d-65790a21fd8c"
      },
      "source": [
        "#Another solution\n",
        "for index in range(brics.shape[0]):\n",
        "    print('The Capital City of', brics.iloc[index, 0], 'is', brics.iloc[index, 3])"
      ],
      "execution_count": null,
      "outputs": [
        {
          "output_type": "stream",
          "text": [
            "The Capital City of Brazil is Brasilia\n",
            "The Capital City of Russia is Moscow\n",
            "The Capital City of India is New Delhi\n",
            "The Capital City of China is Beijing\n",
            "The Capital City of South Africa is Pretoria\n",
            "The Capital City of France is Paris\n"
          ],
          "name": "stdout"
        }
      ]
    },
    {
      "cell_type": "code",
      "metadata": {
        "colab": {
          "base_uri": "https://localhost:8080/"
        },
        "id": "SCpQHdaIPOMu",
        "outputId": "efa01901-91af-4715-d069-8a579406af2e"
      },
      "source": [
        "#Another solution\n",
        "# iterrows() is a generator that iterates over the rows of the dataframe and returns the index of each row, \n",
        "# in addition to an object containing the row itself.\n",
        "\n",
        "for index, row in brics.iterrows():\n",
        "    print(\"The Capital City of\",row['country'],\"is\", row['capital'])"
      ],
      "execution_count": null,
      "outputs": [
        {
          "output_type": "stream",
          "text": [
            "The Capital City of Brazil is Brasilia\n",
            "The Capital City of Russia is Moscow\n",
            "The Capital City of India is New Delhi\n",
            "The Capital City of China is Beijing\n",
            "The Capital City of South Africa is Pretoria\n",
            "The Capital City of France is Paris\n"
          ],
          "name": "stdout"
        }
      ]
    },
    {
      "cell_type": "code",
      "metadata": {
        "colab": {
          "base_uri": "https://localhost:8080/",
          "height": 202
        },
        "id": "pBNZcLWHPbIw",
        "outputId": "63595308-f6ea-4489-a2e3-db8f95aafd12"
      },
      "source": [
        "# Print top 5 rows from the data, without any sorting or filter.\n",
        "cars.head()"
      ],
      "execution_count": null,
      "outputs": [
        {
          "output_type": "execute_result",
          "data": {
            "text/html": [
              "<div>\n",
              "<style scoped>\n",
              "    .dataframe tbody tr th:only-of-type {\n",
              "        vertical-align: middle;\n",
              "    }\n",
              "\n",
              "    .dataframe tbody tr th {\n",
              "        vertical-align: top;\n",
              "    }\n",
              "\n",
              "    .dataframe thead th {\n",
              "        text-align: right;\n",
              "    }\n",
              "</style>\n",
              "<table border=\"1\" class=\"dataframe\">\n",
              "  <thead>\n",
              "    <tr style=\"text-align: right;\">\n",
              "      <th></th>\n",
              "      <th>Unnamed: 0</th>\n",
              "      <th>cars_per_cap</th>\n",
              "      <th>country</th>\n",
              "      <th>drives_right</th>\n",
              "    </tr>\n",
              "  </thead>\n",
              "  <tbody>\n",
              "    <tr>\n",
              "      <th>0</th>\n",
              "      <td>US</td>\n",
              "      <td>809</td>\n",
              "      <td>United States</td>\n",
              "      <td>True</td>\n",
              "    </tr>\n",
              "    <tr>\n",
              "      <th>1</th>\n",
              "      <td>AUS</td>\n",
              "      <td>731</td>\n",
              "      <td>Australia</td>\n",
              "      <td>False</td>\n",
              "    </tr>\n",
              "    <tr>\n",
              "      <th>2</th>\n",
              "      <td>JAP</td>\n",
              "      <td>588</td>\n",
              "      <td>Japan</td>\n",
              "      <td>False</td>\n",
              "    </tr>\n",
              "    <tr>\n",
              "      <th>3</th>\n",
              "      <td>IN</td>\n",
              "      <td>18</td>\n",
              "      <td>India</td>\n",
              "      <td>False</td>\n",
              "    </tr>\n",
              "    <tr>\n",
              "      <th>4</th>\n",
              "      <td>RU</td>\n",
              "      <td>200</td>\n",
              "      <td>Russia</td>\n",
              "      <td>True</td>\n",
              "    </tr>\n",
              "  </tbody>\n",
              "</table>\n",
              "</div>"
            ],
            "text/plain": [
              "  Unnamed: 0  cars_per_cap        country  drives_right\n",
              "0         US           809  United States          True\n",
              "1        AUS           731      Australia         False\n",
              "2        JAP           588          Japan         False\n",
              "3         IN            18          India         False\n",
              "4         RU           200         Russia          True"
            ]
          },
          "metadata": {
            "tags": []
          },
          "execution_count": 49
        }
      ]
    },
    {
      "cell_type": "code",
      "metadata": {
        "colab": {
          "base_uri": "https://localhost:8080/",
          "height": 263
        },
        "id": "sRnxHiPfTuPm",
        "outputId": "04e9f8fb-6d28-4907-d690-c3f8779b11f2"
      },
      "source": [
        "# Print top 7 rows from the data\n",
        "cars.head(7)"
      ],
      "execution_count": null,
      "outputs": [
        {
          "output_type": "execute_result",
          "data": {
            "text/html": [
              "<div>\n",
              "<style scoped>\n",
              "    .dataframe tbody tr th:only-of-type {\n",
              "        vertical-align: middle;\n",
              "    }\n",
              "\n",
              "    .dataframe tbody tr th {\n",
              "        vertical-align: top;\n",
              "    }\n",
              "\n",
              "    .dataframe thead th {\n",
              "        text-align: right;\n",
              "    }\n",
              "</style>\n",
              "<table border=\"1\" class=\"dataframe\">\n",
              "  <thead>\n",
              "    <tr style=\"text-align: right;\">\n",
              "      <th></th>\n",
              "      <th>Unnamed: 0</th>\n",
              "      <th>cars_per_cap</th>\n",
              "      <th>country</th>\n",
              "      <th>drives_right</th>\n",
              "    </tr>\n",
              "  </thead>\n",
              "  <tbody>\n",
              "    <tr>\n",
              "      <th>0</th>\n",
              "      <td>US</td>\n",
              "      <td>809</td>\n",
              "      <td>United States</td>\n",
              "      <td>True</td>\n",
              "    </tr>\n",
              "    <tr>\n",
              "      <th>1</th>\n",
              "      <td>AUS</td>\n",
              "      <td>731</td>\n",
              "      <td>Australia</td>\n",
              "      <td>False</td>\n",
              "    </tr>\n",
              "    <tr>\n",
              "      <th>2</th>\n",
              "      <td>JAP</td>\n",
              "      <td>588</td>\n",
              "      <td>Japan</td>\n",
              "      <td>False</td>\n",
              "    </tr>\n",
              "    <tr>\n",
              "      <th>3</th>\n",
              "      <td>IN</td>\n",
              "      <td>18</td>\n",
              "      <td>India</td>\n",
              "      <td>False</td>\n",
              "    </tr>\n",
              "    <tr>\n",
              "      <th>4</th>\n",
              "      <td>RU</td>\n",
              "      <td>200</td>\n",
              "      <td>Russia</td>\n",
              "      <td>True</td>\n",
              "    </tr>\n",
              "    <tr>\n",
              "      <th>5</th>\n",
              "      <td>MOR</td>\n",
              "      <td>70</td>\n",
              "      <td>Morocco</td>\n",
              "      <td>True</td>\n",
              "    </tr>\n",
              "    <tr>\n",
              "      <th>6</th>\n",
              "      <td>EG</td>\n",
              "      <td>45</td>\n",
              "      <td>Egypt</td>\n",
              "      <td>True</td>\n",
              "    </tr>\n",
              "  </tbody>\n",
              "</table>\n",
              "</div>"
            ],
            "text/plain": [
              "  Unnamed: 0  cars_per_cap        country  drives_right\n",
              "0         US           809  United States          True\n",
              "1        AUS           731      Australia         False\n",
              "2        JAP           588          Japan         False\n",
              "3         IN            18          India         False\n",
              "4         RU           200         Russia          True\n",
              "5        MOR            70        Morocco          True\n",
              "6         EG            45          Egypt          True"
            ]
          },
          "metadata": {
            "tags": []
          },
          "execution_count": 50
        }
      ]
    },
    {
      "cell_type": "code",
      "metadata": {
        "colab": {
          "base_uri": "https://localhost:8080/",
          "height": 202
        },
        "id": "LmuGdxuxT9Ol",
        "outputId": "637a1ddb-a9ce-4a21-da95-d6a94a89cb16"
      },
      "source": [
        "# For bottom 5 rows in the dataframe\n",
        "cars.tail() "
      ],
      "execution_count": null,
      "outputs": [
        {
          "output_type": "execute_result",
          "data": {
            "text/html": [
              "<div>\n",
              "<style scoped>\n",
              "    .dataframe tbody tr th:only-of-type {\n",
              "        vertical-align: middle;\n",
              "    }\n",
              "\n",
              "    .dataframe tbody tr th {\n",
              "        vertical-align: top;\n",
              "    }\n",
              "\n",
              "    .dataframe thead th {\n",
              "        text-align: right;\n",
              "    }\n",
              "</style>\n",
              "<table border=\"1\" class=\"dataframe\">\n",
              "  <thead>\n",
              "    <tr style=\"text-align: right;\">\n",
              "      <th></th>\n",
              "      <th>Unnamed: 0</th>\n",
              "      <th>cars_per_cap</th>\n",
              "      <th>country</th>\n",
              "      <th>drives_right</th>\n",
              "    </tr>\n",
              "  </thead>\n",
              "  <tbody>\n",
              "    <tr>\n",
              "      <th>2</th>\n",
              "      <td>JAP</td>\n",
              "      <td>588</td>\n",
              "      <td>Japan</td>\n",
              "      <td>False</td>\n",
              "    </tr>\n",
              "    <tr>\n",
              "      <th>3</th>\n",
              "      <td>IN</td>\n",
              "      <td>18</td>\n",
              "      <td>India</td>\n",
              "      <td>False</td>\n",
              "    </tr>\n",
              "    <tr>\n",
              "      <th>4</th>\n",
              "      <td>RU</td>\n",
              "      <td>200</td>\n",
              "      <td>Russia</td>\n",
              "      <td>True</td>\n",
              "    </tr>\n",
              "    <tr>\n",
              "      <th>5</th>\n",
              "      <td>MOR</td>\n",
              "      <td>70</td>\n",
              "      <td>Morocco</td>\n",
              "      <td>True</td>\n",
              "    </tr>\n",
              "    <tr>\n",
              "      <th>6</th>\n",
              "      <td>EG</td>\n",
              "      <td>45</td>\n",
              "      <td>Egypt</td>\n",
              "      <td>True</td>\n",
              "    </tr>\n",
              "  </tbody>\n",
              "</table>\n",
              "</div>"
            ],
            "text/plain": [
              "  Unnamed: 0  cars_per_cap  country  drives_right\n",
              "2        JAP           588    Japan         False\n",
              "3         IN            18    India         False\n",
              "4         RU           200   Russia          True\n",
              "5        MOR            70  Morocco          True\n",
              "6         EG            45    Egypt          True"
            ]
          },
          "metadata": {
            "tags": []
          },
          "execution_count": 51
        }
      ]
    },
    {
      "cell_type": "code",
      "metadata": {
        "colab": {
          "base_uri": "https://localhost:8080/",
          "height": 263
        },
        "id": "51bwRX_CUD2g",
        "outputId": "903df9bc-2019-42e0-eb17-2752de3ea2b2"
      },
      "source": [
        "# Print last 10 rows from the dataframe\n",
        "cars.tail(10)"
      ],
      "execution_count": null,
      "outputs": [
        {
          "output_type": "execute_result",
          "data": {
            "text/html": [
              "<div>\n",
              "<style scoped>\n",
              "    .dataframe tbody tr th:only-of-type {\n",
              "        vertical-align: middle;\n",
              "    }\n",
              "\n",
              "    .dataframe tbody tr th {\n",
              "        vertical-align: top;\n",
              "    }\n",
              "\n",
              "    .dataframe thead th {\n",
              "        text-align: right;\n",
              "    }\n",
              "</style>\n",
              "<table border=\"1\" class=\"dataframe\">\n",
              "  <thead>\n",
              "    <tr style=\"text-align: right;\">\n",
              "      <th></th>\n",
              "      <th>Unnamed: 0</th>\n",
              "      <th>cars_per_cap</th>\n",
              "      <th>country</th>\n",
              "      <th>drives_right</th>\n",
              "    </tr>\n",
              "  </thead>\n",
              "  <tbody>\n",
              "    <tr>\n",
              "      <th>0</th>\n",
              "      <td>US</td>\n",
              "      <td>809</td>\n",
              "      <td>United States</td>\n",
              "      <td>True</td>\n",
              "    </tr>\n",
              "    <tr>\n",
              "      <th>1</th>\n",
              "      <td>AUS</td>\n",
              "      <td>731</td>\n",
              "      <td>Australia</td>\n",
              "      <td>False</td>\n",
              "    </tr>\n",
              "    <tr>\n",
              "      <th>2</th>\n",
              "      <td>JAP</td>\n",
              "      <td>588</td>\n",
              "      <td>Japan</td>\n",
              "      <td>False</td>\n",
              "    </tr>\n",
              "    <tr>\n",
              "      <th>3</th>\n",
              "      <td>IN</td>\n",
              "      <td>18</td>\n",
              "      <td>India</td>\n",
              "      <td>False</td>\n",
              "    </tr>\n",
              "    <tr>\n",
              "      <th>4</th>\n",
              "      <td>RU</td>\n",
              "      <td>200</td>\n",
              "      <td>Russia</td>\n",
              "      <td>True</td>\n",
              "    </tr>\n",
              "    <tr>\n",
              "      <th>5</th>\n",
              "      <td>MOR</td>\n",
              "      <td>70</td>\n",
              "      <td>Morocco</td>\n",
              "      <td>True</td>\n",
              "    </tr>\n",
              "    <tr>\n",
              "      <th>6</th>\n",
              "      <td>EG</td>\n",
              "      <td>45</td>\n",
              "      <td>Egypt</td>\n",
              "      <td>True</td>\n",
              "    </tr>\n",
              "  </tbody>\n",
              "</table>\n",
              "</div>"
            ],
            "text/plain": [
              "  Unnamed: 0  cars_per_cap        country  drives_right\n",
              "0         US           809  United States          True\n",
              "1        AUS           731      Australia         False\n",
              "2        JAP           588          Japan         False\n",
              "3         IN            18          India         False\n",
              "4         RU           200         Russia          True\n",
              "5        MOR            70        Morocco          True\n",
              "6         EG            45          Egypt          True"
            ]
          },
          "metadata": {
            "tags": []
          },
          "execution_count": 52
        }
      ]
    },
    {
      "cell_type": "code",
      "metadata": {
        "colab": {
          "base_uri": "https://localhost:8080/"
        },
        "id": "8IKWb7WLUNKB",
        "outputId": "de872a20-5bfb-40e1-f0e9-781e09fb6066"
      },
      "source": [
        "# Giving a name to the unnamed column\n",
        "\n",
        "print(cars)\n",
        "\n",
        "df1 = cars.rename( columns={'Unnamed: 0':'code'}, inplace=False ) \n",
        "cars.rename( columns={'Unnamed: 0':'code'}, inplace=True ) \n",
        "\n",
        "print(df1)\n",
        "print(cars)      # With False, there will be no change in cars dataframe."
      ],
      "execution_count": null,
      "outputs": [
        {
          "output_type": "stream",
          "text": [
            "  Unnamed: 0  cars_per_cap        country  drives_right\n",
            "0         US           809  United States          True\n",
            "1        AUS           731      Australia         False\n",
            "2        JAP           588          Japan         False\n",
            "3         IN            18          India         False\n",
            "4         RU           200         Russia          True\n",
            "5        MOR            70        Morocco          True\n",
            "6         EG            45          Egypt          True\n",
            "  code  cars_per_cap        country  drives_right\n",
            "0   US           809  United States          True\n",
            "1  AUS           731      Australia         False\n",
            "2  JAP           588          Japan         False\n",
            "3   IN            18          India         False\n",
            "4   RU           200         Russia          True\n",
            "5  MOR            70        Morocco          True\n",
            "6   EG            45          Egypt          True\n",
            "  code  cars_per_cap        country  drives_right\n",
            "0   US           809  United States          True\n",
            "1  AUS           731      Australia         False\n",
            "2  JAP           588          Japan         False\n",
            "3   IN            18          India         False\n",
            "4   RU           200         Russia          True\n",
            "5  MOR            70        Morocco          True\n",
            "6   EG            45          Egypt          True\n"
          ],
          "name": "stdout"
        }
      ]
    },
    {
      "cell_type": "code",
      "metadata": {
        "colab": {
          "base_uri": "https://localhost:8080/"
        },
        "id": "Qp0Wh8PSUpjV",
        "outputId": "34816fb5-1594-4c5e-8ece-f7cd37dd9a0f"
      },
      "source": [
        "print(cars['cars_per_cap'])  # without column name at the top. Prints data and detail"
      ],
      "execution_count": null,
      "outputs": [
        {
          "output_type": "stream",
          "text": [
            "0    809\n",
            "1    731\n",
            "2    588\n",
            "3     18\n",
            "4    200\n",
            "5     70\n",
            "6     45\n",
            "Name: cars_per_cap, dtype: int64\n"
          ],
          "name": "stdout"
        }
      ]
    },
    {
      "cell_type": "code",
      "metadata": {
        "colab": {
          "base_uri": "https://localhost:8080/"
        },
        "id": "qjvyUQ5mUxo4",
        "outputId": "13492980-da1d-40fa-d443-bce38ad8e558"
      },
      "source": [
        "print(cars[['cars_per_cap']])  # print the actual data"
      ],
      "execution_count": null,
      "outputs": [
        {
          "output_type": "stream",
          "text": [
            "   cars_per_cap\n",
            "0           809\n",
            "1           731\n",
            "2           588\n",
            "3            18\n",
            "4           200\n",
            "5            70\n",
            "6            45\n"
          ],
          "name": "stdout"
        }
      ]
    },
    {
      "cell_type": "code",
      "metadata": {
        "colab": {
          "base_uri": "https://localhost:8080/"
        },
        "id": "t0LpNz90U340",
        "outputId": "590110c3-5851-45e0-99de-332b550fb002"
      },
      "source": [
        "# Read the data again and set the 1st column as the index column. Then, print the cars dataframe.\n",
        "cars.set_index='code'\n",
        "print(cars)"
      ],
      "execution_count": null,
      "outputs": [
        {
          "output_type": "stream",
          "text": [
            "  code  cars_per_cap        country  drives_right\n",
            "0   US           809  United States          True\n",
            "1  AUS           731      Australia         False\n",
            "2  JAP           588          Japan         False\n",
            "3   IN            18          India         False\n",
            "4   RU           200         Russia          True\n",
            "5  MOR            70        Morocco          True\n",
            "6   EG            45          Egypt          True\n"
          ],
          "name": "stdout"
        }
      ]
    },
    {
      "cell_type": "code",
      "metadata": {
        "colab": {
          "base_uri": "https://localhost:8080/"
        },
        "id": "By-tV_DVVk_N",
        "outputId": "4dcab8dc-5842-4fc3-9533-f055d9425569"
      },
      "source": [
        "# Print the details of RU\n",
        "cars.iloc[4] "
      ],
      "execution_count": null,
      "outputs": [
        {
          "output_type": "execute_result",
          "data": {
            "text/plain": [
              "code                RU\n",
              "cars_per_cap       200\n",
              "country         Russia\n",
              "drives_right      True\n",
              "Name: 4, dtype: object"
            ]
          },
          "metadata": {
            "tags": []
          },
          "execution_count": 57
        }
      ]
    },
    {
      "cell_type": "code",
      "metadata": {
        "colab": {
          "base_uri": "https://localhost:8080/"
        },
        "id": "dsLc-enqYUde",
        "outputId": "ec39d863-38f2-45b4-ee1d-0385ad607e85"
      },
      "source": [
        "# Print all details for RU and AUS from cars dataframe\n",
        "df = cars.loc[4,:]\n",
        "df2 = cars.loc[1,:]\n",
        "print(df)\n",
        "print(df2)"
      ],
      "execution_count": null,
      "outputs": [
        {
          "output_type": "stream",
          "text": [
            "code                RU\n",
            "cars_per_cap       200\n",
            "country         Russia\n",
            "drives_right      True\n",
            "Name: 4, dtype: object\n",
            "code                  AUS\n",
            "cars_per_cap          731\n",
            "country         Australia\n",
            "drives_right        False\n",
            "Name: 1, dtype: object\n"
          ],
          "name": "stdout"
        }
      ]
    },
    {
      "cell_type": "code",
      "metadata": {
        "colab": {
          "base_uri": "https://localhost:8080/"
        },
        "id": "gf48xg9zY33d",
        "outputId": "94b3803b-b84a-4efc-b684-953b1fbc6f16"
      },
      "source": [
        "# Print the Cars Per Capita (cars_per_cap) for India (IN)\n",
        "cars.loc[3,:'cars_per_cap']"
      ],
      "execution_count": null,
      "outputs": [
        {
          "output_type": "execute_result",
          "data": {
            "text/plain": [
              "code            IN\n",
              "cars_per_cap    18\n",
              "Name: 3, dtype: object"
            ]
          },
          "metadata": {
            "tags": []
          },
          "execution_count": 60
        }
      ]
    },
    {
      "cell_type": "code",
      "metadata": {
        "colab": {
          "base_uri": "https://localhost:8080/",
          "height": 110
        },
        "id": "cQpw8UXiayTY",
        "outputId": "2ceabe32-f525-45a7-b706-b4aed1f373a6"
      },
      "source": [
        "# Print the Cars Per Capita (cars_per_cap) for India (IN) and Russia (RU)\n",
        "cars.loc[3:4,:'cars_per_cap']"
      ],
      "execution_count": null,
      "outputs": [
        {
          "output_type": "execute_result",
          "data": {
            "text/html": [
              "<div>\n",
              "<style scoped>\n",
              "    .dataframe tbody tr th:only-of-type {\n",
              "        vertical-align: middle;\n",
              "    }\n",
              "\n",
              "    .dataframe tbody tr th {\n",
              "        vertical-align: top;\n",
              "    }\n",
              "\n",
              "    .dataframe thead th {\n",
              "        text-align: right;\n",
              "    }\n",
              "</style>\n",
              "<table border=\"1\" class=\"dataframe\">\n",
              "  <thead>\n",
              "    <tr style=\"text-align: right;\">\n",
              "      <th></th>\n",
              "      <th>code</th>\n",
              "      <th>cars_per_cap</th>\n",
              "    </tr>\n",
              "  </thead>\n",
              "  <tbody>\n",
              "    <tr>\n",
              "      <th>3</th>\n",
              "      <td>IN</td>\n",
              "      <td>18</td>\n",
              "    </tr>\n",
              "    <tr>\n",
              "      <th>4</th>\n",
              "      <td>RU</td>\n",
              "      <td>200</td>\n",
              "    </tr>\n",
              "  </tbody>\n",
              "</table>\n",
              "</div>"
            ],
            "text/plain": [
              "  code  cars_per_cap\n",
              "3   IN            18\n",
              "4   RU           200"
            ]
          },
          "metadata": {
            "tags": []
          },
          "execution_count": 61
        }
      ]
    },
    {
      "cell_type": "code",
      "metadata": {
        "colab": {
          "base_uri": "https://localhost:8080/",
          "height": 110
        },
        "id": "RNK8WBpmbRYX",
        "outputId": "d83103f4-fa11-45e2-d3a0-9abf6617d542"
      },
      "source": [
        "# Print the Cars Per Capita and Country name for India and Russia\n",
        "cars.loc[3:4, 'cars_per_cap':'country']"
      ],
      "execution_count": null,
      "outputs": [
        {
          "output_type": "execute_result",
          "data": {
            "text/html": [
              "<div>\n",
              "<style scoped>\n",
              "    .dataframe tbody tr th:only-of-type {\n",
              "        vertical-align: middle;\n",
              "    }\n",
              "\n",
              "    .dataframe tbody tr th {\n",
              "        vertical-align: top;\n",
              "    }\n",
              "\n",
              "    .dataframe thead th {\n",
              "        text-align: right;\n",
              "    }\n",
              "</style>\n",
              "<table border=\"1\" class=\"dataframe\">\n",
              "  <thead>\n",
              "    <tr style=\"text-align: right;\">\n",
              "      <th></th>\n",
              "      <th>cars_per_cap</th>\n",
              "      <th>country</th>\n",
              "    </tr>\n",
              "  </thead>\n",
              "  <tbody>\n",
              "    <tr>\n",
              "      <th>3</th>\n",
              "      <td>18</td>\n",
              "      <td>India</td>\n",
              "    </tr>\n",
              "    <tr>\n",
              "      <th>4</th>\n",
              "      <td>200</td>\n",
              "      <td>Russia</td>\n",
              "    </tr>\n",
              "  </tbody>\n",
              "</table>\n",
              "</div>"
            ],
            "text/plain": [
              "   cars_per_cap country\n",
              "3            18   India\n",
              "4           200  Russia"
            ]
          },
          "metadata": {
            "tags": []
          },
          "execution_count": 62
        }
      ]
    },
    {
      "cell_type": "markdown",
      "metadata": {
        "id": "vj7yjfP1dsGq"
      },
      "source": [
        "#Pandas Advanced and Matplotlib"
      ]
    },
    {
      "cell_type": "code",
      "metadata": {
        "colab": {
          "base_uri": "https://localhost:8080/"
        },
        "id": "ApHowbymdu2-",
        "outputId": "27b97ad1-9f19-4f5c-9102-a09d6d83827b"
      },
      "source": [
        "marks.shape"
      ],
      "execution_count": null,
      "outputs": [
        {
          "output_type": "execute_result",
          "data": {
            "text/plain": [
              "(20, 7)"
            ]
          },
          "metadata": {
            "tags": []
          },
          "execution_count": 63
        }
      ]
    },
    {
      "cell_type": "code",
      "metadata": {
        "colab": {
          "base_uri": "https://localhost:8080/"
        },
        "id": "MyM7GhXwd7O6",
        "outputId": "69d84a7b-4b43-4577-f486-b52da4d76fa4"
      },
      "source": [
        "# Get the information and structure of the data with non-null value counts\n",
        "marks.info()"
      ],
      "execution_count": null,
      "outputs": [
        {
          "output_type": "stream",
          "text": [
            "<class 'pandas.core.frame.DataFrame'>\n",
            "RangeIndex: 20 entries, 0 to 19\n",
            "Data columns (total 7 columns):\n",
            " #   Column          Non-Null Count  Dtype  \n",
            "---  ------          --------------  -----  \n",
            " 0   Student_ID      20 non-null     object \n",
            " 1   Student_Name    20 non-null     object \n",
            " 2   English         20 non-null     float64\n",
            " 3   Maths           20 non-null     float64\n",
            " 4   Science         20 non-null     float64\n",
            " 5   History         20 non-null     float64\n",
            " 6   Social_Studies  20 non-null     float64\n",
            "dtypes: float64(5), object(2)\n",
            "memory usage: 1.2+ KB\n"
          ],
          "name": "stdout"
        }
      ]
    },
    {
      "cell_type": "code",
      "metadata": {
        "colab": {
          "base_uri": "https://localhost:8080/"
        },
        "id": "qmco6dnFeF7a",
        "outputId": "ad270398-a990-4c19-a741-466bff919cfc"
      },
      "source": [
        "# Print datatypes of the each column\n",
        "marks.dtypes"
      ],
      "execution_count": null,
      "outputs": [
        {
          "output_type": "execute_result",
          "data": {
            "text/plain": [
              "Student_ID         object\n",
              "Student_Name       object\n",
              "English           float64\n",
              "Maths             float64\n",
              "Science           float64\n",
              "History           float64\n",
              "Social_Studies    float64\n",
              "dtype: object"
            ]
          },
          "metadata": {
            "tags": []
          },
          "execution_count": 65
        }
      ]
    },
    {
      "cell_type": "code",
      "metadata": {
        "colab": {
          "base_uri": "https://localhost:8080/"
        },
        "id": "gIisw4dBeOrJ",
        "outputId": "04ad0203-5b94-4e67-d255-c75f2303a316"
      },
      "source": [
        "print(type(marks))\n",
        "print(type(marks.English))  # Column's dtype is Series, the dtype of the values is Object.\n",
        "print(type(5))\n",
        "print(type(5.5))\n",
        "print(type(\"Python\"))\n",
        "print(type(True))"
      ],
      "execution_count": null,
      "outputs": [
        {
          "output_type": "stream",
          "text": [
            "<class 'pandas.core.frame.DataFrame'>\n",
            "<class 'pandas.core.series.Series'>\n",
            "<class 'int'>\n",
            "<class 'float'>\n",
            "<class 'str'>\n",
            "<class 'bool'>\n"
          ],
          "name": "stdout"
        }
      ]
    },
    {
      "cell_type": "code",
      "metadata": {
        "colab": {
          "base_uri": "https://localhost:8080/"
        },
        "id": "1LiBcIUwe5W6",
        "outputId": "8bfc4b67-70be-48bb-ce2d-24c9ccdd0f14"
      },
      "source": [
        "# Run these lines one by one and observe the difference in the three outputs.\n",
        "print(marks)"
      ],
      "execution_count": null,
      "outputs": [
        {
          "output_type": "stream",
          "text": [
            "   Student_ID Student_Name    English  ...    Science    History  Social_Studies\n",
            "0         S01        Alice  96.874050  ...  58.682033  59.690510       61.373070\n",
            "1         S02          Bob   5.462131  ...  83.171957  45.664012       80.805730\n",
            "2         S03      Charlie  60.753099  ...  99.323628  24.281512       58.057612\n",
            "3         S04        David  21.160844  ...  35.860852  62.865185       95.264572\n",
            "4         S05       Edward  63.250994  ...   7.020915  60.505272       34.041671\n",
            "5         S06        Fysal  42.694748  ...  37.216613  33.784399       85.019761\n",
            "6         S07       George  66.276626  ...  14.219533  18.582771       87.021849\n",
            "7         S08       Hareez   5.302984  ...  43.980951  54.410098       74.530018\n",
            "8         S09         Ivan   5.777530  ...  94.559212  38.355867       90.483635\n",
            "9         S10         John  30.968731  ...   3.312853  79.916094       32.706891\n",
            "10        S11       Kelvin  40.219985  ...  16.826141   7.462064       34.449110\n",
            "11        S12          Lia  95.928421  ...  95.440164  43.520213       71.930382\n",
            "12        S13        Maria   8.215446  ...  16.518147  36.543154       80.665074\n",
            "13        S14         Noel  72.833673  ...  22.089014  52.867757       20.583259\n",
            "14        S15       Oliver   5.982402  ...  40.977224  80.925749       83.312063\n",
            "15        S16        Peter  40.694327  ...   8.149884  13.852098       74.528425\n",
            "16        S17          Roy  43.559963  ...  13.924531  71.306738        8.432155\n",
            "17        S18          Ria  30.830802  ...  84.271650  78.727155        7.305670\n",
            "18        S19        Suvin  72.218179  ...  32.555060  47.007177       83.344403\n",
            "19        S20          Tan  18.070264  ...   2.618987  14.067349       82.802787\n",
            "\n",
            "[20 rows x 7 columns]\n"
          ],
          "name": "stdout"
        }
      ]
    },
    {
      "cell_type": "code",
      "metadata": {
        "colab": {
          "base_uri": "https://localhost:8080/",
          "height": 662
        },
        "id": "9oXNc29ufKV-",
        "outputId": "44bd1cd8-6b26-4a98-dd95-b9b6731012e5"
      },
      "source": [
        "display(marks) "
      ],
      "execution_count": null,
      "outputs": [
        {
          "output_type": "display_data",
          "data": {
            "text/html": [
              "<div>\n",
              "<style scoped>\n",
              "    .dataframe tbody tr th:only-of-type {\n",
              "        vertical-align: middle;\n",
              "    }\n",
              "\n",
              "    .dataframe tbody tr th {\n",
              "        vertical-align: top;\n",
              "    }\n",
              "\n",
              "    .dataframe thead th {\n",
              "        text-align: right;\n",
              "    }\n",
              "</style>\n",
              "<table border=\"1\" class=\"dataframe\">\n",
              "  <thead>\n",
              "    <tr style=\"text-align: right;\">\n",
              "      <th></th>\n",
              "      <th>Student_ID</th>\n",
              "      <th>Student_Name</th>\n",
              "      <th>English</th>\n",
              "      <th>Maths</th>\n",
              "      <th>Science</th>\n",
              "      <th>History</th>\n",
              "      <th>Social_Studies</th>\n",
              "    </tr>\n",
              "  </thead>\n",
              "  <tbody>\n",
              "    <tr>\n",
              "      <th>0</th>\n",
              "      <td>S01</td>\n",
              "      <td>Alice</td>\n",
              "      <td>96.874050</td>\n",
              "      <td>15.367999</td>\n",
              "      <td>58.682033</td>\n",
              "      <td>59.690510</td>\n",
              "      <td>61.373070</td>\n",
              "    </tr>\n",
              "    <tr>\n",
              "      <th>1</th>\n",
              "      <td>S02</td>\n",
              "      <td>Bob</td>\n",
              "      <td>5.462131</td>\n",
              "      <td>81.032680</td>\n",
              "      <td>83.171957</td>\n",
              "      <td>45.664012</td>\n",
              "      <td>80.805730</td>\n",
              "    </tr>\n",
              "    <tr>\n",
              "      <th>2</th>\n",
              "      <td>S03</td>\n",
              "      <td>Charlie</td>\n",
              "      <td>60.753099</td>\n",
              "      <td>65.219548</td>\n",
              "      <td>99.323628</td>\n",
              "      <td>24.281512</td>\n",
              "      <td>58.057612</td>\n",
              "    </tr>\n",
              "    <tr>\n",
              "      <th>3</th>\n",
              "      <td>S04</td>\n",
              "      <td>David</td>\n",
              "      <td>21.160844</td>\n",
              "      <td>95.052971</td>\n",
              "      <td>35.860852</td>\n",
              "      <td>62.865185</td>\n",
              "      <td>95.264572</td>\n",
              "    </tr>\n",
              "    <tr>\n",
              "      <th>4</th>\n",
              "      <td>S05</td>\n",
              "      <td>Edward</td>\n",
              "      <td>63.250994</td>\n",
              "      <td>60.693247</td>\n",
              "      <td>7.020915</td>\n",
              "      <td>60.505272</td>\n",
              "      <td>34.041671</td>\n",
              "    </tr>\n",
              "    <tr>\n",
              "      <th>5</th>\n",
              "      <td>S06</td>\n",
              "      <td>Fysal</td>\n",
              "      <td>42.694748</td>\n",
              "      <td>77.348295</td>\n",
              "      <td>37.216613</td>\n",
              "      <td>33.784399</td>\n",
              "      <td>85.019761</td>\n",
              "    </tr>\n",
              "    <tr>\n",
              "      <th>6</th>\n",
              "      <td>S07</td>\n",
              "      <td>George</td>\n",
              "      <td>66.276626</td>\n",
              "      <td>46.812190</td>\n",
              "      <td>14.219533</td>\n",
              "      <td>18.582771</td>\n",
              "      <td>87.021849</td>\n",
              "    </tr>\n",
              "    <tr>\n",
              "      <th>7</th>\n",
              "      <td>S08</td>\n",
              "      <td>Hareez</td>\n",
              "      <td>5.302984</td>\n",
              "      <td>11.966929</td>\n",
              "      <td>43.980951</td>\n",
              "      <td>54.410098</td>\n",
              "      <td>74.530018</td>\n",
              "    </tr>\n",
              "    <tr>\n",
              "      <th>8</th>\n",
              "      <td>S09</td>\n",
              "      <td>Ivan</td>\n",
              "      <td>5.777530</td>\n",
              "      <td>79.508179</td>\n",
              "      <td>94.559212</td>\n",
              "      <td>38.355867</td>\n",
              "      <td>90.483635</td>\n",
              "    </tr>\n",
              "    <tr>\n",
              "      <th>9</th>\n",
              "      <td>S10</td>\n",
              "      <td>John</td>\n",
              "      <td>30.968731</td>\n",
              "      <td>14.282925</td>\n",
              "      <td>3.312853</td>\n",
              "      <td>79.916094</td>\n",
              "      <td>32.706891</td>\n",
              "    </tr>\n",
              "    <tr>\n",
              "      <th>10</th>\n",
              "      <td>S11</td>\n",
              "      <td>Kelvin</td>\n",
              "      <td>40.219985</td>\n",
              "      <td>55.325651</td>\n",
              "      <td>16.826141</td>\n",
              "      <td>7.462064</td>\n",
              "      <td>34.449110</td>\n",
              "    </tr>\n",
              "    <tr>\n",
              "      <th>11</th>\n",
              "      <td>S12</td>\n",
              "      <td>Lia</td>\n",
              "      <td>95.928421</td>\n",
              "      <td>35.789430</td>\n",
              "      <td>95.440164</td>\n",
              "      <td>43.520213</td>\n",
              "      <td>71.930382</td>\n",
              "    </tr>\n",
              "    <tr>\n",
              "      <th>12</th>\n",
              "      <td>S13</td>\n",
              "      <td>Maria</td>\n",
              "      <td>8.215446</td>\n",
              "      <td>25.042783</td>\n",
              "      <td>16.518147</td>\n",
              "      <td>36.543154</td>\n",
              "      <td>80.665074</td>\n",
              "    </tr>\n",
              "    <tr>\n",
              "      <th>13</th>\n",
              "      <td>S14</td>\n",
              "      <td>Noel</td>\n",
              "      <td>72.833673</td>\n",
              "      <td>7.160086</td>\n",
              "      <td>22.089014</td>\n",
              "      <td>52.867757</td>\n",
              "      <td>20.583259</td>\n",
              "    </tr>\n",
              "    <tr>\n",
              "      <th>14</th>\n",
              "      <td>S15</td>\n",
              "      <td>Oliver</td>\n",
              "      <td>5.982402</td>\n",
              "      <td>16.460926</td>\n",
              "      <td>40.977224</td>\n",
              "      <td>80.925749</td>\n",
              "      <td>83.312063</td>\n",
              "    </tr>\n",
              "    <tr>\n",
              "      <th>15</th>\n",
              "      <td>S16</td>\n",
              "      <td>Peter</td>\n",
              "      <td>40.694327</td>\n",
              "      <td>91.395888</td>\n",
              "      <td>8.149884</td>\n",
              "      <td>13.852098</td>\n",
              "      <td>74.528425</td>\n",
              "    </tr>\n",
              "    <tr>\n",
              "      <th>16</th>\n",
              "      <td>S17</td>\n",
              "      <td>Roy</td>\n",
              "      <td>43.559963</td>\n",
              "      <td>99.270852</td>\n",
              "      <td>13.924531</td>\n",
              "      <td>71.306738</td>\n",
              "      <td>8.432155</td>\n",
              "    </tr>\n",
              "    <tr>\n",
              "      <th>17</th>\n",
              "      <td>S18</td>\n",
              "      <td>Ria</td>\n",
              "      <td>30.830802</td>\n",
              "      <td>25.545682</td>\n",
              "      <td>84.271650</td>\n",
              "      <td>78.727155</td>\n",
              "      <td>7.305670</td>\n",
              "    </tr>\n",
              "    <tr>\n",
              "      <th>18</th>\n",
              "      <td>S19</td>\n",
              "      <td>Suvin</td>\n",
              "      <td>72.218179</td>\n",
              "      <td>85.284128</td>\n",
              "      <td>32.555060</td>\n",
              "      <td>47.007177</td>\n",
              "      <td>83.344403</td>\n",
              "    </tr>\n",
              "    <tr>\n",
              "      <th>19</th>\n",
              "      <td>S20</td>\n",
              "      <td>Tan</td>\n",
              "      <td>18.070264</td>\n",
              "      <td>56.662635</td>\n",
              "      <td>2.618987</td>\n",
              "      <td>14.067349</td>\n",
              "      <td>82.802787</td>\n",
              "    </tr>\n",
              "  </tbody>\n",
              "</table>\n",
              "</div>"
            ],
            "text/plain": [
              "   Student_ID Student_Name    English  ...    Science    History  Social_Studies\n",
              "0         S01        Alice  96.874050  ...  58.682033  59.690510       61.373070\n",
              "1         S02          Bob   5.462131  ...  83.171957  45.664012       80.805730\n",
              "2         S03      Charlie  60.753099  ...  99.323628  24.281512       58.057612\n",
              "3         S04        David  21.160844  ...  35.860852  62.865185       95.264572\n",
              "4         S05       Edward  63.250994  ...   7.020915  60.505272       34.041671\n",
              "5         S06        Fysal  42.694748  ...  37.216613  33.784399       85.019761\n",
              "6         S07       George  66.276626  ...  14.219533  18.582771       87.021849\n",
              "7         S08       Hareez   5.302984  ...  43.980951  54.410098       74.530018\n",
              "8         S09         Ivan   5.777530  ...  94.559212  38.355867       90.483635\n",
              "9         S10         John  30.968731  ...   3.312853  79.916094       32.706891\n",
              "10        S11       Kelvin  40.219985  ...  16.826141   7.462064       34.449110\n",
              "11        S12          Lia  95.928421  ...  95.440164  43.520213       71.930382\n",
              "12        S13        Maria   8.215446  ...  16.518147  36.543154       80.665074\n",
              "13        S14         Noel  72.833673  ...  22.089014  52.867757       20.583259\n",
              "14        S15       Oliver   5.982402  ...  40.977224  80.925749       83.312063\n",
              "15        S16        Peter  40.694327  ...   8.149884  13.852098       74.528425\n",
              "16        S17          Roy  43.559963  ...  13.924531  71.306738        8.432155\n",
              "17        S18          Ria  30.830802  ...  84.271650  78.727155        7.305670\n",
              "18        S19        Suvin  72.218179  ...  32.555060  47.007177       83.344403\n",
              "19        S20          Tan  18.070264  ...   2.618987  14.067349       82.802787\n",
              "\n",
              "[20 rows x 7 columns]"
            ]
          },
          "metadata": {
            "tags": []
          }
        }
      ]
    },
    {
      "cell_type": "code",
      "metadata": {
        "colab": {
          "base_uri": "https://localhost:8080/",
          "height": 662
        },
        "id": "PZTKrQ23fO21",
        "outputId": "f4b6f713-3b31-4299-f237-8e601ff5b03e"
      },
      "source": [
        "marks"
      ],
      "execution_count": null,
      "outputs": [
        {
          "output_type": "execute_result",
          "data": {
            "text/html": [
              "<div>\n",
              "<style scoped>\n",
              "    .dataframe tbody tr th:only-of-type {\n",
              "        vertical-align: middle;\n",
              "    }\n",
              "\n",
              "    .dataframe tbody tr th {\n",
              "        vertical-align: top;\n",
              "    }\n",
              "\n",
              "    .dataframe thead th {\n",
              "        text-align: right;\n",
              "    }\n",
              "</style>\n",
              "<table border=\"1\" class=\"dataframe\">\n",
              "  <thead>\n",
              "    <tr style=\"text-align: right;\">\n",
              "      <th></th>\n",
              "      <th>Student_ID</th>\n",
              "      <th>Student_Name</th>\n",
              "      <th>English</th>\n",
              "      <th>Maths</th>\n",
              "      <th>Science</th>\n",
              "      <th>History</th>\n",
              "      <th>Social_Studies</th>\n",
              "    </tr>\n",
              "  </thead>\n",
              "  <tbody>\n",
              "    <tr>\n",
              "      <th>0</th>\n",
              "      <td>S01</td>\n",
              "      <td>Alice</td>\n",
              "      <td>96.874050</td>\n",
              "      <td>15.367999</td>\n",
              "      <td>58.682033</td>\n",
              "      <td>59.690510</td>\n",
              "      <td>61.373070</td>\n",
              "    </tr>\n",
              "    <tr>\n",
              "      <th>1</th>\n",
              "      <td>S02</td>\n",
              "      <td>Bob</td>\n",
              "      <td>5.462131</td>\n",
              "      <td>81.032680</td>\n",
              "      <td>83.171957</td>\n",
              "      <td>45.664012</td>\n",
              "      <td>80.805730</td>\n",
              "    </tr>\n",
              "    <tr>\n",
              "      <th>2</th>\n",
              "      <td>S03</td>\n",
              "      <td>Charlie</td>\n",
              "      <td>60.753099</td>\n",
              "      <td>65.219548</td>\n",
              "      <td>99.323628</td>\n",
              "      <td>24.281512</td>\n",
              "      <td>58.057612</td>\n",
              "    </tr>\n",
              "    <tr>\n",
              "      <th>3</th>\n",
              "      <td>S04</td>\n",
              "      <td>David</td>\n",
              "      <td>21.160844</td>\n",
              "      <td>95.052971</td>\n",
              "      <td>35.860852</td>\n",
              "      <td>62.865185</td>\n",
              "      <td>95.264572</td>\n",
              "    </tr>\n",
              "    <tr>\n",
              "      <th>4</th>\n",
              "      <td>S05</td>\n",
              "      <td>Edward</td>\n",
              "      <td>63.250994</td>\n",
              "      <td>60.693247</td>\n",
              "      <td>7.020915</td>\n",
              "      <td>60.505272</td>\n",
              "      <td>34.041671</td>\n",
              "    </tr>\n",
              "    <tr>\n",
              "      <th>5</th>\n",
              "      <td>S06</td>\n",
              "      <td>Fysal</td>\n",
              "      <td>42.694748</td>\n",
              "      <td>77.348295</td>\n",
              "      <td>37.216613</td>\n",
              "      <td>33.784399</td>\n",
              "      <td>85.019761</td>\n",
              "    </tr>\n",
              "    <tr>\n",
              "      <th>6</th>\n",
              "      <td>S07</td>\n",
              "      <td>George</td>\n",
              "      <td>66.276626</td>\n",
              "      <td>46.812190</td>\n",
              "      <td>14.219533</td>\n",
              "      <td>18.582771</td>\n",
              "      <td>87.021849</td>\n",
              "    </tr>\n",
              "    <tr>\n",
              "      <th>7</th>\n",
              "      <td>S08</td>\n",
              "      <td>Hareez</td>\n",
              "      <td>5.302984</td>\n",
              "      <td>11.966929</td>\n",
              "      <td>43.980951</td>\n",
              "      <td>54.410098</td>\n",
              "      <td>74.530018</td>\n",
              "    </tr>\n",
              "    <tr>\n",
              "      <th>8</th>\n",
              "      <td>S09</td>\n",
              "      <td>Ivan</td>\n",
              "      <td>5.777530</td>\n",
              "      <td>79.508179</td>\n",
              "      <td>94.559212</td>\n",
              "      <td>38.355867</td>\n",
              "      <td>90.483635</td>\n",
              "    </tr>\n",
              "    <tr>\n",
              "      <th>9</th>\n",
              "      <td>S10</td>\n",
              "      <td>John</td>\n",
              "      <td>30.968731</td>\n",
              "      <td>14.282925</td>\n",
              "      <td>3.312853</td>\n",
              "      <td>79.916094</td>\n",
              "      <td>32.706891</td>\n",
              "    </tr>\n",
              "    <tr>\n",
              "      <th>10</th>\n",
              "      <td>S11</td>\n",
              "      <td>Kelvin</td>\n",
              "      <td>40.219985</td>\n",
              "      <td>55.325651</td>\n",
              "      <td>16.826141</td>\n",
              "      <td>7.462064</td>\n",
              "      <td>34.449110</td>\n",
              "    </tr>\n",
              "    <tr>\n",
              "      <th>11</th>\n",
              "      <td>S12</td>\n",
              "      <td>Lia</td>\n",
              "      <td>95.928421</td>\n",
              "      <td>35.789430</td>\n",
              "      <td>95.440164</td>\n",
              "      <td>43.520213</td>\n",
              "      <td>71.930382</td>\n",
              "    </tr>\n",
              "    <tr>\n",
              "      <th>12</th>\n",
              "      <td>S13</td>\n",
              "      <td>Maria</td>\n",
              "      <td>8.215446</td>\n",
              "      <td>25.042783</td>\n",
              "      <td>16.518147</td>\n",
              "      <td>36.543154</td>\n",
              "      <td>80.665074</td>\n",
              "    </tr>\n",
              "    <tr>\n",
              "      <th>13</th>\n",
              "      <td>S14</td>\n",
              "      <td>Noel</td>\n",
              "      <td>72.833673</td>\n",
              "      <td>7.160086</td>\n",
              "      <td>22.089014</td>\n",
              "      <td>52.867757</td>\n",
              "      <td>20.583259</td>\n",
              "    </tr>\n",
              "    <tr>\n",
              "      <th>14</th>\n",
              "      <td>S15</td>\n",
              "      <td>Oliver</td>\n",
              "      <td>5.982402</td>\n",
              "      <td>16.460926</td>\n",
              "      <td>40.977224</td>\n",
              "      <td>80.925749</td>\n",
              "      <td>83.312063</td>\n",
              "    </tr>\n",
              "    <tr>\n",
              "      <th>15</th>\n",
              "      <td>S16</td>\n",
              "      <td>Peter</td>\n",
              "      <td>40.694327</td>\n",
              "      <td>91.395888</td>\n",
              "      <td>8.149884</td>\n",
              "      <td>13.852098</td>\n",
              "      <td>74.528425</td>\n",
              "    </tr>\n",
              "    <tr>\n",
              "      <th>16</th>\n",
              "      <td>S17</td>\n",
              "      <td>Roy</td>\n",
              "      <td>43.559963</td>\n",
              "      <td>99.270852</td>\n",
              "      <td>13.924531</td>\n",
              "      <td>71.306738</td>\n",
              "      <td>8.432155</td>\n",
              "    </tr>\n",
              "    <tr>\n",
              "      <th>17</th>\n",
              "      <td>S18</td>\n",
              "      <td>Ria</td>\n",
              "      <td>30.830802</td>\n",
              "      <td>25.545682</td>\n",
              "      <td>84.271650</td>\n",
              "      <td>78.727155</td>\n",
              "      <td>7.305670</td>\n",
              "    </tr>\n",
              "    <tr>\n",
              "      <th>18</th>\n",
              "      <td>S19</td>\n",
              "      <td>Suvin</td>\n",
              "      <td>72.218179</td>\n",
              "      <td>85.284128</td>\n",
              "      <td>32.555060</td>\n",
              "      <td>47.007177</td>\n",
              "      <td>83.344403</td>\n",
              "    </tr>\n",
              "    <tr>\n",
              "      <th>19</th>\n",
              "      <td>S20</td>\n",
              "      <td>Tan</td>\n",
              "      <td>18.070264</td>\n",
              "      <td>56.662635</td>\n",
              "      <td>2.618987</td>\n",
              "      <td>14.067349</td>\n",
              "      <td>82.802787</td>\n",
              "    </tr>\n",
              "  </tbody>\n",
              "</table>\n",
              "</div>"
            ],
            "text/plain": [
              "   Student_ID Student_Name    English  ...    Science    History  Social_Studies\n",
              "0         S01        Alice  96.874050  ...  58.682033  59.690510       61.373070\n",
              "1         S02          Bob   5.462131  ...  83.171957  45.664012       80.805730\n",
              "2         S03      Charlie  60.753099  ...  99.323628  24.281512       58.057612\n",
              "3         S04        David  21.160844  ...  35.860852  62.865185       95.264572\n",
              "4         S05       Edward  63.250994  ...   7.020915  60.505272       34.041671\n",
              "5         S06        Fysal  42.694748  ...  37.216613  33.784399       85.019761\n",
              "6         S07       George  66.276626  ...  14.219533  18.582771       87.021849\n",
              "7         S08       Hareez   5.302984  ...  43.980951  54.410098       74.530018\n",
              "8         S09         Ivan   5.777530  ...  94.559212  38.355867       90.483635\n",
              "9         S10         John  30.968731  ...   3.312853  79.916094       32.706891\n",
              "10        S11       Kelvin  40.219985  ...  16.826141   7.462064       34.449110\n",
              "11        S12          Lia  95.928421  ...  95.440164  43.520213       71.930382\n",
              "12        S13        Maria   8.215446  ...  16.518147  36.543154       80.665074\n",
              "13        S14         Noel  72.833673  ...  22.089014  52.867757       20.583259\n",
              "14        S15       Oliver   5.982402  ...  40.977224  80.925749       83.312063\n",
              "15        S16        Peter  40.694327  ...   8.149884  13.852098       74.528425\n",
              "16        S17          Roy  43.559963  ...  13.924531  71.306738        8.432155\n",
              "17        S18          Ria  30.830802  ...  84.271650  78.727155        7.305670\n",
              "18        S19        Suvin  72.218179  ...  32.555060  47.007177       83.344403\n",
              "19        S20          Tan  18.070264  ...   2.618987  14.067349       82.802787\n",
              "\n",
              "[20 rows x 7 columns]"
            ]
          },
          "metadata": {
            "tags": []
          },
          "execution_count": 69
        }
      ]
    },
    {
      "cell_type": "markdown",
      "metadata": {
        "id": "dsPtJ-7ifctj"
      },
      "source": [
        "##Using range and multiple values in .loc and .iloc"
      ]
    },
    {
      "cell_type": "code",
      "metadata": {
        "colab": {
          "base_uri": "https://localhost:8080/"
        },
        "id": "XZ0GKzswfe7B",
        "outputId": "2d409bf1-e32b-47de-a587-a9732503154a"
      },
      "source": [
        "num = 5 # Assignment. No output of assignment operator. \n",
        "num"
      ],
      "execution_count": null,
      "outputs": [
        {
          "output_type": "execute_result",
          "data": {
            "text/plain": [
              "5"
            ]
          },
          "metadata": {
            "tags": []
          },
          "execution_count": 70
        }
      ]
    },
    {
      "cell_type": "code",
      "metadata": {
        "colab": {
          "base_uri": "https://localhost:8080/"
        },
        "id": "3OlBvyR9f4ce",
        "outputId": "2c7ce7ca-3234-490b-fbfc-2006afd8ee82"
      },
      "source": [
        "\n",
        "num == 6 # Comparison/equality. Output is either True or False"
      ],
      "execution_count": null,
      "outputs": [
        {
          "output_type": "execute_result",
          "data": {
            "text/plain": [
              "False"
            ]
          },
          "metadata": {
            "tags": []
          },
          "execution_count": 71
        }
      ]
    },
    {
      "cell_type": "code",
      "metadata": {
        "colab": {
          "base_uri": "https://localhost:8080/",
          "height": 78
        },
        "id": "R2ry_7r8f7jQ",
        "outputId": "6de004b5-7411-4a3d-bd8e-08a94a5094c9"
      },
      "source": [
        "# selecting marks for 'Ria'\n",
        "display(marks.loc[(marks.Student_Name == 'Ria')])  # in case the index is not known for large datasets"
      ],
      "execution_count": null,
      "outputs": [
        {
          "output_type": "display_data",
          "data": {
            "text/html": [
              "<div>\n",
              "<style scoped>\n",
              "    .dataframe tbody tr th:only-of-type {\n",
              "        vertical-align: middle;\n",
              "    }\n",
              "\n",
              "    .dataframe tbody tr th {\n",
              "        vertical-align: top;\n",
              "    }\n",
              "\n",
              "    .dataframe thead th {\n",
              "        text-align: right;\n",
              "    }\n",
              "</style>\n",
              "<table border=\"1\" class=\"dataframe\">\n",
              "  <thead>\n",
              "    <tr style=\"text-align: right;\">\n",
              "      <th></th>\n",
              "      <th>Student_ID</th>\n",
              "      <th>Student_Name</th>\n",
              "      <th>English</th>\n",
              "      <th>Maths</th>\n",
              "      <th>Science</th>\n",
              "      <th>History</th>\n",
              "      <th>Social_Studies</th>\n",
              "    </tr>\n",
              "  </thead>\n",
              "  <tbody>\n",
              "    <tr>\n",
              "      <th>17</th>\n",
              "      <td>S18</td>\n",
              "      <td>Ria</td>\n",
              "      <td>30.830802</td>\n",
              "      <td>25.545682</td>\n",
              "      <td>84.27165</td>\n",
              "      <td>78.727155</td>\n",
              "      <td>7.30567</td>\n",
              "    </tr>\n",
              "  </tbody>\n",
              "</table>\n",
              "</div>"
            ],
            "text/plain": [
              "   Student_ID Student_Name    English  ...   Science    History  Social_Studies\n",
              "17        S18          Ria  30.830802  ...  84.27165  78.727155         7.30567\n",
              "\n",
              "[1 rows x 7 columns]"
            ]
          },
          "metadata": {
            "tags": []
          }
        }
      ]
    },
    {
      "cell_type": "code",
      "metadata": {
        "colab": {
          "base_uri": "https://localhost:8080/",
          "height": 78
        },
        "id": "TfZr-aCTgF2e",
        "outputId": "493f955b-2f83-4da0-9992-c57154e34160"
      },
      "source": [
        "# Print all records for David\n",
        "display(marks.loc[(marks.Student_Name =='David')])"
      ],
      "execution_count": null,
      "outputs": [
        {
          "output_type": "display_data",
          "data": {
            "text/html": [
              "<div>\n",
              "<style scoped>\n",
              "    .dataframe tbody tr th:only-of-type {\n",
              "        vertical-align: middle;\n",
              "    }\n",
              "\n",
              "    .dataframe tbody tr th {\n",
              "        vertical-align: top;\n",
              "    }\n",
              "\n",
              "    .dataframe thead th {\n",
              "        text-align: right;\n",
              "    }\n",
              "</style>\n",
              "<table border=\"1\" class=\"dataframe\">\n",
              "  <thead>\n",
              "    <tr style=\"text-align: right;\">\n",
              "      <th></th>\n",
              "      <th>Student_ID</th>\n",
              "      <th>Student_Name</th>\n",
              "      <th>English</th>\n",
              "      <th>Maths</th>\n",
              "      <th>Science</th>\n",
              "      <th>History</th>\n",
              "      <th>Social_Studies</th>\n",
              "    </tr>\n",
              "  </thead>\n",
              "  <tbody>\n",
              "    <tr>\n",
              "      <th>3</th>\n",
              "      <td>S04</td>\n",
              "      <td>David</td>\n",
              "      <td>21.160844</td>\n",
              "      <td>95.052971</td>\n",
              "      <td>35.860852</td>\n",
              "      <td>62.865185</td>\n",
              "      <td>95.264572</td>\n",
              "    </tr>\n",
              "  </tbody>\n",
              "</table>\n",
              "</div>"
            ],
            "text/plain": [
              "  Student_ID Student_Name    English  ...    Science    History  Social_Studies\n",
              "3        S04        David  21.160844  ...  35.860852  62.865185       95.264572\n",
              "\n",
              "[1 rows x 7 columns]"
            ]
          },
          "metadata": {
            "tags": []
          }
        }
      ]
    },
    {
      "cell_type": "code",
      "metadata": {
        "colab": {
          "base_uri": "https://localhost:8080/",
          "height": 110
        },
        "id": "bfkG7hizgYOJ",
        "outputId": "e8e4e7a0-ea18-4c96-ceb5-d5892d5f69a7"
      },
      "source": [
        "# Using OR operator to print details if the name is either 'Ria' OR 'David'\n",
        "display(marks.loc[(marks.Student_Name == 'Ria') | (marks.Student_Name == 'David')]) "
      ],
      "execution_count": null,
      "outputs": [
        {
          "output_type": "display_data",
          "data": {
            "text/html": [
              "<div>\n",
              "<style scoped>\n",
              "    .dataframe tbody tr th:only-of-type {\n",
              "        vertical-align: middle;\n",
              "    }\n",
              "\n",
              "    .dataframe tbody tr th {\n",
              "        vertical-align: top;\n",
              "    }\n",
              "\n",
              "    .dataframe thead th {\n",
              "        text-align: right;\n",
              "    }\n",
              "</style>\n",
              "<table border=\"1\" class=\"dataframe\">\n",
              "  <thead>\n",
              "    <tr style=\"text-align: right;\">\n",
              "      <th></th>\n",
              "      <th>Student_ID</th>\n",
              "      <th>Student_Name</th>\n",
              "      <th>English</th>\n",
              "      <th>Maths</th>\n",
              "      <th>Science</th>\n",
              "      <th>History</th>\n",
              "      <th>Social_Studies</th>\n",
              "    </tr>\n",
              "  </thead>\n",
              "  <tbody>\n",
              "    <tr>\n",
              "      <th>3</th>\n",
              "      <td>S04</td>\n",
              "      <td>David</td>\n",
              "      <td>21.160844</td>\n",
              "      <td>95.052971</td>\n",
              "      <td>35.860852</td>\n",
              "      <td>62.865185</td>\n",
              "      <td>95.264572</td>\n",
              "    </tr>\n",
              "    <tr>\n",
              "      <th>17</th>\n",
              "      <td>S18</td>\n",
              "      <td>Ria</td>\n",
              "      <td>30.830802</td>\n",
              "      <td>25.545682</td>\n",
              "      <td>84.271650</td>\n",
              "      <td>78.727155</td>\n",
              "      <td>7.305670</td>\n",
              "    </tr>\n",
              "  </tbody>\n",
              "</table>\n",
              "</div>"
            ],
            "text/plain": [
              "   Student_ID Student_Name    English  ...    Science    History  Social_Studies\n",
              "3         S04        David  21.160844  ...  35.860852  62.865185       95.264572\n",
              "17        S18          Ria  30.830802  ...  84.271650  78.727155        7.305670\n",
              "\n",
              "[2 rows x 7 columns]"
            ]
          },
          "metadata": {
            "tags": []
          }
        }
      ]
    },
    {
      "cell_type": "code",
      "metadata": {
        "colab": {
          "base_uri": "https://localhost:8080/",
          "height": 110
        },
        "id": "GqrW0lzhgqcU",
        "outputId": "cc9d1872-e986-4917-9095-d9872cf3bcb6"
      },
      "source": [
        "# Print all records is the Student IS is either S05 or S10\n",
        "display(marks.loc[(marks.Student_ID =='S05') | (marks.Student_ID == 'S10')])"
      ],
      "execution_count": null,
      "outputs": [
        {
          "output_type": "display_data",
          "data": {
            "text/html": [
              "<div>\n",
              "<style scoped>\n",
              "    .dataframe tbody tr th:only-of-type {\n",
              "        vertical-align: middle;\n",
              "    }\n",
              "\n",
              "    .dataframe tbody tr th {\n",
              "        vertical-align: top;\n",
              "    }\n",
              "\n",
              "    .dataframe thead th {\n",
              "        text-align: right;\n",
              "    }\n",
              "</style>\n",
              "<table border=\"1\" class=\"dataframe\">\n",
              "  <thead>\n",
              "    <tr style=\"text-align: right;\">\n",
              "      <th></th>\n",
              "      <th>Student_ID</th>\n",
              "      <th>Student_Name</th>\n",
              "      <th>English</th>\n",
              "      <th>Maths</th>\n",
              "      <th>Science</th>\n",
              "      <th>History</th>\n",
              "      <th>Social_Studies</th>\n",
              "    </tr>\n",
              "  </thead>\n",
              "  <tbody>\n",
              "    <tr>\n",
              "      <th>4</th>\n",
              "      <td>S05</td>\n",
              "      <td>Edward</td>\n",
              "      <td>63.250994</td>\n",
              "      <td>60.693247</td>\n",
              "      <td>7.020915</td>\n",
              "      <td>60.505272</td>\n",
              "      <td>34.041671</td>\n",
              "    </tr>\n",
              "    <tr>\n",
              "      <th>9</th>\n",
              "      <td>S10</td>\n",
              "      <td>John</td>\n",
              "      <td>30.968731</td>\n",
              "      <td>14.282925</td>\n",
              "      <td>3.312853</td>\n",
              "      <td>79.916094</td>\n",
              "      <td>32.706891</td>\n",
              "    </tr>\n",
              "  </tbody>\n",
              "</table>\n",
              "</div>"
            ],
            "text/plain": [
              "  Student_ID Student_Name    English  ...   Science    History  Social_Studies\n",
              "4        S05       Edward  63.250994  ...  7.020915  60.505272       34.041671\n",
              "9        S10         John  30.968731  ...  3.312853  79.916094       32.706891\n",
              "\n",
              "[2 rows x 7 columns]"
            ]
          },
          "metadata": {
            "tags": []
          }
        }
      ]
    },
    {
      "cell_type": "code",
      "metadata": {
        "colab": {
          "base_uri": "https://localhost:8080/",
          "height": 355
        },
        "id": "1xLulHZ_hHm5",
        "outputId": "cbdd9124-85b3-4d3c-c3a7-87ed724eb58f"
      },
      "source": [
        "# Fetch all details where marks in English > 70 or marks in Maths > 70.\n",
        "display(marks.loc[(marks.English > 70) | (marks.Maths > 70)])"
      ],
      "execution_count": null,
      "outputs": [
        {
          "output_type": "display_data",
          "data": {
            "text/html": [
              "<div>\n",
              "<style scoped>\n",
              "    .dataframe tbody tr th:only-of-type {\n",
              "        vertical-align: middle;\n",
              "    }\n",
              "\n",
              "    .dataframe tbody tr th {\n",
              "        vertical-align: top;\n",
              "    }\n",
              "\n",
              "    .dataframe thead th {\n",
              "        text-align: right;\n",
              "    }\n",
              "</style>\n",
              "<table border=\"1\" class=\"dataframe\">\n",
              "  <thead>\n",
              "    <tr style=\"text-align: right;\">\n",
              "      <th></th>\n",
              "      <th>Student_ID</th>\n",
              "      <th>Student_Name</th>\n",
              "      <th>English</th>\n",
              "      <th>Maths</th>\n",
              "      <th>Science</th>\n",
              "      <th>History</th>\n",
              "      <th>Social_Studies</th>\n",
              "    </tr>\n",
              "  </thead>\n",
              "  <tbody>\n",
              "    <tr>\n",
              "      <th>0</th>\n",
              "      <td>S01</td>\n",
              "      <td>Alice</td>\n",
              "      <td>96.874050</td>\n",
              "      <td>15.367999</td>\n",
              "      <td>58.682033</td>\n",
              "      <td>59.690510</td>\n",
              "      <td>61.373070</td>\n",
              "    </tr>\n",
              "    <tr>\n",
              "      <th>1</th>\n",
              "      <td>S02</td>\n",
              "      <td>Bob</td>\n",
              "      <td>5.462131</td>\n",
              "      <td>81.032680</td>\n",
              "      <td>83.171957</td>\n",
              "      <td>45.664012</td>\n",
              "      <td>80.805730</td>\n",
              "    </tr>\n",
              "    <tr>\n",
              "      <th>3</th>\n",
              "      <td>S04</td>\n",
              "      <td>David</td>\n",
              "      <td>21.160844</td>\n",
              "      <td>95.052971</td>\n",
              "      <td>35.860852</td>\n",
              "      <td>62.865185</td>\n",
              "      <td>95.264572</td>\n",
              "    </tr>\n",
              "    <tr>\n",
              "      <th>5</th>\n",
              "      <td>S06</td>\n",
              "      <td>Fysal</td>\n",
              "      <td>42.694748</td>\n",
              "      <td>77.348295</td>\n",
              "      <td>37.216613</td>\n",
              "      <td>33.784399</td>\n",
              "      <td>85.019761</td>\n",
              "    </tr>\n",
              "    <tr>\n",
              "      <th>8</th>\n",
              "      <td>S09</td>\n",
              "      <td>Ivan</td>\n",
              "      <td>5.777530</td>\n",
              "      <td>79.508179</td>\n",
              "      <td>94.559212</td>\n",
              "      <td>38.355867</td>\n",
              "      <td>90.483635</td>\n",
              "    </tr>\n",
              "    <tr>\n",
              "      <th>11</th>\n",
              "      <td>S12</td>\n",
              "      <td>Lia</td>\n",
              "      <td>95.928421</td>\n",
              "      <td>35.789430</td>\n",
              "      <td>95.440164</td>\n",
              "      <td>43.520213</td>\n",
              "      <td>71.930382</td>\n",
              "    </tr>\n",
              "    <tr>\n",
              "      <th>13</th>\n",
              "      <td>S14</td>\n",
              "      <td>Noel</td>\n",
              "      <td>72.833673</td>\n",
              "      <td>7.160086</td>\n",
              "      <td>22.089014</td>\n",
              "      <td>52.867757</td>\n",
              "      <td>20.583259</td>\n",
              "    </tr>\n",
              "    <tr>\n",
              "      <th>15</th>\n",
              "      <td>S16</td>\n",
              "      <td>Peter</td>\n",
              "      <td>40.694327</td>\n",
              "      <td>91.395888</td>\n",
              "      <td>8.149884</td>\n",
              "      <td>13.852098</td>\n",
              "      <td>74.528425</td>\n",
              "    </tr>\n",
              "    <tr>\n",
              "      <th>16</th>\n",
              "      <td>S17</td>\n",
              "      <td>Roy</td>\n",
              "      <td>43.559963</td>\n",
              "      <td>99.270852</td>\n",
              "      <td>13.924531</td>\n",
              "      <td>71.306738</td>\n",
              "      <td>8.432155</td>\n",
              "    </tr>\n",
              "    <tr>\n",
              "      <th>18</th>\n",
              "      <td>S19</td>\n",
              "      <td>Suvin</td>\n",
              "      <td>72.218179</td>\n",
              "      <td>85.284128</td>\n",
              "      <td>32.555060</td>\n",
              "      <td>47.007177</td>\n",
              "      <td>83.344403</td>\n",
              "    </tr>\n",
              "  </tbody>\n",
              "</table>\n",
              "</div>"
            ],
            "text/plain": [
              "   Student_ID Student_Name    English  ...    Science    History  Social_Studies\n",
              "0         S01        Alice  96.874050  ...  58.682033  59.690510       61.373070\n",
              "1         S02          Bob   5.462131  ...  83.171957  45.664012       80.805730\n",
              "3         S04        David  21.160844  ...  35.860852  62.865185       95.264572\n",
              "5         S06        Fysal  42.694748  ...  37.216613  33.784399       85.019761\n",
              "8         S09         Ivan   5.777530  ...  94.559212  38.355867       90.483635\n",
              "11        S12          Lia  95.928421  ...  95.440164  43.520213       71.930382\n",
              "13        S14         Noel  72.833673  ...  22.089014  52.867757       20.583259\n",
              "15        S16        Peter  40.694327  ...   8.149884  13.852098       74.528425\n",
              "16        S17          Roy  43.559963  ...  13.924531  71.306738        8.432155\n",
              "18        S19        Suvin  72.218179  ...  32.555060  47.007177       83.344403\n",
              "\n",
              "[10 rows x 7 columns]"
            ]
          },
          "metadata": {
            "tags": []
          }
        }
      ]
    },
    {
      "cell_type": "code",
      "metadata": {
        "colab": {
          "base_uri": "https://localhost:8080/",
          "height": 631
        },
        "id": "OEl7zOT0hgUd",
        "outputId": "1d89f2d4-4c24-458b-98f6-5ef91d7641fc"
      },
      "source": [
        "# Using AND operator to combine two conditions.\n",
        "# Fetch all details for all students except for Ria or the all students who are not Ria.\n",
        "display(marks.loc[(marks.Student_Name != 'Ria') | (marks.Student_Name != 'Ria')])"
      ],
      "execution_count": null,
      "outputs": [
        {
          "output_type": "display_data",
          "data": {
            "text/html": [
              "<div>\n",
              "<style scoped>\n",
              "    .dataframe tbody tr th:only-of-type {\n",
              "        vertical-align: middle;\n",
              "    }\n",
              "\n",
              "    .dataframe tbody tr th {\n",
              "        vertical-align: top;\n",
              "    }\n",
              "\n",
              "    .dataframe thead th {\n",
              "        text-align: right;\n",
              "    }\n",
              "</style>\n",
              "<table border=\"1\" class=\"dataframe\">\n",
              "  <thead>\n",
              "    <tr style=\"text-align: right;\">\n",
              "      <th></th>\n",
              "      <th>Student_ID</th>\n",
              "      <th>Student_Name</th>\n",
              "      <th>English</th>\n",
              "      <th>Maths</th>\n",
              "      <th>Science</th>\n",
              "      <th>History</th>\n",
              "      <th>Social_Studies</th>\n",
              "    </tr>\n",
              "  </thead>\n",
              "  <tbody>\n",
              "    <tr>\n",
              "      <th>0</th>\n",
              "      <td>S01</td>\n",
              "      <td>Alice</td>\n",
              "      <td>96.874050</td>\n",
              "      <td>15.367999</td>\n",
              "      <td>58.682033</td>\n",
              "      <td>59.690510</td>\n",
              "      <td>61.373070</td>\n",
              "    </tr>\n",
              "    <tr>\n",
              "      <th>1</th>\n",
              "      <td>S02</td>\n",
              "      <td>Bob</td>\n",
              "      <td>5.462131</td>\n",
              "      <td>81.032680</td>\n",
              "      <td>83.171957</td>\n",
              "      <td>45.664012</td>\n",
              "      <td>80.805730</td>\n",
              "    </tr>\n",
              "    <tr>\n",
              "      <th>2</th>\n",
              "      <td>S03</td>\n",
              "      <td>Charlie</td>\n",
              "      <td>60.753099</td>\n",
              "      <td>65.219548</td>\n",
              "      <td>99.323628</td>\n",
              "      <td>24.281512</td>\n",
              "      <td>58.057612</td>\n",
              "    </tr>\n",
              "    <tr>\n",
              "      <th>3</th>\n",
              "      <td>S04</td>\n",
              "      <td>David</td>\n",
              "      <td>21.160844</td>\n",
              "      <td>95.052971</td>\n",
              "      <td>35.860852</td>\n",
              "      <td>62.865185</td>\n",
              "      <td>95.264572</td>\n",
              "    </tr>\n",
              "    <tr>\n",
              "      <th>4</th>\n",
              "      <td>S05</td>\n",
              "      <td>Edward</td>\n",
              "      <td>63.250994</td>\n",
              "      <td>60.693247</td>\n",
              "      <td>7.020915</td>\n",
              "      <td>60.505272</td>\n",
              "      <td>34.041671</td>\n",
              "    </tr>\n",
              "    <tr>\n",
              "      <th>5</th>\n",
              "      <td>S06</td>\n",
              "      <td>Fysal</td>\n",
              "      <td>42.694748</td>\n",
              "      <td>77.348295</td>\n",
              "      <td>37.216613</td>\n",
              "      <td>33.784399</td>\n",
              "      <td>85.019761</td>\n",
              "    </tr>\n",
              "    <tr>\n",
              "      <th>6</th>\n",
              "      <td>S07</td>\n",
              "      <td>George</td>\n",
              "      <td>66.276626</td>\n",
              "      <td>46.812190</td>\n",
              "      <td>14.219533</td>\n",
              "      <td>18.582771</td>\n",
              "      <td>87.021849</td>\n",
              "    </tr>\n",
              "    <tr>\n",
              "      <th>7</th>\n",
              "      <td>S08</td>\n",
              "      <td>Hareez</td>\n",
              "      <td>5.302984</td>\n",
              "      <td>11.966929</td>\n",
              "      <td>43.980951</td>\n",
              "      <td>54.410098</td>\n",
              "      <td>74.530018</td>\n",
              "    </tr>\n",
              "    <tr>\n",
              "      <th>8</th>\n",
              "      <td>S09</td>\n",
              "      <td>Ivan</td>\n",
              "      <td>5.777530</td>\n",
              "      <td>79.508179</td>\n",
              "      <td>94.559212</td>\n",
              "      <td>38.355867</td>\n",
              "      <td>90.483635</td>\n",
              "    </tr>\n",
              "    <tr>\n",
              "      <th>9</th>\n",
              "      <td>S10</td>\n",
              "      <td>John</td>\n",
              "      <td>30.968731</td>\n",
              "      <td>14.282925</td>\n",
              "      <td>3.312853</td>\n",
              "      <td>79.916094</td>\n",
              "      <td>32.706891</td>\n",
              "    </tr>\n",
              "    <tr>\n",
              "      <th>10</th>\n",
              "      <td>S11</td>\n",
              "      <td>Kelvin</td>\n",
              "      <td>40.219985</td>\n",
              "      <td>55.325651</td>\n",
              "      <td>16.826141</td>\n",
              "      <td>7.462064</td>\n",
              "      <td>34.449110</td>\n",
              "    </tr>\n",
              "    <tr>\n",
              "      <th>11</th>\n",
              "      <td>S12</td>\n",
              "      <td>Lia</td>\n",
              "      <td>95.928421</td>\n",
              "      <td>35.789430</td>\n",
              "      <td>95.440164</td>\n",
              "      <td>43.520213</td>\n",
              "      <td>71.930382</td>\n",
              "    </tr>\n",
              "    <tr>\n",
              "      <th>12</th>\n",
              "      <td>S13</td>\n",
              "      <td>Maria</td>\n",
              "      <td>8.215446</td>\n",
              "      <td>25.042783</td>\n",
              "      <td>16.518147</td>\n",
              "      <td>36.543154</td>\n",
              "      <td>80.665074</td>\n",
              "    </tr>\n",
              "    <tr>\n",
              "      <th>13</th>\n",
              "      <td>S14</td>\n",
              "      <td>Noel</td>\n",
              "      <td>72.833673</td>\n",
              "      <td>7.160086</td>\n",
              "      <td>22.089014</td>\n",
              "      <td>52.867757</td>\n",
              "      <td>20.583259</td>\n",
              "    </tr>\n",
              "    <tr>\n",
              "      <th>14</th>\n",
              "      <td>S15</td>\n",
              "      <td>Oliver</td>\n",
              "      <td>5.982402</td>\n",
              "      <td>16.460926</td>\n",
              "      <td>40.977224</td>\n",
              "      <td>80.925749</td>\n",
              "      <td>83.312063</td>\n",
              "    </tr>\n",
              "    <tr>\n",
              "      <th>15</th>\n",
              "      <td>S16</td>\n",
              "      <td>Peter</td>\n",
              "      <td>40.694327</td>\n",
              "      <td>91.395888</td>\n",
              "      <td>8.149884</td>\n",
              "      <td>13.852098</td>\n",
              "      <td>74.528425</td>\n",
              "    </tr>\n",
              "    <tr>\n",
              "      <th>16</th>\n",
              "      <td>S17</td>\n",
              "      <td>Roy</td>\n",
              "      <td>43.559963</td>\n",
              "      <td>99.270852</td>\n",
              "      <td>13.924531</td>\n",
              "      <td>71.306738</td>\n",
              "      <td>8.432155</td>\n",
              "    </tr>\n",
              "    <tr>\n",
              "      <th>18</th>\n",
              "      <td>S19</td>\n",
              "      <td>Suvin</td>\n",
              "      <td>72.218179</td>\n",
              "      <td>85.284128</td>\n",
              "      <td>32.555060</td>\n",
              "      <td>47.007177</td>\n",
              "      <td>83.344403</td>\n",
              "    </tr>\n",
              "    <tr>\n",
              "      <th>19</th>\n",
              "      <td>S20</td>\n",
              "      <td>Tan</td>\n",
              "      <td>18.070264</td>\n",
              "      <td>56.662635</td>\n",
              "      <td>2.618987</td>\n",
              "      <td>14.067349</td>\n",
              "      <td>82.802787</td>\n",
              "    </tr>\n",
              "  </tbody>\n",
              "</table>\n",
              "</div>"
            ],
            "text/plain": [
              "   Student_ID Student_Name    English  ...    Science    History  Social_Studies\n",
              "0         S01        Alice  96.874050  ...  58.682033  59.690510       61.373070\n",
              "1         S02          Bob   5.462131  ...  83.171957  45.664012       80.805730\n",
              "2         S03      Charlie  60.753099  ...  99.323628  24.281512       58.057612\n",
              "3         S04        David  21.160844  ...  35.860852  62.865185       95.264572\n",
              "4         S05       Edward  63.250994  ...   7.020915  60.505272       34.041671\n",
              "5         S06        Fysal  42.694748  ...  37.216613  33.784399       85.019761\n",
              "6         S07       George  66.276626  ...  14.219533  18.582771       87.021849\n",
              "7         S08       Hareez   5.302984  ...  43.980951  54.410098       74.530018\n",
              "8         S09         Ivan   5.777530  ...  94.559212  38.355867       90.483635\n",
              "9         S10         John  30.968731  ...   3.312853  79.916094       32.706891\n",
              "10        S11       Kelvin  40.219985  ...  16.826141   7.462064       34.449110\n",
              "11        S12          Lia  95.928421  ...  95.440164  43.520213       71.930382\n",
              "12        S13        Maria   8.215446  ...  16.518147  36.543154       80.665074\n",
              "13        S14         Noel  72.833673  ...  22.089014  52.867757       20.583259\n",
              "14        S15       Oliver   5.982402  ...  40.977224  80.925749       83.312063\n",
              "15        S16        Peter  40.694327  ...   8.149884  13.852098       74.528425\n",
              "16        S17          Roy  43.559963  ...  13.924531  71.306738        8.432155\n",
              "18        S19        Suvin  72.218179  ...  32.555060  47.007177       83.344403\n",
              "19        S20          Tan  18.070264  ...   2.618987  14.067349       82.802787\n",
              "\n",
              "[19 rows x 7 columns]"
            ]
          },
          "metadata": {
            "tags": []
          }
        }
      ]
    },
    {
      "cell_type": "code",
      "metadata": {
        "colab": {
          "base_uri": "https://localhost:8080/",
          "height": 692
        },
        "id": "FicNLFXKiXqk",
        "outputId": "628fc55c-3134-4bbc-d97b-6cab10522423"
      },
      "source": [
        "# Index column can be changed by giving the name of the column - unique and case-sensitive\n",
        "\n",
        "marks = pd.read_csv('/content/marks.csv', index_col='Student_ID')  # could have given the index no. of the columns (0,1..) as well.\n",
        "display(marks)"
      ],
      "execution_count": null,
      "outputs": [
        {
          "output_type": "display_data",
          "data": {
            "text/html": [
              "<div>\n",
              "<style scoped>\n",
              "    .dataframe tbody tr th:only-of-type {\n",
              "        vertical-align: middle;\n",
              "    }\n",
              "\n",
              "    .dataframe tbody tr th {\n",
              "        vertical-align: top;\n",
              "    }\n",
              "\n",
              "    .dataframe thead th {\n",
              "        text-align: right;\n",
              "    }\n",
              "</style>\n",
              "<table border=\"1\" class=\"dataframe\">\n",
              "  <thead>\n",
              "    <tr style=\"text-align: right;\">\n",
              "      <th></th>\n",
              "      <th>Student_Name</th>\n",
              "      <th>English</th>\n",
              "      <th>Maths</th>\n",
              "      <th>Science</th>\n",
              "      <th>History</th>\n",
              "      <th>Social_Studies</th>\n",
              "    </tr>\n",
              "    <tr>\n",
              "      <th>Student_ID</th>\n",
              "      <th></th>\n",
              "      <th></th>\n",
              "      <th></th>\n",
              "      <th></th>\n",
              "      <th></th>\n",
              "      <th></th>\n",
              "    </tr>\n",
              "  </thead>\n",
              "  <tbody>\n",
              "    <tr>\n",
              "      <th>S01</th>\n",
              "      <td>Alice</td>\n",
              "      <td>96.874050</td>\n",
              "      <td>15.367999</td>\n",
              "      <td>58.682033</td>\n",
              "      <td>59.690510</td>\n",
              "      <td>61.373070</td>\n",
              "    </tr>\n",
              "    <tr>\n",
              "      <th>S02</th>\n",
              "      <td>Bob</td>\n",
              "      <td>5.462131</td>\n",
              "      <td>81.032680</td>\n",
              "      <td>83.171957</td>\n",
              "      <td>45.664012</td>\n",
              "      <td>80.805730</td>\n",
              "    </tr>\n",
              "    <tr>\n",
              "      <th>S03</th>\n",
              "      <td>Charlie</td>\n",
              "      <td>60.753099</td>\n",
              "      <td>65.219548</td>\n",
              "      <td>99.323628</td>\n",
              "      <td>24.281512</td>\n",
              "      <td>58.057612</td>\n",
              "    </tr>\n",
              "    <tr>\n",
              "      <th>S04</th>\n",
              "      <td>David</td>\n",
              "      <td>21.160844</td>\n",
              "      <td>95.052971</td>\n",
              "      <td>35.860852</td>\n",
              "      <td>62.865185</td>\n",
              "      <td>95.264572</td>\n",
              "    </tr>\n",
              "    <tr>\n",
              "      <th>S05</th>\n",
              "      <td>Edward</td>\n",
              "      <td>63.250994</td>\n",
              "      <td>60.693247</td>\n",
              "      <td>7.020915</td>\n",
              "      <td>60.505272</td>\n",
              "      <td>34.041671</td>\n",
              "    </tr>\n",
              "    <tr>\n",
              "      <th>S06</th>\n",
              "      <td>Fysal</td>\n",
              "      <td>42.694748</td>\n",
              "      <td>77.348295</td>\n",
              "      <td>37.216613</td>\n",
              "      <td>33.784399</td>\n",
              "      <td>85.019761</td>\n",
              "    </tr>\n",
              "    <tr>\n",
              "      <th>S07</th>\n",
              "      <td>George</td>\n",
              "      <td>66.276626</td>\n",
              "      <td>46.812190</td>\n",
              "      <td>14.219533</td>\n",
              "      <td>18.582771</td>\n",
              "      <td>87.021849</td>\n",
              "    </tr>\n",
              "    <tr>\n",
              "      <th>S08</th>\n",
              "      <td>Hareez</td>\n",
              "      <td>5.302984</td>\n",
              "      <td>11.966929</td>\n",
              "      <td>43.980951</td>\n",
              "      <td>54.410098</td>\n",
              "      <td>74.530018</td>\n",
              "    </tr>\n",
              "    <tr>\n",
              "      <th>S09</th>\n",
              "      <td>Ivan</td>\n",
              "      <td>5.777530</td>\n",
              "      <td>79.508179</td>\n",
              "      <td>94.559212</td>\n",
              "      <td>38.355867</td>\n",
              "      <td>90.483635</td>\n",
              "    </tr>\n",
              "    <tr>\n",
              "      <th>S10</th>\n",
              "      <td>John</td>\n",
              "      <td>30.968731</td>\n",
              "      <td>14.282925</td>\n",
              "      <td>3.312853</td>\n",
              "      <td>79.916094</td>\n",
              "      <td>32.706891</td>\n",
              "    </tr>\n",
              "    <tr>\n",
              "      <th>S11</th>\n",
              "      <td>Kelvin</td>\n",
              "      <td>40.219985</td>\n",
              "      <td>55.325651</td>\n",
              "      <td>16.826141</td>\n",
              "      <td>7.462064</td>\n",
              "      <td>34.449110</td>\n",
              "    </tr>\n",
              "    <tr>\n",
              "      <th>S12</th>\n",
              "      <td>Lia</td>\n",
              "      <td>95.928421</td>\n",
              "      <td>35.789430</td>\n",
              "      <td>95.440164</td>\n",
              "      <td>43.520213</td>\n",
              "      <td>71.930382</td>\n",
              "    </tr>\n",
              "    <tr>\n",
              "      <th>S13</th>\n",
              "      <td>Maria</td>\n",
              "      <td>8.215446</td>\n",
              "      <td>25.042783</td>\n",
              "      <td>16.518147</td>\n",
              "      <td>36.543154</td>\n",
              "      <td>80.665074</td>\n",
              "    </tr>\n",
              "    <tr>\n",
              "      <th>S14</th>\n",
              "      <td>Noel</td>\n",
              "      <td>72.833673</td>\n",
              "      <td>7.160086</td>\n",
              "      <td>22.089014</td>\n",
              "      <td>52.867757</td>\n",
              "      <td>20.583259</td>\n",
              "    </tr>\n",
              "    <tr>\n",
              "      <th>S15</th>\n",
              "      <td>Oliver</td>\n",
              "      <td>5.982402</td>\n",
              "      <td>16.460926</td>\n",
              "      <td>40.977224</td>\n",
              "      <td>80.925749</td>\n",
              "      <td>83.312063</td>\n",
              "    </tr>\n",
              "    <tr>\n",
              "      <th>S16</th>\n",
              "      <td>Peter</td>\n",
              "      <td>40.694327</td>\n",
              "      <td>91.395888</td>\n",
              "      <td>8.149884</td>\n",
              "      <td>13.852098</td>\n",
              "      <td>74.528425</td>\n",
              "    </tr>\n",
              "    <tr>\n",
              "      <th>S17</th>\n",
              "      <td>Roy</td>\n",
              "      <td>43.559963</td>\n",
              "      <td>99.270852</td>\n",
              "      <td>13.924531</td>\n",
              "      <td>71.306738</td>\n",
              "      <td>8.432155</td>\n",
              "    </tr>\n",
              "    <tr>\n",
              "      <th>S18</th>\n",
              "      <td>Ria</td>\n",
              "      <td>30.830802</td>\n",
              "      <td>25.545682</td>\n",
              "      <td>84.271650</td>\n",
              "      <td>78.727155</td>\n",
              "      <td>7.305670</td>\n",
              "    </tr>\n",
              "    <tr>\n",
              "      <th>S19</th>\n",
              "      <td>Suvin</td>\n",
              "      <td>72.218179</td>\n",
              "      <td>85.284128</td>\n",
              "      <td>32.555060</td>\n",
              "      <td>47.007177</td>\n",
              "      <td>83.344403</td>\n",
              "    </tr>\n",
              "    <tr>\n",
              "      <th>S20</th>\n",
              "      <td>Tan</td>\n",
              "      <td>18.070264</td>\n",
              "      <td>56.662635</td>\n",
              "      <td>2.618987</td>\n",
              "      <td>14.067349</td>\n",
              "      <td>82.802787</td>\n",
              "    </tr>\n",
              "  </tbody>\n",
              "</table>\n",
              "</div>"
            ],
            "text/plain": [
              "           Student_Name    English  ...    History  Social_Studies\n",
              "Student_ID                          ...                           \n",
              "S01               Alice  96.874050  ...  59.690510       61.373070\n",
              "S02                 Bob   5.462131  ...  45.664012       80.805730\n",
              "S03             Charlie  60.753099  ...  24.281512       58.057612\n",
              "S04               David  21.160844  ...  62.865185       95.264572\n",
              "S05              Edward  63.250994  ...  60.505272       34.041671\n",
              "S06               Fysal  42.694748  ...  33.784399       85.019761\n",
              "S07              George  66.276626  ...  18.582771       87.021849\n",
              "S08              Hareez   5.302984  ...  54.410098       74.530018\n",
              "S09                Ivan   5.777530  ...  38.355867       90.483635\n",
              "S10                John  30.968731  ...  79.916094       32.706891\n",
              "S11              Kelvin  40.219985  ...   7.462064       34.449110\n",
              "S12                 Lia  95.928421  ...  43.520213       71.930382\n",
              "S13               Maria   8.215446  ...  36.543154       80.665074\n",
              "S14                Noel  72.833673  ...  52.867757       20.583259\n",
              "S15              Oliver   5.982402  ...  80.925749       83.312063\n",
              "S16               Peter  40.694327  ...  13.852098       74.528425\n",
              "S17                 Roy  43.559963  ...  71.306738        8.432155\n",
              "S18                 Ria  30.830802  ...  78.727155        7.305670\n",
              "S19               Suvin  72.218179  ...  47.007177       83.344403\n",
              "S20                 Tan  18.070264  ...  14.067349       82.802787\n",
              "\n",
              "[20 rows x 6 columns]"
            ]
          },
          "metadata": {
            "tags": []
          }
        }
      ]
    },
    {
      "cell_type": "code",
      "metadata": {
        "colab": {
          "base_uri": "https://localhost:8080/",
          "height": 385
        },
        "id": "lVfqp5lIFK9B",
        "outputId": "cc7e2c7c-5ef4-4b14-a982-df6f233f8b0d"
      },
      "source": [
        "display(marks.loc['S01':'S10']) # Range of values. Includes all values/labels.\n",
        "\n",
        "# .loc is different than .iloc\n",
        "# .loc is label-based. We need to SPECIFY the VALUE of the index. The values must be there in the index column."
      ],
      "execution_count": null,
      "outputs": [
        {
          "output_type": "display_data",
          "data": {
            "text/html": [
              "<div>\n",
              "<style scoped>\n",
              "    .dataframe tbody tr th:only-of-type {\n",
              "        vertical-align: middle;\n",
              "    }\n",
              "\n",
              "    .dataframe tbody tr th {\n",
              "        vertical-align: top;\n",
              "    }\n",
              "\n",
              "    .dataframe thead th {\n",
              "        text-align: right;\n",
              "    }\n",
              "</style>\n",
              "<table border=\"1\" class=\"dataframe\">\n",
              "  <thead>\n",
              "    <tr style=\"text-align: right;\">\n",
              "      <th></th>\n",
              "      <th>Student_Name</th>\n",
              "      <th>English</th>\n",
              "      <th>Maths</th>\n",
              "      <th>Science</th>\n",
              "      <th>History</th>\n",
              "      <th>Social_Studies</th>\n",
              "    </tr>\n",
              "    <tr>\n",
              "      <th>Student_ID</th>\n",
              "      <th></th>\n",
              "      <th></th>\n",
              "      <th></th>\n",
              "      <th></th>\n",
              "      <th></th>\n",
              "      <th></th>\n",
              "    </tr>\n",
              "  </thead>\n",
              "  <tbody>\n",
              "    <tr>\n",
              "      <th>S01</th>\n",
              "      <td>Alice</td>\n",
              "      <td>96.874050</td>\n",
              "      <td>15.367999</td>\n",
              "      <td>58.682033</td>\n",
              "      <td>59.690510</td>\n",
              "      <td>61.373070</td>\n",
              "    </tr>\n",
              "    <tr>\n",
              "      <th>S02</th>\n",
              "      <td>Bob</td>\n",
              "      <td>5.462131</td>\n",
              "      <td>81.032680</td>\n",
              "      <td>83.171957</td>\n",
              "      <td>45.664012</td>\n",
              "      <td>80.805730</td>\n",
              "    </tr>\n",
              "    <tr>\n",
              "      <th>S03</th>\n",
              "      <td>Charlie</td>\n",
              "      <td>60.753099</td>\n",
              "      <td>65.219548</td>\n",
              "      <td>99.323628</td>\n",
              "      <td>24.281512</td>\n",
              "      <td>58.057612</td>\n",
              "    </tr>\n",
              "    <tr>\n",
              "      <th>S04</th>\n",
              "      <td>David</td>\n",
              "      <td>21.160844</td>\n",
              "      <td>95.052971</td>\n",
              "      <td>35.860852</td>\n",
              "      <td>62.865185</td>\n",
              "      <td>95.264572</td>\n",
              "    </tr>\n",
              "    <tr>\n",
              "      <th>S05</th>\n",
              "      <td>Edward</td>\n",
              "      <td>63.250994</td>\n",
              "      <td>60.693247</td>\n",
              "      <td>7.020915</td>\n",
              "      <td>60.505272</td>\n",
              "      <td>34.041671</td>\n",
              "    </tr>\n",
              "    <tr>\n",
              "      <th>S06</th>\n",
              "      <td>Fysal</td>\n",
              "      <td>42.694748</td>\n",
              "      <td>77.348295</td>\n",
              "      <td>37.216613</td>\n",
              "      <td>33.784399</td>\n",
              "      <td>85.019761</td>\n",
              "    </tr>\n",
              "    <tr>\n",
              "      <th>S07</th>\n",
              "      <td>George</td>\n",
              "      <td>66.276626</td>\n",
              "      <td>46.812190</td>\n",
              "      <td>14.219533</td>\n",
              "      <td>18.582771</td>\n",
              "      <td>87.021849</td>\n",
              "    </tr>\n",
              "    <tr>\n",
              "      <th>S08</th>\n",
              "      <td>Hareez</td>\n",
              "      <td>5.302984</td>\n",
              "      <td>11.966929</td>\n",
              "      <td>43.980951</td>\n",
              "      <td>54.410098</td>\n",
              "      <td>74.530018</td>\n",
              "    </tr>\n",
              "    <tr>\n",
              "      <th>S09</th>\n",
              "      <td>Ivan</td>\n",
              "      <td>5.777530</td>\n",
              "      <td>79.508179</td>\n",
              "      <td>94.559212</td>\n",
              "      <td>38.355867</td>\n",
              "      <td>90.483635</td>\n",
              "    </tr>\n",
              "    <tr>\n",
              "      <th>S10</th>\n",
              "      <td>John</td>\n",
              "      <td>30.968731</td>\n",
              "      <td>14.282925</td>\n",
              "      <td>3.312853</td>\n",
              "      <td>79.916094</td>\n",
              "      <td>32.706891</td>\n",
              "    </tr>\n",
              "  </tbody>\n",
              "</table>\n",
              "</div>"
            ],
            "text/plain": [
              "           Student_Name    English  ...    History  Social_Studies\n",
              "Student_ID                          ...                           \n",
              "S01               Alice  96.874050  ...  59.690510       61.373070\n",
              "S02                 Bob   5.462131  ...  45.664012       80.805730\n",
              "S03             Charlie  60.753099  ...  24.281512       58.057612\n",
              "S04               David  21.160844  ...  62.865185       95.264572\n",
              "S05              Edward  63.250994  ...  60.505272       34.041671\n",
              "S06               Fysal  42.694748  ...  33.784399       85.019761\n",
              "S07              George  66.276626  ...  18.582771       87.021849\n",
              "S08              Hareez   5.302984  ...  54.410098       74.530018\n",
              "S09                Ivan   5.777530  ...  38.355867       90.483635\n",
              "S10                John  30.968731  ...  79.916094       32.706891\n",
              "\n",
              "[10 rows x 6 columns]"
            ]
          },
          "metadata": {
            "tags": []
          }
        }
      ]
    },
    {
      "cell_type": "code",
      "metadata": {
        "colab": {
          "base_uri": "https://localhost:8080/",
          "height": 385
        },
        "id": "GaqlnArwFbxr",
        "outputId": "e1dfbe9d-9085-46aa-f98e-2e07425c7c58"
      },
      "source": [
        "display(marks.iloc[0:10]) # IMPORTANT - Out of 11 indices, the last one will be excluded.\n",
        "\n",
        "# Returns output of the indices without matching the value of incides entered and the value in the column.\n",
        "# iloc will not work if the indices are not integers."
      ],
      "execution_count": null,
      "outputs": [
        {
          "output_type": "display_data",
          "data": {
            "text/html": [
              "<div>\n",
              "<style scoped>\n",
              "    .dataframe tbody tr th:only-of-type {\n",
              "        vertical-align: middle;\n",
              "    }\n",
              "\n",
              "    .dataframe tbody tr th {\n",
              "        vertical-align: top;\n",
              "    }\n",
              "\n",
              "    .dataframe thead th {\n",
              "        text-align: right;\n",
              "    }\n",
              "</style>\n",
              "<table border=\"1\" class=\"dataframe\">\n",
              "  <thead>\n",
              "    <tr style=\"text-align: right;\">\n",
              "      <th></th>\n",
              "      <th>Student_Name</th>\n",
              "      <th>English</th>\n",
              "      <th>Maths</th>\n",
              "      <th>Science</th>\n",
              "      <th>History</th>\n",
              "      <th>Social_Studies</th>\n",
              "    </tr>\n",
              "    <tr>\n",
              "      <th>Student_ID</th>\n",
              "      <th></th>\n",
              "      <th></th>\n",
              "      <th></th>\n",
              "      <th></th>\n",
              "      <th></th>\n",
              "      <th></th>\n",
              "    </tr>\n",
              "  </thead>\n",
              "  <tbody>\n",
              "    <tr>\n",
              "      <th>S01</th>\n",
              "      <td>Alice</td>\n",
              "      <td>96.874050</td>\n",
              "      <td>15.367999</td>\n",
              "      <td>58.682033</td>\n",
              "      <td>59.690510</td>\n",
              "      <td>61.373070</td>\n",
              "    </tr>\n",
              "    <tr>\n",
              "      <th>S02</th>\n",
              "      <td>Bob</td>\n",
              "      <td>5.462131</td>\n",
              "      <td>81.032680</td>\n",
              "      <td>83.171957</td>\n",
              "      <td>45.664012</td>\n",
              "      <td>80.805730</td>\n",
              "    </tr>\n",
              "    <tr>\n",
              "      <th>S03</th>\n",
              "      <td>Charlie</td>\n",
              "      <td>60.753099</td>\n",
              "      <td>65.219548</td>\n",
              "      <td>99.323628</td>\n",
              "      <td>24.281512</td>\n",
              "      <td>58.057612</td>\n",
              "    </tr>\n",
              "    <tr>\n",
              "      <th>S04</th>\n",
              "      <td>David</td>\n",
              "      <td>21.160844</td>\n",
              "      <td>95.052971</td>\n",
              "      <td>35.860852</td>\n",
              "      <td>62.865185</td>\n",
              "      <td>95.264572</td>\n",
              "    </tr>\n",
              "    <tr>\n",
              "      <th>S05</th>\n",
              "      <td>Edward</td>\n",
              "      <td>63.250994</td>\n",
              "      <td>60.693247</td>\n",
              "      <td>7.020915</td>\n",
              "      <td>60.505272</td>\n",
              "      <td>34.041671</td>\n",
              "    </tr>\n",
              "    <tr>\n",
              "      <th>S06</th>\n",
              "      <td>Fysal</td>\n",
              "      <td>42.694748</td>\n",
              "      <td>77.348295</td>\n",
              "      <td>37.216613</td>\n",
              "      <td>33.784399</td>\n",
              "      <td>85.019761</td>\n",
              "    </tr>\n",
              "    <tr>\n",
              "      <th>S07</th>\n",
              "      <td>George</td>\n",
              "      <td>66.276626</td>\n",
              "      <td>46.812190</td>\n",
              "      <td>14.219533</td>\n",
              "      <td>18.582771</td>\n",
              "      <td>87.021849</td>\n",
              "    </tr>\n",
              "    <tr>\n",
              "      <th>S08</th>\n",
              "      <td>Hareez</td>\n",
              "      <td>5.302984</td>\n",
              "      <td>11.966929</td>\n",
              "      <td>43.980951</td>\n",
              "      <td>54.410098</td>\n",
              "      <td>74.530018</td>\n",
              "    </tr>\n",
              "    <tr>\n",
              "      <th>S09</th>\n",
              "      <td>Ivan</td>\n",
              "      <td>5.777530</td>\n",
              "      <td>79.508179</td>\n",
              "      <td>94.559212</td>\n",
              "      <td>38.355867</td>\n",
              "      <td>90.483635</td>\n",
              "    </tr>\n",
              "    <tr>\n",
              "      <th>S10</th>\n",
              "      <td>John</td>\n",
              "      <td>30.968731</td>\n",
              "      <td>14.282925</td>\n",
              "      <td>3.312853</td>\n",
              "      <td>79.916094</td>\n",
              "      <td>32.706891</td>\n",
              "    </tr>\n",
              "  </tbody>\n",
              "</table>\n",
              "</div>"
            ],
            "text/plain": [
              "           Student_Name    English  ...    History  Social_Studies\n",
              "Student_ID                          ...                           \n",
              "S01               Alice  96.874050  ...  59.690510       61.373070\n",
              "S02                 Bob   5.462131  ...  45.664012       80.805730\n",
              "S03             Charlie  60.753099  ...  24.281512       58.057612\n",
              "S04               David  21.160844  ...  62.865185       95.264572\n",
              "S05              Edward  63.250994  ...  60.505272       34.041671\n",
              "S06               Fysal  42.694748  ...  33.784399       85.019761\n",
              "S07              George  66.276626  ...  18.582771       87.021849\n",
              "S08              Hareez   5.302984  ...  54.410098       74.530018\n",
              "S09                Ivan   5.777530  ...  38.355867       90.483635\n",
              "S10                John  30.968731  ...  79.916094       32.706891\n",
              "\n",
              "[10 rows x 6 columns]"
            ]
          },
          "metadata": {
            "tags": []
          }
        }
      ]
    },
    {
      "cell_type": "code",
      "metadata": {
        "colab": {
          "base_uri": "https://localhost:8080/",
          "height": 141
        },
        "id": "gL4f5VyYGv9Y",
        "outputId": "14b5b648-0163-4097-cce2-c738e12b21f0"
      },
      "source": [
        "display(marks.iloc[3])"
      ],
      "execution_count": null,
      "outputs": [
        {
          "output_type": "display_data",
          "data": {
            "text/plain": [
              "Student_Name        David\n",
              "English           21.1608\n",
              "Maths              95.053\n",
              "Science           35.8609\n",
              "History           62.8652\n",
              "Social_Studies    95.2646\n",
              "Name: S04, dtype: object"
            ]
          },
          "metadata": {
            "tags": []
          }
        }
      ]
    },
    {
      "cell_type": "code",
      "metadata": {
        "colab": {
          "base_uri": "https://localhost:8080/",
          "height": 141
        },
        "id": "MEhbR4HVG_D5",
        "outputId": "820fd13e-8767-4aad-932d-a8bb74ea037b"
      },
      "source": [
        "# Data of multiple and non-consecuitive indices\n",
        "# Selecting details of the 1st and 5th row\n",
        "display(marks.iloc[[0, 4]])"
      ],
      "execution_count": null,
      "outputs": [
        {
          "output_type": "display_data",
          "data": {
            "text/html": [
              "<div>\n",
              "<style scoped>\n",
              "    .dataframe tbody tr th:only-of-type {\n",
              "        vertical-align: middle;\n",
              "    }\n",
              "\n",
              "    .dataframe tbody tr th {\n",
              "        vertical-align: top;\n",
              "    }\n",
              "\n",
              "    .dataframe thead th {\n",
              "        text-align: right;\n",
              "    }\n",
              "</style>\n",
              "<table border=\"1\" class=\"dataframe\">\n",
              "  <thead>\n",
              "    <tr style=\"text-align: right;\">\n",
              "      <th></th>\n",
              "      <th>Student_Name</th>\n",
              "      <th>English</th>\n",
              "      <th>Maths</th>\n",
              "      <th>Science</th>\n",
              "      <th>History</th>\n",
              "      <th>Social_Studies</th>\n",
              "    </tr>\n",
              "    <tr>\n",
              "      <th>Student_ID</th>\n",
              "      <th></th>\n",
              "      <th></th>\n",
              "      <th></th>\n",
              "      <th></th>\n",
              "      <th></th>\n",
              "      <th></th>\n",
              "    </tr>\n",
              "  </thead>\n",
              "  <tbody>\n",
              "    <tr>\n",
              "      <th>S01</th>\n",
              "      <td>Alice</td>\n",
              "      <td>96.874050</td>\n",
              "      <td>15.367999</td>\n",
              "      <td>58.682033</td>\n",
              "      <td>59.690510</td>\n",
              "      <td>61.373070</td>\n",
              "    </tr>\n",
              "    <tr>\n",
              "      <th>S05</th>\n",
              "      <td>Edward</td>\n",
              "      <td>63.250994</td>\n",
              "      <td>60.693247</td>\n",
              "      <td>7.020915</td>\n",
              "      <td>60.505272</td>\n",
              "      <td>34.041671</td>\n",
              "    </tr>\n",
              "  </tbody>\n",
              "</table>\n",
              "</div>"
            ],
            "text/plain": [
              "           Student_Name    English  ...    History  Social_Studies\n",
              "Student_ID                          ...                           \n",
              "S01               Alice  96.874050  ...  59.690510       61.373070\n",
              "S05              Edward  63.250994  ...  60.505272       34.041671\n",
              "\n",
              "[2 rows x 6 columns]"
            ]
          },
          "metadata": {
            "tags": []
          }
        }
      ]
    },
    {
      "cell_type": "code",
      "metadata": {
        "colab": {
          "base_uri": "https://localhost:8080/",
          "height": 171
        },
        "id": "pbwcRqgkHb-Q",
        "outputId": "86f65a49-99f0-4a82-f2b5-036a19ea25d1"
      },
      "source": [
        "# Print the details from 0th, 5th and 8th rows, along with the details of indices 4th, 11th and 16th.\n",
        "display(marks.iloc[[0,4,7]])"
      ],
      "execution_count": null,
      "outputs": [
        {
          "output_type": "display_data",
          "data": {
            "text/html": [
              "<div>\n",
              "<style scoped>\n",
              "    .dataframe tbody tr th:only-of-type {\n",
              "        vertical-align: middle;\n",
              "    }\n",
              "\n",
              "    .dataframe tbody tr th {\n",
              "        vertical-align: top;\n",
              "    }\n",
              "\n",
              "    .dataframe thead th {\n",
              "        text-align: right;\n",
              "    }\n",
              "</style>\n",
              "<table border=\"1\" class=\"dataframe\">\n",
              "  <thead>\n",
              "    <tr style=\"text-align: right;\">\n",
              "      <th></th>\n",
              "      <th>Student_Name</th>\n",
              "      <th>English</th>\n",
              "      <th>Maths</th>\n",
              "      <th>Science</th>\n",
              "      <th>History</th>\n",
              "      <th>Social_Studies</th>\n",
              "    </tr>\n",
              "    <tr>\n",
              "      <th>Student_ID</th>\n",
              "      <th></th>\n",
              "      <th></th>\n",
              "      <th></th>\n",
              "      <th></th>\n",
              "      <th></th>\n",
              "      <th></th>\n",
              "    </tr>\n",
              "  </thead>\n",
              "  <tbody>\n",
              "    <tr>\n",
              "      <th>S01</th>\n",
              "      <td>Alice</td>\n",
              "      <td>96.874050</td>\n",
              "      <td>15.367999</td>\n",
              "      <td>58.682033</td>\n",
              "      <td>59.690510</td>\n",
              "      <td>61.373070</td>\n",
              "    </tr>\n",
              "    <tr>\n",
              "      <th>S05</th>\n",
              "      <td>Edward</td>\n",
              "      <td>63.250994</td>\n",
              "      <td>60.693247</td>\n",
              "      <td>7.020915</td>\n",
              "      <td>60.505272</td>\n",
              "      <td>34.041671</td>\n",
              "    </tr>\n",
              "    <tr>\n",
              "      <th>S08</th>\n",
              "      <td>Hareez</td>\n",
              "      <td>5.302984</td>\n",
              "      <td>11.966929</td>\n",
              "      <td>43.980951</td>\n",
              "      <td>54.410098</td>\n",
              "      <td>74.530018</td>\n",
              "    </tr>\n",
              "  </tbody>\n",
              "</table>\n",
              "</div>"
            ],
            "text/plain": [
              "           Student_Name    English  ...    History  Social_Studies\n",
              "Student_ID                          ...                           \n",
              "S01               Alice  96.874050  ...  59.690510       61.373070\n",
              "S05              Edward  63.250994  ...  60.505272       34.041671\n",
              "S08              Hareez   5.302984  ...  54.410098       74.530018\n",
              "\n",
              "[3 rows x 6 columns]"
            ]
          },
          "metadata": {
            "tags": []
          }
        }
      ]
    },
    {
      "cell_type": "code",
      "metadata": {
        "colab": {
          "base_uri": "https://localhost:8080/",
          "height": 232
        },
        "id": "-yyWZlwAIbcE",
        "outputId": "db49d848-ecf0-4d5e-ceaa-42aaa544a4a2"
      },
      "source": [
        "# .loc can be used to fetch details from a range of index values in a sequence.\n",
        "\n",
        "display(marks.loc['S01':'S05'])   # Continuous series of the indices based on label."
      ],
      "execution_count": null,
      "outputs": [
        {
          "output_type": "display_data",
          "data": {
            "text/html": [
              "<div>\n",
              "<style scoped>\n",
              "    .dataframe tbody tr th:only-of-type {\n",
              "        vertical-align: middle;\n",
              "    }\n",
              "\n",
              "    .dataframe tbody tr th {\n",
              "        vertical-align: top;\n",
              "    }\n",
              "\n",
              "    .dataframe thead th {\n",
              "        text-align: right;\n",
              "    }\n",
              "</style>\n",
              "<table border=\"1\" class=\"dataframe\">\n",
              "  <thead>\n",
              "    <tr style=\"text-align: right;\">\n",
              "      <th></th>\n",
              "      <th>Student_Name</th>\n",
              "      <th>English</th>\n",
              "      <th>Maths</th>\n",
              "      <th>Science</th>\n",
              "      <th>History</th>\n",
              "      <th>Social_Studies</th>\n",
              "    </tr>\n",
              "    <tr>\n",
              "      <th>Student_ID</th>\n",
              "      <th></th>\n",
              "      <th></th>\n",
              "      <th></th>\n",
              "      <th></th>\n",
              "      <th></th>\n",
              "      <th></th>\n",
              "    </tr>\n",
              "  </thead>\n",
              "  <tbody>\n",
              "    <tr>\n",
              "      <th>S01</th>\n",
              "      <td>Alice</td>\n",
              "      <td>96.874050</td>\n",
              "      <td>15.367999</td>\n",
              "      <td>58.682033</td>\n",
              "      <td>59.690510</td>\n",
              "      <td>61.373070</td>\n",
              "    </tr>\n",
              "    <tr>\n",
              "      <th>S02</th>\n",
              "      <td>Bob</td>\n",
              "      <td>5.462131</td>\n",
              "      <td>81.032680</td>\n",
              "      <td>83.171957</td>\n",
              "      <td>45.664012</td>\n",
              "      <td>80.805730</td>\n",
              "    </tr>\n",
              "    <tr>\n",
              "      <th>S03</th>\n",
              "      <td>Charlie</td>\n",
              "      <td>60.753099</td>\n",
              "      <td>65.219548</td>\n",
              "      <td>99.323628</td>\n",
              "      <td>24.281512</td>\n",
              "      <td>58.057612</td>\n",
              "    </tr>\n",
              "    <tr>\n",
              "      <th>S04</th>\n",
              "      <td>David</td>\n",
              "      <td>21.160844</td>\n",
              "      <td>95.052971</td>\n",
              "      <td>35.860852</td>\n",
              "      <td>62.865185</td>\n",
              "      <td>95.264572</td>\n",
              "    </tr>\n",
              "    <tr>\n",
              "      <th>S05</th>\n",
              "      <td>Edward</td>\n",
              "      <td>63.250994</td>\n",
              "      <td>60.693247</td>\n",
              "      <td>7.020915</td>\n",
              "      <td>60.505272</td>\n",
              "      <td>34.041671</td>\n",
              "    </tr>\n",
              "  </tbody>\n",
              "</table>\n",
              "</div>"
            ],
            "text/plain": [
              "           Student_Name    English  ...    History  Social_Studies\n",
              "Student_ID                          ...                           \n",
              "S01               Alice  96.874050  ...  59.690510       61.373070\n",
              "S02                 Bob   5.462131  ...  45.664012       80.805730\n",
              "S03             Charlie  60.753099  ...  24.281512       58.057612\n",
              "S04               David  21.160844  ...  62.865185       95.264572\n",
              "S05              Edward  63.250994  ...  60.505272       34.041671\n",
              "\n",
              "[5 rows x 6 columns]"
            ]
          },
          "metadata": {
            "tags": []
          }
        }
      ]
    },
    {
      "cell_type": "code",
      "metadata": {
        "colab": {
          "base_uri": "https://localhost:8080/",
          "height": 171
        },
        "id": "pQZzJqxNI4n2",
        "outputId": "ed58f602-2c45-4e64-cdf9-3120fc17c27e"
      },
      "source": [
        "# Run these line one by one and observe the output to notice the difference and execution of the syntax\n",
        "display(marks.iloc[2:5])  # Prints all values from all columns for indices 3, 4 and 5."
      ],
      "execution_count": null,
      "outputs": [
        {
          "output_type": "display_data",
          "data": {
            "text/html": [
              "<div>\n",
              "<style scoped>\n",
              "    .dataframe tbody tr th:only-of-type {\n",
              "        vertical-align: middle;\n",
              "    }\n",
              "\n",
              "    .dataframe tbody tr th {\n",
              "        vertical-align: top;\n",
              "    }\n",
              "\n",
              "    .dataframe thead th {\n",
              "        text-align: right;\n",
              "    }\n",
              "</style>\n",
              "<table border=\"1\" class=\"dataframe\">\n",
              "  <thead>\n",
              "    <tr style=\"text-align: right;\">\n",
              "      <th></th>\n",
              "      <th>Student_Name</th>\n",
              "      <th>English</th>\n",
              "      <th>Maths</th>\n",
              "      <th>Science</th>\n",
              "      <th>History</th>\n",
              "      <th>Social_Studies</th>\n",
              "    </tr>\n",
              "    <tr>\n",
              "      <th>Student_ID</th>\n",
              "      <th></th>\n",
              "      <th></th>\n",
              "      <th></th>\n",
              "      <th></th>\n",
              "      <th></th>\n",
              "      <th></th>\n",
              "    </tr>\n",
              "  </thead>\n",
              "  <tbody>\n",
              "    <tr>\n",
              "      <th>S03</th>\n",
              "      <td>Charlie</td>\n",
              "      <td>60.753099</td>\n",
              "      <td>65.219548</td>\n",
              "      <td>99.323628</td>\n",
              "      <td>24.281512</td>\n",
              "      <td>58.057612</td>\n",
              "    </tr>\n",
              "    <tr>\n",
              "      <th>S04</th>\n",
              "      <td>David</td>\n",
              "      <td>21.160844</td>\n",
              "      <td>95.052971</td>\n",
              "      <td>35.860852</td>\n",
              "      <td>62.865185</td>\n",
              "      <td>95.264572</td>\n",
              "    </tr>\n",
              "    <tr>\n",
              "      <th>S05</th>\n",
              "      <td>Edward</td>\n",
              "      <td>63.250994</td>\n",
              "      <td>60.693247</td>\n",
              "      <td>7.020915</td>\n",
              "      <td>60.505272</td>\n",
              "      <td>34.041671</td>\n",
              "    </tr>\n",
              "  </tbody>\n",
              "</table>\n",
              "</div>"
            ],
            "text/plain": [
              "           Student_Name    English  ...    History  Social_Studies\n",
              "Student_ID                          ...                           \n",
              "S03             Charlie  60.753099  ...  24.281512       58.057612\n",
              "S04               David  21.160844  ...  62.865185       95.264572\n",
              "S05              Edward  63.250994  ...  60.505272       34.041671\n",
              "\n",
              "[3 rows x 6 columns]"
            ]
          },
          "metadata": {
            "tags": []
          }
        }
      ]
    },
    {
      "cell_type": "code",
      "metadata": {
        "colab": {
          "base_uri": "https://localhost:8080/",
          "height": 232
        },
        "id": "ku5m_tQNJCSn",
        "outputId": "a4e50c1c-cfb7-4319-adc6-be2698896230"
      },
      "source": [
        "display(marks.iloc[0:5])  # prints all values from all columns for indices 1,2,3,4 and 5"
      ],
      "execution_count": null,
      "outputs": [
        {
          "output_type": "display_data",
          "data": {
            "text/html": [
              "<div>\n",
              "<style scoped>\n",
              "    .dataframe tbody tr th:only-of-type {\n",
              "        vertical-align: middle;\n",
              "    }\n",
              "\n",
              "    .dataframe tbody tr th {\n",
              "        vertical-align: top;\n",
              "    }\n",
              "\n",
              "    .dataframe thead th {\n",
              "        text-align: right;\n",
              "    }\n",
              "</style>\n",
              "<table border=\"1\" class=\"dataframe\">\n",
              "  <thead>\n",
              "    <tr style=\"text-align: right;\">\n",
              "      <th></th>\n",
              "      <th>Student_Name</th>\n",
              "      <th>English</th>\n",
              "      <th>Maths</th>\n",
              "      <th>Science</th>\n",
              "      <th>History</th>\n",
              "      <th>Social_Studies</th>\n",
              "    </tr>\n",
              "    <tr>\n",
              "      <th>Student_ID</th>\n",
              "      <th></th>\n",
              "      <th></th>\n",
              "      <th></th>\n",
              "      <th></th>\n",
              "      <th></th>\n",
              "      <th></th>\n",
              "    </tr>\n",
              "  </thead>\n",
              "  <tbody>\n",
              "    <tr>\n",
              "      <th>S01</th>\n",
              "      <td>Alice</td>\n",
              "      <td>96.874050</td>\n",
              "      <td>15.367999</td>\n",
              "      <td>58.682033</td>\n",
              "      <td>59.690510</td>\n",
              "      <td>61.373070</td>\n",
              "    </tr>\n",
              "    <tr>\n",
              "      <th>S02</th>\n",
              "      <td>Bob</td>\n",
              "      <td>5.462131</td>\n",
              "      <td>81.032680</td>\n",
              "      <td>83.171957</td>\n",
              "      <td>45.664012</td>\n",
              "      <td>80.805730</td>\n",
              "    </tr>\n",
              "    <tr>\n",
              "      <th>S03</th>\n",
              "      <td>Charlie</td>\n",
              "      <td>60.753099</td>\n",
              "      <td>65.219548</td>\n",
              "      <td>99.323628</td>\n",
              "      <td>24.281512</td>\n",
              "      <td>58.057612</td>\n",
              "    </tr>\n",
              "    <tr>\n",
              "      <th>S04</th>\n",
              "      <td>David</td>\n",
              "      <td>21.160844</td>\n",
              "      <td>95.052971</td>\n",
              "      <td>35.860852</td>\n",
              "      <td>62.865185</td>\n",
              "      <td>95.264572</td>\n",
              "    </tr>\n",
              "    <tr>\n",
              "      <th>S05</th>\n",
              "      <td>Edward</td>\n",
              "      <td>63.250994</td>\n",
              "      <td>60.693247</td>\n",
              "      <td>7.020915</td>\n",
              "      <td>60.505272</td>\n",
              "      <td>34.041671</td>\n",
              "    </tr>\n",
              "  </tbody>\n",
              "</table>\n",
              "</div>"
            ],
            "text/plain": [
              "           Student_Name    English  ...    History  Social_Studies\n",
              "Student_ID                          ...                           \n",
              "S01               Alice  96.874050  ...  59.690510       61.373070\n",
              "S02                 Bob   5.462131  ...  45.664012       80.805730\n",
              "S03             Charlie  60.753099  ...  24.281512       58.057612\n",
              "S04               David  21.160844  ...  62.865185       95.264572\n",
              "S05              Edward  63.250994  ...  60.505272       34.041671\n",
              "\n",
              "[5 rows x 6 columns]"
            ]
          },
          "metadata": {
            "tags": []
          }
        }
      ]
    },
    {
      "cell_type": "code",
      "metadata": {
        "colab": {
          "base_uri": "https://localhost:8080/",
          "height": 232
        },
        "id": "GSsdPnW8JN0C",
        "outputId": "bf2fda2b-2f83-4259-9e3c-f1f0a6a6034c"
      },
      "source": [
        "display(marks.iloc[:5]) # prints all values from all columns for first 5 indices."
      ],
      "execution_count": null,
      "outputs": [
        {
          "output_type": "display_data",
          "data": {
            "text/html": [
              "<div>\n",
              "<style scoped>\n",
              "    .dataframe tbody tr th:only-of-type {\n",
              "        vertical-align: middle;\n",
              "    }\n",
              "\n",
              "    .dataframe tbody tr th {\n",
              "        vertical-align: top;\n",
              "    }\n",
              "\n",
              "    .dataframe thead th {\n",
              "        text-align: right;\n",
              "    }\n",
              "</style>\n",
              "<table border=\"1\" class=\"dataframe\">\n",
              "  <thead>\n",
              "    <tr style=\"text-align: right;\">\n",
              "      <th></th>\n",
              "      <th>Student_Name</th>\n",
              "      <th>English</th>\n",
              "      <th>Maths</th>\n",
              "      <th>Science</th>\n",
              "      <th>History</th>\n",
              "      <th>Social_Studies</th>\n",
              "    </tr>\n",
              "    <tr>\n",
              "      <th>Student_ID</th>\n",
              "      <th></th>\n",
              "      <th></th>\n",
              "      <th></th>\n",
              "      <th></th>\n",
              "      <th></th>\n",
              "      <th></th>\n",
              "    </tr>\n",
              "  </thead>\n",
              "  <tbody>\n",
              "    <tr>\n",
              "      <th>S01</th>\n",
              "      <td>Alice</td>\n",
              "      <td>96.874050</td>\n",
              "      <td>15.367999</td>\n",
              "      <td>58.682033</td>\n",
              "      <td>59.690510</td>\n",
              "      <td>61.373070</td>\n",
              "    </tr>\n",
              "    <tr>\n",
              "      <th>S02</th>\n",
              "      <td>Bob</td>\n",
              "      <td>5.462131</td>\n",
              "      <td>81.032680</td>\n",
              "      <td>83.171957</td>\n",
              "      <td>45.664012</td>\n",
              "      <td>80.805730</td>\n",
              "    </tr>\n",
              "    <tr>\n",
              "      <th>S03</th>\n",
              "      <td>Charlie</td>\n",
              "      <td>60.753099</td>\n",
              "      <td>65.219548</td>\n",
              "      <td>99.323628</td>\n",
              "      <td>24.281512</td>\n",
              "      <td>58.057612</td>\n",
              "    </tr>\n",
              "    <tr>\n",
              "      <th>S04</th>\n",
              "      <td>David</td>\n",
              "      <td>21.160844</td>\n",
              "      <td>95.052971</td>\n",
              "      <td>35.860852</td>\n",
              "      <td>62.865185</td>\n",
              "      <td>95.264572</td>\n",
              "    </tr>\n",
              "    <tr>\n",
              "      <th>S05</th>\n",
              "      <td>Edward</td>\n",
              "      <td>63.250994</td>\n",
              "      <td>60.693247</td>\n",
              "      <td>7.020915</td>\n",
              "      <td>60.505272</td>\n",
              "      <td>34.041671</td>\n",
              "    </tr>\n",
              "  </tbody>\n",
              "</table>\n",
              "</div>"
            ],
            "text/plain": [
              "           Student_Name    English  ...    History  Social_Studies\n",
              "Student_ID                          ...                           \n",
              "S01               Alice  96.874050  ...  59.690510       61.373070\n",
              "S02                 Bob   5.462131  ...  45.664012       80.805730\n",
              "S03             Charlie  60.753099  ...  24.281512       58.057612\n",
              "S04               David  21.160844  ...  62.865185       95.264572\n",
              "S05              Edward  63.250994  ...  60.505272       34.041671\n",
              "\n",
              "[5 rows x 6 columns]"
            ]
          },
          "metadata": {
            "tags": []
          }
        }
      ]
    },
    {
      "cell_type": "code",
      "metadata": {
        "colab": {
          "base_uri": "https://localhost:8080/",
          "height": 232
        },
        "id": "LNt3WaS0JUu0",
        "outputId": "fbfb5388-0238-4177-c742-290728cf60c1"
      },
      "source": [
        "display(marks.iloc[15:20]) # print all values from all columns for starting indices from 15 to 20"
      ],
      "execution_count": null,
      "outputs": [
        {
          "output_type": "display_data",
          "data": {
            "text/html": [
              "<div>\n",
              "<style scoped>\n",
              "    .dataframe tbody tr th:only-of-type {\n",
              "        vertical-align: middle;\n",
              "    }\n",
              "\n",
              "    .dataframe tbody tr th {\n",
              "        vertical-align: top;\n",
              "    }\n",
              "\n",
              "    .dataframe thead th {\n",
              "        text-align: right;\n",
              "    }\n",
              "</style>\n",
              "<table border=\"1\" class=\"dataframe\">\n",
              "  <thead>\n",
              "    <tr style=\"text-align: right;\">\n",
              "      <th></th>\n",
              "      <th>Student_Name</th>\n",
              "      <th>English</th>\n",
              "      <th>Maths</th>\n",
              "      <th>Science</th>\n",
              "      <th>History</th>\n",
              "      <th>Social_Studies</th>\n",
              "    </tr>\n",
              "    <tr>\n",
              "      <th>Student_ID</th>\n",
              "      <th></th>\n",
              "      <th></th>\n",
              "      <th></th>\n",
              "      <th></th>\n",
              "      <th></th>\n",
              "      <th></th>\n",
              "    </tr>\n",
              "  </thead>\n",
              "  <tbody>\n",
              "    <tr>\n",
              "      <th>S16</th>\n",
              "      <td>Peter</td>\n",
              "      <td>40.694327</td>\n",
              "      <td>91.395888</td>\n",
              "      <td>8.149884</td>\n",
              "      <td>13.852098</td>\n",
              "      <td>74.528425</td>\n",
              "    </tr>\n",
              "    <tr>\n",
              "      <th>S17</th>\n",
              "      <td>Roy</td>\n",
              "      <td>43.559963</td>\n",
              "      <td>99.270852</td>\n",
              "      <td>13.924531</td>\n",
              "      <td>71.306738</td>\n",
              "      <td>8.432155</td>\n",
              "    </tr>\n",
              "    <tr>\n",
              "      <th>S18</th>\n",
              "      <td>Ria</td>\n",
              "      <td>30.830802</td>\n",
              "      <td>25.545682</td>\n",
              "      <td>84.271650</td>\n",
              "      <td>78.727155</td>\n",
              "      <td>7.305670</td>\n",
              "    </tr>\n",
              "    <tr>\n",
              "      <th>S19</th>\n",
              "      <td>Suvin</td>\n",
              "      <td>72.218179</td>\n",
              "      <td>85.284128</td>\n",
              "      <td>32.555060</td>\n",
              "      <td>47.007177</td>\n",
              "      <td>83.344403</td>\n",
              "    </tr>\n",
              "    <tr>\n",
              "      <th>S20</th>\n",
              "      <td>Tan</td>\n",
              "      <td>18.070264</td>\n",
              "      <td>56.662635</td>\n",
              "      <td>2.618987</td>\n",
              "      <td>14.067349</td>\n",
              "      <td>82.802787</td>\n",
              "    </tr>\n",
              "  </tbody>\n",
              "</table>\n",
              "</div>"
            ],
            "text/plain": [
              "           Student_Name    English  ...    History  Social_Studies\n",
              "Student_ID                          ...                           \n",
              "S16               Peter  40.694327  ...  13.852098       74.528425\n",
              "S17                 Roy  43.559963  ...  71.306738        8.432155\n",
              "S18                 Ria  30.830802  ...  78.727155        7.305670\n",
              "S19               Suvin  72.218179  ...  47.007177       83.344403\n",
              "S20                 Tan  18.070264  ...  14.067349       82.802787\n",
              "\n",
              "[5 rows x 6 columns]"
            ]
          },
          "metadata": {
            "tags": []
          }
        }
      ]
    },
    {
      "cell_type": "code",
      "metadata": {
        "colab": {
          "base_uri": "https://localhost:8080/",
          "height": 232
        },
        "id": "qPcJZRDYJdEJ",
        "outputId": "b8cfc113-5302-48a0-f199-1b148112d1e8"
      },
      "source": [
        "display(marks.iloc[15:]) # print all values from all columns for starting indice from 15"
      ],
      "execution_count": null,
      "outputs": [
        {
          "output_type": "display_data",
          "data": {
            "text/html": [
              "<div>\n",
              "<style scoped>\n",
              "    .dataframe tbody tr th:only-of-type {\n",
              "        vertical-align: middle;\n",
              "    }\n",
              "\n",
              "    .dataframe tbody tr th {\n",
              "        vertical-align: top;\n",
              "    }\n",
              "\n",
              "    .dataframe thead th {\n",
              "        text-align: right;\n",
              "    }\n",
              "</style>\n",
              "<table border=\"1\" class=\"dataframe\">\n",
              "  <thead>\n",
              "    <tr style=\"text-align: right;\">\n",
              "      <th></th>\n",
              "      <th>Student_Name</th>\n",
              "      <th>English</th>\n",
              "      <th>Maths</th>\n",
              "      <th>Science</th>\n",
              "      <th>History</th>\n",
              "      <th>Social_Studies</th>\n",
              "    </tr>\n",
              "    <tr>\n",
              "      <th>Student_ID</th>\n",
              "      <th></th>\n",
              "      <th></th>\n",
              "      <th></th>\n",
              "      <th></th>\n",
              "      <th></th>\n",
              "      <th></th>\n",
              "    </tr>\n",
              "  </thead>\n",
              "  <tbody>\n",
              "    <tr>\n",
              "      <th>S16</th>\n",
              "      <td>Peter</td>\n",
              "      <td>40.694327</td>\n",
              "      <td>91.395888</td>\n",
              "      <td>8.149884</td>\n",
              "      <td>13.852098</td>\n",
              "      <td>74.528425</td>\n",
              "    </tr>\n",
              "    <tr>\n",
              "      <th>S17</th>\n",
              "      <td>Roy</td>\n",
              "      <td>43.559963</td>\n",
              "      <td>99.270852</td>\n",
              "      <td>13.924531</td>\n",
              "      <td>71.306738</td>\n",
              "      <td>8.432155</td>\n",
              "    </tr>\n",
              "    <tr>\n",
              "      <th>S18</th>\n",
              "      <td>Ria</td>\n",
              "      <td>30.830802</td>\n",
              "      <td>25.545682</td>\n",
              "      <td>84.271650</td>\n",
              "      <td>78.727155</td>\n",
              "      <td>7.305670</td>\n",
              "    </tr>\n",
              "    <tr>\n",
              "      <th>S19</th>\n",
              "      <td>Suvin</td>\n",
              "      <td>72.218179</td>\n",
              "      <td>85.284128</td>\n",
              "      <td>32.555060</td>\n",
              "      <td>47.007177</td>\n",
              "      <td>83.344403</td>\n",
              "    </tr>\n",
              "    <tr>\n",
              "      <th>S20</th>\n",
              "      <td>Tan</td>\n",
              "      <td>18.070264</td>\n",
              "      <td>56.662635</td>\n",
              "      <td>2.618987</td>\n",
              "      <td>14.067349</td>\n",
              "      <td>82.802787</td>\n",
              "    </tr>\n",
              "  </tbody>\n",
              "</table>\n",
              "</div>"
            ],
            "text/plain": [
              "           Student_Name    English  ...    History  Social_Studies\n",
              "Student_ID                          ...                           \n",
              "S16               Peter  40.694327  ...  13.852098       74.528425\n",
              "S17                 Roy  43.559963  ...  71.306738        8.432155\n",
              "S18                 Ria  30.830802  ...  78.727155        7.305670\n",
              "S19               Suvin  72.218179  ...  47.007177       83.344403\n",
              "S20                 Tan  18.070264  ...  14.067349       82.802787\n",
              "\n",
              "[5 rows x 6 columns]"
            ]
          },
          "metadata": {
            "tags": []
          }
        }
      ]
    },
    {
      "cell_type": "code",
      "metadata": {
        "colab": {
          "base_uri": "https://localhost:8080/",
          "height": 232
        },
        "id": "2Y7ngpirJiN-",
        "outputId": "a204157e-d6e2-45d7-b85a-87299ec2f0f7"
      },
      "source": [
        "display(marks.iloc[15:100]) # print all values from all columns for starting indices from 15 to 100"
      ],
      "execution_count": null,
      "outputs": [
        {
          "output_type": "display_data",
          "data": {
            "text/html": [
              "<div>\n",
              "<style scoped>\n",
              "    .dataframe tbody tr th:only-of-type {\n",
              "        vertical-align: middle;\n",
              "    }\n",
              "\n",
              "    .dataframe tbody tr th {\n",
              "        vertical-align: top;\n",
              "    }\n",
              "\n",
              "    .dataframe thead th {\n",
              "        text-align: right;\n",
              "    }\n",
              "</style>\n",
              "<table border=\"1\" class=\"dataframe\">\n",
              "  <thead>\n",
              "    <tr style=\"text-align: right;\">\n",
              "      <th></th>\n",
              "      <th>Student_Name</th>\n",
              "      <th>English</th>\n",
              "      <th>Maths</th>\n",
              "      <th>Science</th>\n",
              "      <th>History</th>\n",
              "      <th>Social_Studies</th>\n",
              "    </tr>\n",
              "    <tr>\n",
              "      <th>Student_ID</th>\n",
              "      <th></th>\n",
              "      <th></th>\n",
              "      <th></th>\n",
              "      <th></th>\n",
              "      <th></th>\n",
              "      <th></th>\n",
              "    </tr>\n",
              "  </thead>\n",
              "  <tbody>\n",
              "    <tr>\n",
              "      <th>S16</th>\n",
              "      <td>Peter</td>\n",
              "      <td>40.694327</td>\n",
              "      <td>91.395888</td>\n",
              "      <td>8.149884</td>\n",
              "      <td>13.852098</td>\n",
              "      <td>74.528425</td>\n",
              "    </tr>\n",
              "    <tr>\n",
              "      <th>S17</th>\n",
              "      <td>Roy</td>\n",
              "      <td>43.559963</td>\n",
              "      <td>99.270852</td>\n",
              "      <td>13.924531</td>\n",
              "      <td>71.306738</td>\n",
              "      <td>8.432155</td>\n",
              "    </tr>\n",
              "    <tr>\n",
              "      <th>S18</th>\n",
              "      <td>Ria</td>\n",
              "      <td>30.830802</td>\n",
              "      <td>25.545682</td>\n",
              "      <td>84.271650</td>\n",
              "      <td>78.727155</td>\n",
              "      <td>7.305670</td>\n",
              "    </tr>\n",
              "    <tr>\n",
              "      <th>S19</th>\n",
              "      <td>Suvin</td>\n",
              "      <td>72.218179</td>\n",
              "      <td>85.284128</td>\n",
              "      <td>32.555060</td>\n",
              "      <td>47.007177</td>\n",
              "      <td>83.344403</td>\n",
              "    </tr>\n",
              "    <tr>\n",
              "      <th>S20</th>\n",
              "      <td>Tan</td>\n",
              "      <td>18.070264</td>\n",
              "      <td>56.662635</td>\n",
              "      <td>2.618987</td>\n",
              "      <td>14.067349</td>\n",
              "      <td>82.802787</td>\n",
              "    </tr>\n",
              "  </tbody>\n",
              "</table>\n",
              "</div>"
            ],
            "text/plain": [
              "           Student_Name    English  ...    History  Social_Studies\n",
              "Student_ID                          ...                           \n",
              "S16               Peter  40.694327  ...  13.852098       74.528425\n",
              "S17                 Roy  43.559963  ...  71.306738        8.432155\n",
              "S18                 Ria  30.830802  ...  78.727155        7.305670\n",
              "S19               Suvin  72.218179  ...  47.007177       83.344403\n",
              "S20                 Tan  18.070264  ...  14.067349       82.802787\n",
              "\n",
              "[5 rows x 6 columns]"
            ]
          },
          "metadata": {
            "tags": []
          }
        }
      ]
    },
    {
      "cell_type": "code",
      "metadata": {
        "colab": {
          "base_uri": "https://localhost:8080/",
          "height": 692
        },
        "id": "EaJYvZJmJpcy",
        "outputId": "aacaee71-0810-42a6-9b56-1a04c8d3c0ca"
      },
      "source": [
        "display(marks.iloc[:]) # print all values from all columns "
      ],
      "execution_count": null,
      "outputs": [
        {
          "output_type": "display_data",
          "data": {
            "text/html": [
              "<div>\n",
              "<style scoped>\n",
              "    .dataframe tbody tr th:only-of-type {\n",
              "        vertical-align: middle;\n",
              "    }\n",
              "\n",
              "    .dataframe tbody tr th {\n",
              "        vertical-align: top;\n",
              "    }\n",
              "\n",
              "    .dataframe thead th {\n",
              "        text-align: right;\n",
              "    }\n",
              "</style>\n",
              "<table border=\"1\" class=\"dataframe\">\n",
              "  <thead>\n",
              "    <tr style=\"text-align: right;\">\n",
              "      <th></th>\n",
              "      <th>Student_Name</th>\n",
              "      <th>English</th>\n",
              "      <th>Maths</th>\n",
              "      <th>Science</th>\n",
              "      <th>History</th>\n",
              "      <th>Social_Studies</th>\n",
              "    </tr>\n",
              "    <tr>\n",
              "      <th>Student_ID</th>\n",
              "      <th></th>\n",
              "      <th></th>\n",
              "      <th></th>\n",
              "      <th></th>\n",
              "      <th></th>\n",
              "      <th></th>\n",
              "    </tr>\n",
              "  </thead>\n",
              "  <tbody>\n",
              "    <tr>\n",
              "      <th>S01</th>\n",
              "      <td>Alice</td>\n",
              "      <td>96.874050</td>\n",
              "      <td>15.367999</td>\n",
              "      <td>58.682033</td>\n",
              "      <td>59.690510</td>\n",
              "      <td>61.373070</td>\n",
              "    </tr>\n",
              "    <tr>\n",
              "      <th>S02</th>\n",
              "      <td>Bob</td>\n",
              "      <td>5.462131</td>\n",
              "      <td>81.032680</td>\n",
              "      <td>83.171957</td>\n",
              "      <td>45.664012</td>\n",
              "      <td>80.805730</td>\n",
              "    </tr>\n",
              "    <tr>\n",
              "      <th>S03</th>\n",
              "      <td>Charlie</td>\n",
              "      <td>60.753099</td>\n",
              "      <td>65.219548</td>\n",
              "      <td>99.323628</td>\n",
              "      <td>24.281512</td>\n",
              "      <td>58.057612</td>\n",
              "    </tr>\n",
              "    <tr>\n",
              "      <th>S04</th>\n",
              "      <td>David</td>\n",
              "      <td>21.160844</td>\n",
              "      <td>95.052971</td>\n",
              "      <td>35.860852</td>\n",
              "      <td>62.865185</td>\n",
              "      <td>95.264572</td>\n",
              "    </tr>\n",
              "    <tr>\n",
              "      <th>S05</th>\n",
              "      <td>Edward</td>\n",
              "      <td>63.250994</td>\n",
              "      <td>60.693247</td>\n",
              "      <td>7.020915</td>\n",
              "      <td>60.505272</td>\n",
              "      <td>34.041671</td>\n",
              "    </tr>\n",
              "    <tr>\n",
              "      <th>S06</th>\n",
              "      <td>Fysal</td>\n",
              "      <td>42.694748</td>\n",
              "      <td>77.348295</td>\n",
              "      <td>37.216613</td>\n",
              "      <td>33.784399</td>\n",
              "      <td>85.019761</td>\n",
              "    </tr>\n",
              "    <tr>\n",
              "      <th>S07</th>\n",
              "      <td>George</td>\n",
              "      <td>66.276626</td>\n",
              "      <td>46.812190</td>\n",
              "      <td>14.219533</td>\n",
              "      <td>18.582771</td>\n",
              "      <td>87.021849</td>\n",
              "    </tr>\n",
              "    <tr>\n",
              "      <th>S08</th>\n",
              "      <td>Hareez</td>\n",
              "      <td>5.302984</td>\n",
              "      <td>11.966929</td>\n",
              "      <td>43.980951</td>\n",
              "      <td>54.410098</td>\n",
              "      <td>74.530018</td>\n",
              "    </tr>\n",
              "    <tr>\n",
              "      <th>S09</th>\n",
              "      <td>Ivan</td>\n",
              "      <td>5.777530</td>\n",
              "      <td>79.508179</td>\n",
              "      <td>94.559212</td>\n",
              "      <td>38.355867</td>\n",
              "      <td>90.483635</td>\n",
              "    </tr>\n",
              "    <tr>\n",
              "      <th>S10</th>\n",
              "      <td>John</td>\n",
              "      <td>30.968731</td>\n",
              "      <td>14.282925</td>\n",
              "      <td>3.312853</td>\n",
              "      <td>79.916094</td>\n",
              "      <td>32.706891</td>\n",
              "    </tr>\n",
              "    <tr>\n",
              "      <th>S11</th>\n",
              "      <td>Kelvin</td>\n",
              "      <td>40.219985</td>\n",
              "      <td>55.325651</td>\n",
              "      <td>16.826141</td>\n",
              "      <td>7.462064</td>\n",
              "      <td>34.449110</td>\n",
              "    </tr>\n",
              "    <tr>\n",
              "      <th>S12</th>\n",
              "      <td>Lia</td>\n",
              "      <td>95.928421</td>\n",
              "      <td>35.789430</td>\n",
              "      <td>95.440164</td>\n",
              "      <td>43.520213</td>\n",
              "      <td>71.930382</td>\n",
              "    </tr>\n",
              "    <tr>\n",
              "      <th>S13</th>\n",
              "      <td>Maria</td>\n",
              "      <td>8.215446</td>\n",
              "      <td>25.042783</td>\n",
              "      <td>16.518147</td>\n",
              "      <td>36.543154</td>\n",
              "      <td>80.665074</td>\n",
              "    </tr>\n",
              "    <tr>\n",
              "      <th>S14</th>\n",
              "      <td>Noel</td>\n",
              "      <td>72.833673</td>\n",
              "      <td>7.160086</td>\n",
              "      <td>22.089014</td>\n",
              "      <td>52.867757</td>\n",
              "      <td>20.583259</td>\n",
              "    </tr>\n",
              "    <tr>\n",
              "      <th>S15</th>\n",
              "      <td>Oliver</td>\n",
              "      <td>5.982402</td>\n",
              "      <td>16.460926</td>\n",
              "      <td>40.977224</td>\n",
              "      <td>80.925749</td>\n",
              "      <td>83.312063</td>\n",
              "    </tr>\n",
              "    <tr>\n",
              "      <th>S16</th>\n",
              "      <td>Peter</td>\n",
              "      <td>40.694327</td>\n",
              "      <td>91.395888</td>\n",
              "      <td>8.149884</td>\n",
              "      <td>13.852098</td>\n",
              "      <td>74.528425</td>\n",
              "    </tr>\n",
              "    <tr>\n",
              "      <th>S17</th>\n",
              "      <td>Roy</td>\n",
              "      <td>43.559963</td>\n",
              "      <td>99.270852</td>\n",
              "      <td>13.924531</td>\n",
              "      <td>71.306738</td>\n",
              "      <td>8.432155</td>\n",
              "    </tr>\n",
              "    <tr>\n",
              "      <th>S18</th>\n",
              "      <td>Ria</td>\n",
              "      <td>30.830802</td>\n",
              "      <td>25.545682</td>\n",
              "      <td>84.271650</td>\n",
              "      <td>78.727155</td>\n",
              "      <td>7.305670</td>\n",
              "    </tr>\n",
              "    <tr>\n",
              "      <th>S19</th>\n",
              "      <td>Suvin</td>\n",
              "      <td>72.218179</td>\n",
              "      <td>85.284128</td>\n",
              "      <td>32.555060</td>\n",
              "      <td>47.007177</td>\n",
              "      <td>83.344403</td>\n",
              "    </tr>\n",
              "    <tr>\n",
              "      <th>S20</th>\n",
              "      <td>Tan</td>\n",
              "      <td>18.070264</td>\n",
              "      <td>56.662635</td>\n",
              "      <td>2.618987</td>\n",
              "      <td>14.067349</td>\n",
              "      <td>82.802787</td>\n",
              "    </tr>\n",
              "  </tbody>\n",
              "</table>\n",
              "</div>"
            ],
            "text/plain": [
              "           Student_Name    English  ...    History  Social_Studies\n",
              "Student_ID                          ...                           \n",
              "S01               Alice  96.874050  ...  59.690510       61.373070\n",
              "S02                 Bob   5.462131  ...  45.664012       80.805730\n",
              "S03             Charlie  60.753099  ...  24.281512       58.057612\n",
              "S04               David  21.160844  ...  62.865185       95.264572\n",
              "S05              Edward  63.250994  ...  60.505272       34.041671\n",
              "S06               Fysal  42.694748  ...  33.784399       85.019761\n",
              "S07              George  66.276626  ...  18.582771       87.021849\n",
              "S08              Hareez   5.302984  ...  54.410098       74.530018\n",
              "S09                Ivan   5.777530  ...  38.355867       90.483635\n",
              "S10                John  30.968731  ...  79.916094       32.706891\n",
              "S11              Kelvin  40.219985  ...   7.462064       34.449110\n",
              "S12                 Lia  95.928421  ...  43.520213       71.930382\n",
              "S13               Maria   8.215446  ...  36.543154       80.665074\n",
              "S14                Noel  72.833673  ...  52.867757       20.583259\n",
              "S15              Oliver   5.982402  ...  80.925749       83.312063\n",
              "S16               Peter  40.694327  ...  13.852098       74.528425\n",
              "S17                 Roy  43.559963  ...  71.306738        8.432155\n",
              "S18                 Ria  30.830802  ...  78.727155        7.305670\n",
              "S19               Suvin  72.218179  ...  47.007177       83.344403\n",
              "S20                 Tan  18.070264  ...  14.067349       82.802787\n",
              "\n",
              "[20 rows x 6 columns]"
            ]
          },
          "metadata": {
            "tags": []
          }
        }
      ]
    },
    {
      "cell_type": "markdown",
      "metadata": {
        "id": "G2FUecv-Ls8H"
      },
      "source": [
        "# Data cleaning : Empty value treatment iin dataframes"
      ]
    },
    {
      "cell_type": "code",
      "metadata": {
        "colab": {
          "base_uri": "https://localhost:8080/",
          "height": 202
        },
        "id": "IvkPtobULzc5",
        "outputId": "21d0a9aa-7440-426e-f3fd-af4eeec1508b"
      },
      "source": [
        "temps = pd.DataFrame({\"sequence\":[1,2,3,4,5],\n",
        "          \"measurement_type\":['actual','actual','actual',None,'estimated'],  # With strings, it will become 'None'\n",
        "          \"temperature_f\":[67.24,84.56,91.61,None,49.64]   #With numbers, it will become 'NaN'\n",
        "         })\n",
        "temps"
      ],
      "execution_count": null,
      "outputs": [
        {
          "output_type": "execute_result",
          "data": {
            "text/html": [
              "<div>\n",
              "<style scoped>\n",
              "    .dataframe tbody tr th:only-of-type {\n",
              "        vertical-align: middle;\n",
              "    }\n",
              "\n",
              "    .dataframe tbody tr th {\n",
              "        vertical-align: top;\n",
              "    }\n",
              "\n",
              "    .dataframe thead th {\n",
              "        text-align: right;\n",
              "    }\n",
              "</style>\n",
              "<table border=\"1\" class=\"dataframe\">\n",
              "  <thead>\n",
              "    <tr style=\"text-align: right;\">\n",
              "      <th></th>\n",
              "      <th>sequence</th>\n",
              "      <th>measurement_type</th>\n",
              "      <th>temperature_f</th>\n",
              "    </tr>\n",
              "  </thead>\n",
              "  <tbody>\n",
              "    <tr>\n",
              "      <th>0</th>\n",
              "      <td>1</td>\n",
              "      <td>actual</td>\n",
              "      <td>67.24</td>\n",
              "    </tr>\n",
              "    <tr>\n",
              "      <th>1</th>\n",
              "      <td>2</td>\n",
              "      <td>actual</td>\n",
              "      <td>84.56</td>\n",
              "    </tr>\n",
              "    <tr>\n",
              "      <th>2</th>\n",
              "      <td>3</td>\n",
              "      <td>actual</td>\n",
              "      <td>91.61</td>\n",
              "    </tr>\n",
              "    <tr>\n",
              "      <th>3</th>\n",
              "      <td>4</td>\n",
              "      <td>None</td>\n",
              "      <td>NaN</td>\n",
              "    </tr>\n",
              "    <tr>\n",
              "      <th>4</th>\n",
              "      <td>5</td>\n",
              "      <td>estimated</td>\n",
              "      <td>49.64</td>\n",
              "    </tr>\n",
              "  </tbody>\n",
              "</table>\n",
              "</div>"
            ],
            "text/plain": [
              "   sequence measurement_type  temperature_f\n",
              "0         1           actual          67.24\n",
              "1         2           actual          84.56\n",
              "2         3           actual          91.61\n",
              "3         4             None            NaN\n",
              "4         5        estimated          49.64"
            ]
          },
          "metadata": {
            "tags": []
          },
          "execution_count": 92
        }
      ]
    },
    {
      "cell_type": "code",
      "metadata": {
        "colab": {
          "base_uri": "https://localhost:8080/",
          "height": 204
        },
        "id": "fKkNKubjMEKI",
        "outputId": "dedb3204-24da-4655-91b7-351a119547da"
      },
      "source": [
        "# To identify the null value. Return true if the value is null otherwise false\n",
        "temps.isna() "
      ],
      "execution_count": null,
      "outputs": [
        {
          "output_type": "execute_result",
          "data": {
            "text/html": [
              "<div>\n",
              "<style scoped>\n",
              "    .dataframe tbody tr th:only-of-type {\n",
              "        vertical-align: middle;\n",
              "    }\n",
              "\n",
              "    .dataframe tbody tr th {\n",
              "        vertical-align: top;\n",
              "    }\n",
              "\n",
              "    .dataframe thead th {\n",
              "        text-align: right;\n",
              "    }\n",
              "</style>\n",
              "<table border=\"1\" class=\"dataframe\">\n",
              "  <thead>\n",
              "    <tr style=\"text-align: right;\">\n",
              "      <th></th>\n",
              "      <th>sequence</th>\n",
              "      <th>measurement_type</th>\n",
              "      <th>temperature_f</th>\n",
              "    </tr>\n",
              "  </thead>\n",
              "  <tbody>\n",
              "    <tr>\n",
              "      <th>0</th>\n",
              "      <td>False</td>\n",
              "      <td>False</td>\n",
              "      <td>False</td>\n",
              "    </tr>\n",
              "    <tr>\n",
              "      <th>1</th>\n",
              "      <td>False</td>\n",
              "      <td>False</td>\n",
              "      <td>False</td>\n",
              "    </tr>\n",
              "    <tr>\n",
              "      <th>2</th>\n",
              "      <td>False</td>\n",
              "      <td>False</td>\n",
              "      <td>False</td>\n",
              "    </tr>\n",
              "    <tr>\n",
              "      <th>3</th>\n",
              "      <td>False</td>\n",
              "      <td>True</td>\n",
              "      <td>True</td>\n",
              "    </tr>\n",
              "    <tr>\n",
              "      <th>4</th>\n",
              "      <td>False</td>\n",
              "      <td>False</td>\n",
              "      <td>False</td>\n",
              "    </tr>\n",
              "  </tbody>\n",
              "</table>\n",
              "</div>"
            ],
            "text/plain": [
              "   sequence  measurement_type  temperature_f\n",
              "0     False             False          False\n",
              "1     False             False          False\n",
              "2     False             False          False\n",
              "3     False              True           True\n",
              "4     False             False          False"
            ]
          },
          "metadata": {
            "tags": []
          },
          "execution_count": 239
        }
      ]
    },
    {
      "cell_type": "code",
      "metadata": {
        "colab": {
          "base_uri": "https://localhost:8080/"
        },
        "id": "EAWsQC3nMPDu",
        "outputId": "798343ac-c15d-4de7-9ad1-e801ea5b1f26"
      },
      "source": [
        "# Return the count of missing value from each column     \n",
        "temps.isna().sum()"
      ],
      "execution_count": null,
      "outputs": [
        {
          "output_type": "execute_result",
          "data": {
            "text/plain": [
              "sequence            0\n",
              "measurement_type    1\n",
              "temperature_f       1\n",
              "dtype: int64"
            ]
          },
          "metadata": {
            "tags": []
          },
          "execution_count": 240
        }
      ]
    },
    {
      "cell_type": "code",
      "metadata": {
        "colab": {
          "base_uri": "https://localhost:8080/"
        },
        "id": "LFH7JqssMTRt",
        "outputId": "7e5cb47b-954e-4a85-c4ae-53f82bb396a7"
      },
      "source": [
        "# Total count of null from all columns\n",
        "temps.isna().sum().sum() "
      ],
      "execution_count": null,
      "outputs": [
        {
          "output_type": "execute_result",
          "data": {
            "text/plain": [
              "2"
            ]
          },
          "metadata": {
            "tags": []
          },
          "execution_count": 241
        }
      ]
    },
    {
      "cell_type": "code",
      "metadata": {
        "colab": {
          "base_uri": "https://localhost:8080/",
          "height": 173
        },
        "id": "VB7nFpzkMX20",
        "outputId": "3754b355-71e1-4ed8-81f9-85bacee43c98"
      },
      "source": [
        "# Drop/delete the row containing missing values\n",
        "\n",
        "clean_temps = temps.dropna(how='any')  # how: {'any', 'all'}. Default 'any'\n",
        "display (clean_temps)\n",
        "\n",
        "# ‘any’ : If any NA values are present, drop that row or column.\n",
        "# ‘all’ : If all values are NA, drop that row or column.\n",
        "\n",
        "\n",
        "# Observe, in the output, index 3 is not there."
      ],
      "execution_count": null,
      "outputs": [
        {
          "output_type": "display_data",
          "data": {
            "text/html": [
              "<div>\n",
              "<style scoped>\n",
              "    .dataframe tbody tr th:only-of-type {\n",
              "        vertical-align: middle;\n",
              "    }\n",
              "\n",
              "    .dataframe tbody tr th {\n",
              "        vertical-align: top;\n",
              "    }\n",
              "\n",
              "    .dataframe thead th {\n",
              "        text-align: right;\n",
              "    }\n",
              "</style>\n",
              "<table border=\"1\" class=\"dataframe\">\n",
              "  <thead>\n",
              "    <tr style=\"text-align: right;\">\n",
              "      <th></th>\n",
              "      <th>sequence</th>\n",
              "      <th>measurement_type</th>\n",
              "      <th>temperature_f</th>\n",
              "    </tr>\n",
              "  </thead>\n",
              "  <tbody>\n",
              "    <tr>\n",
              "      <th>0</th>\n",
              "      <td>1</td>\n",
              "      <td>actual</td>\n",
              "      <td>67.24</td>\n",
              "    </tr>\n",
              "    <tr>\n",
              "      <th>1</th>\n",
              "      <td>2</td>\n",
              "      <td>actual</td>\n",
              "      <td>84.56</td>\n",
              "    </tr>\n",
              "    <tr>\n",
              "      <th>2</th>\n",
              "      <td>3</td>\n",
              "      <td>actual</td>\n",
              "      <td>91.61</td>\n",
              "    </tr>\n",
              "    <tr>\n",
              "      <th>4</th>\n",
              "      <td>5</td>\n",
              "      <td>estimated</td>\n",
              "      <td>49.64</td>\n",
              "    </tr>\n",
              "  </tbody>\n",
              "</table>\n",
              "</div>"
            ],
            "text/plain": [
              "   sequence measurement_type  temperature_f\n",
              "0         1           actual          67.24\n",
              "1         2           actual          84.56\n",
              "2         3           actual          91.61\n",
              "4         5        estimated          49.64"
            ]
          },
          "metadata": {
            "tags": []
          }
        }
      ]
    },
    {
      "cell_type": "code",
      "metadata": {
        "colab": {
          "base_uri": "https://localhost:8080/",
          "height": 204
        },
        "id": "kkZ4hIPCMmdZ",
        "outputId": "2975a15e-34e2-4234-cc32-d0fea49daca9"
      },
      "source": [
        "# Copy paste the codes from the above cell, change the 'how' argument as 'all' and observe the difference in output.\n",
        "\n",
        "clean_temps = temps.dropna(how='all')  # how: {'any', 'all'}. Default 'any'\n",
        "display (clean_temps)"
      ],
      "execution_count": null,
      "outputs": [
        {
          "output_type": "display_data",
          "data": {
            "text/html": [
              "<div>\n",
              "<style scoped>\n",
              "    .dataframe tbody tr th:only-of-type {\n",
              "        vertical-align: middle;\n",
              "    }\n",
              "\n",
              "    .dataframe tbody tr th {\n",
              "        vertical-align: top;\n",
              "    }\n",
              "\n",
              "    .dataframe thead th {\n",
              "        text-align: right;\n",
              "    }\n",
              "</style>\n",
              "<table border=\"1\" class=\"dataframe\">\n",
              "  <thead>\n",
              "    <tr style=\"text-align: right;\">\n",
              "      <th></th>\n",
              "      <th>sequence</th>\n",
              "      <th>measurement_type</th>\n",
              "      <th>temperature_f</th>\n",
              "    </tr>\n",
              "  </thead>\n",
              "  <tbody>\n",
              "    <tr>\n",
              "      <th>0</th>\n",
              "      <td>1</td>\n",
              "      <td>actual</td>\n",
              "      <td>67.24</td>\n",
              "    </tr>\n",
              "    <tr>\n",
              "      <th>1</th>\n",
              "      <td>2</td>\n",
              "      <td>actual</td>\n",
              "      <td>84.56</td>\n",
              "    </tr>\n",
              "    <tr>\n",
              "      <th>2</th>\n",
              "      <td>3</td>\n",
              "      <td>actual</td>\n",
              "      <td>91.61</td>\n",
              "    </tr>\n",
              "    <tr>\n",
              "      <th>3</th>\n",
              "      <td>4</td>\n",
              "      <td>None</td>\n",
              "      <td>NaN</td>\n",
              "    </tr>\n",
              "    <tr>\n",
              "      <th>4</th>\n",
              "      <td>5</td>\n",
              "      <td>estimated</td>\n",
              "      <td>49.64</td>\n",
              "    </tr>\n",
              "  </tbody>\n",
              "</table>\n",
              "</div>"
            ],
            "text/plain": [
              "   sequence measurement_type  temperature_f\n",
              "0         1           actual          67.24\n",
              "1         2           actual          84.56\n",
              "2         3           actual          91.61\n",
              "3         4             None            NaN\n",
              "4         5        estimated          49.64"
            ]
          },
          "metadata": {
            "tags": []
          }
        }
      ]
    },
    {
      "cell_type": "code",
      "metadata": {
        "colab": {
          "base_uri": "https://localhost:8080/",
          "height": 173
        },
        "id": "SWdNYrXIM26y",
        "outputId": "c951cabb-05d0-4116-94d5-6a7804d6dbd8"
      },
      "source": [
        "# Drop the ROWS where at least one element is missing.\n",
        "temps.dropna()"
      ],
      "execution_count": null,
      "outputs": [
        {
          "output_type": "execute_result",
          "data": {
            "text/html": [
              "<div>\n",
              "<style scoped>\n",
              "    .dataframe tbody tr th:only-of-type {\n",
              "        vertical-align: middle;\n",
              "    }\n",
              "\n",
              "    .dataframe tbody tr th {\n",
              "        vertical-align: top;\n",
              "    }\n",
              "\n",
              "    .dataframe thead th {\n",
              "        text-align: right;\n",
              "    }\n",
              "</style>\n",
              "<table border=\"1\" class=\"dataframe\">\n",
              "  <thead>\n",
              "    <tr style=\"text-align: right;\">\n",
              "      <th></th>\n",
              "      <th>sequence</th>\n",
              "      <th>measurement_type</th>\n",
              "      <th>temperature_f</th>\n",
              "    </tr>\n",
              "  </thead>\n",
              "  <tbody>\n",
              "    <tr>\n",
              "      <th>0</th>\n",
              "      <td>1</td>\n",
              "      <td>actual</td>\n",
              "      <td>67.24</td>\n",
              "    </tr>\n",
              "    <tr>\n",
              "      <th>1</th>\n",
              "      <td>2</td>\n",
              "      <td>actual</td>\n",
              "      <td>84.56</td>\n",
              "    </tr>\n",
              "    <tr>\n",
              "      <th>2</th>\n",
              "      <td>3</td>\n",
              "      <td>actual</td>\n",
              "      <td>91.61</td>\n",
              "    </tr>\n",
              "    <tr>\n",
              "      <th>4</th>\n",
              "      <td>5</td>\n",
              "      <td>estimated</td>\n",
              "      <td>49.64</td>\n",
              "    </tr>\n",
              "  </tbody>\n",
              "</table>\n",
              "</div>"
            ],
            "text/plain": [
              "   sequence measurement_type  temperature_f\n",
              "0         1           actual          67.24\n",
              "1         2           actual          84.56\n",
              "2         3           actual          91.61\n",
              "4         5        estimated          49.64"
            ]
          },
          "metadata": {
            "tags": []
          },
          "execution_count": 244
        }
      ]
    },
    {
      "cell_type": "code",
      "metadata": {
        "colab": {
          "base_uri": "https://localhost:8080/",
          "height": 204
        },
        "id": "idQBIT-ENAI9",
        "outputId": "6eb64f4f-c080-41de-f678-2797bff2a34c"
      },
      "source": [
        "# Drop COLUMNS where there are missing values.\n",
        "\n",
        "# Drop the columns where at least one element is missing.\n",
        "temps.dropna(axis = 'columns') # Without the 'axis' argument, rows will be dropped by default as you did in the previous code."
      ],
      "execution_count": null,
      "outputs": [
        {
          "output_type": "execute_result",
          "data": {
            "text/html": [
              "<div>\n",
              "<style scoped>\n",
              "    .dataframe tbody tr th:only-of-type {\n",
              "        vertical-align: middle;\n",
              "    }\n",
              "\n",
              "    .dataframe tbody tr th {\n",
              "        vertical-align: top;\n",
              "    }\n",
              "\n",
              "    .dataframe thead th {\n",
              "        text-align: right;\n",
              "    }\n",
              "</style>\n",
              "<table border=\"1\" class=\"dataframe\">\n",
              "  <thead>\n",
              "    <tr style=\"text-align: right;\">\n",
              "      <th></th>\n",
              "      <th>sequence</th>\n",
              "    </tr>\n",
              "  </thead>\n",
              "  <tbody>\n",
              "    <tr>\n",
              "      <th>0</th>\n",
              "      <td>1</td>\n",
              "    </tr>\n",
              "    <tr>\n",
              "      <th>1</th>\n",
              "      <td>2</td>\n",
              "    </tr>\n",
              "    <tr>\n",
              "      <th>2</th>\n",
              "      <td>3</td>\n",
              "    </tr>\n",
              "    <tr>\n",
              "      <th>3</th>\n",
              "      <td>4</td>\n",
              "    </tr>\n",
              "    <tr>\n",
              "      <th>4</th>\n",
              "      <td>5</td>\n",
              "    </tr>\n",
              "  </tbody>\n",
              "</table>\n",
              "</div>"
            ],
            "text/plain": [
              "   sequence\n",
              "0         1\n",
              "1         2\n",
              "2         3\n",
              "3         4\n",
              "4         5"
            ]
          },
          "metadata": {
            "tags": []
          },
          "execution_count": 245
        }
      ]
    },
    {
      "cell_type": "code",
      "metadata": {
        "colab": {
          "base_uri": "https://localhost:8080/"
        },
        "id": "mvXZcW2JNIJo",
        "outputId": "51ba1c03-0269-42dc-92a8-76e59b881d10"
      },
      "source": [
        "temps['temperature_f'].cumsum()   # Returns the commulative sum. \n",
        "\n",
        "# It will skip null values. skipna = TRUE by default"
      ],
      "execution_count": null,
      "outputs": [
        {
          "output_type": "execute_result",
          "data": {
            "text/plain": [
              "0     67.24\n",
              "1    151.80\n",
              "2    243.41\n",
              "3       NaN\n",
              "4    293.05\n",
              "Name: temperature_f, dtype: float64"
            ]
          },
          "metadata": {
            "tags": []
          },
          "execution_count": 246
        }
      ]
    },
    {
      "cell_type": "code",
      "metadata": {
        "colab": {
          "base_uri": "https://localhost:8080/"
        },
        "id": "W8TmV6l9NYWT",
        "outputId": "7ad39322-4974-44b0-b2fb-31b3f834230a"
      },
      "source": [
        "temps['temperature_f'].cumsum(skipna=False)"
      ],
      "execution_count": null,
      "outputs": [
        {
          "output_type": "execute_result",
          "data": {
            "text/plain": [
              "0     67.24\n",
              "1    151.80\n",
              "2    243.41\n",
              "3       NaN\n",
              "4       NaN\n",
              "Name: temperature_f, dtype: float64"
            ]
          },
          "metadata": {
            "tags": []
          },
          "execution_count": 247
        }
      ]
    },
    {
      "cell_type": "code",
      "metadata": {
        "colab": {
          "base_uri": "https://localhost:8080/",
          "height": 204
        },
        "id": "b6hLCEe4Ngqy",
        "outputId": "14dc5f1d-d261-41cc-f4ba-c258bfe2443e"
      },
      "source": [
        "# fill missing value with zero\n",
        "temps.fillna(value=0, inplace = True)   # Do you remember the use of inplace? If not, please scroll up and check.\n",
        "display(temps)"
      ],
      "execution_count": null,
      "outputs": [
        {
          "output_type": "display_data",
          "data": {
            "text/html": [
              "<div>\n",
              "<style scoped>\n",
              "    .dataframe tbody tr th:only-of-type {\n",
              "        vertical-align: middle;\n",
              "    }\n",
              "\n",
              "    .dataframe tbody tr th {\n",
              "        vertical-align: top;\n",
              "    }\n",
              "\n",
              "    .dataframe thead th {\n",
              "        text-align: right;\n",
              "    }\n",
              "</style>\n",
              "<table border=\"1\" class=\"dataframe\">\n",
              "  <thead>\n",
              "    <tr style=\"text-align: right;\">\n",
              "      <th></th>\n",
              "      <th>sequence</th>\n",
              "      <th>measurement_type</th>\n",
              "      <th>temperature_f</th>\n",
              "    </tr>\n",
              "  </thead>\n",
              "  <tbody>\n",
              "    <tr>\n",
              "      <th>0</th>\n",
              "      <td>1</td>\n",
              "      <td>actual</td>\n",
              "      <td>67.24</td>\n",
              "    </tr>\n",
              "    <tr>\n",
              "      <th>1</th>\n",
              "      <td>2</td>\n",
              "      <td>actual</td>\n",
              "      <td>84.56</td>\n",
              "    </tr>\n",
              "    <tr>\n",
              "      <th>2</th>\n",
              "      <td>3</td>\n",
              "      <td>actual</td>\n",
              "      <td>91.61</td>\n",
              "    </tr>\n",
              "    <tr>\n",
              "      <th>3</th>\n",
              "      <td>4</td>\n",
              "      <td>0</td>\n",
              "      <td>0.00</td>\n",
              "    </tr>\n",
              "    <tr>\n",
              "      <th>4</th>\n",
              "      <td>5</td>\n",
              "      <td>estimated</td>\n",
              "      <td>49.64</td>\n",
              "    </tr>\n",
              "  </tbody>\n",
              "</table>\n",
              "</div>"
            ],
            "text/plain": [
              "   sequence measurement_type  temperature_f\n",
              "0         1           actual          67.24\n",
              "1         2           actual          84.56\n",
              "2         3           actual          91.61\n",
              "3         4                0           0.00\n",
              "4         5        estimated          49.64"
            ]
          },
          "metadata": {
            "tags": []
          }
        }
      ]
    },
    {
      "cell_type": "code",
      "metadata": {
        "colab": {
          "base_uri": "https://localhost:8080/",
          "height": 204
        },
        "id": "9RusSLE6NpvY",
        "outputId": "b265815c-b975-4361-e21c-c91d46f963d2"
      },
      "source": [
        "# Print the dataframe\n",
        "\n",
        "temps  # In temperature_f columns there given as 0.00 this is because this column is float with have 2 decimals so our 0 becomes 0.00"
      ],
      "execution_count": null,
      "outputs": [
        {
          "output_type": "execute_result",
          "data": {
            "text/html": [
              "<div>\n",
              "<style scoped>\n",
              "    .dataframe tbody tr th:only-of-type {\n",
              "        vertical-align: middle;\n",
              "    }\n",
              "\n",
              "    .dataframe tbody tr th {\n",
              "        vertical-align: top;\n",
              "    }\n",
              "\n",
              "    .dataframe thead th {\n",
              "        text-align: right;\n",
              "    }\n",
              "</style>\n",
              "<table border=\"1\" class=\"dataframe\">\n",
              "  <thead>\n",
              "    <tr style=\"text-align: right;\">\n",
              "      <th></th>\n",
              "      <th>sequence</th>\n",
              "      <th>measurement_type</th>\n",
              "      <th>temperature_f</th>\n",
              "    </tr>\n",
              "  </thead>\n",
              "  <tbody>\n",
              "    <tr>\n",
              "      <th>0</th>\n",
              "      <td>1</td>\n",
              "      <td>actual</td>\n",
              "      <td>67.24</td>\n",
              "    </tr>\n",
              "    <tr>\n",
              "      <th>1</th>\n",
              "      <td>2</td>\n",
              "      <td>actual</td>\n",
              "      <td>84.56</td>\n",
              "    </tr>\n",
              "    <tr>\n",
              "      <th>2</th>\n",
              "      <td>3</td>\n",
              "      <td>actual</td>\n",
              "      <td>91.61</td>\n",
              "    </tr>\n",
              "    <tr>\n",
              "      <th>3</th>\n",
              "      <td>4</td>\n",
              "      <td>0</td>\n",
              "      <td>0.00</td>\n",
              "    </tr>\n",
              "    <tr>\n",
              "      <th>4</th>\n",
              "      <td>5</td>\n",
              "      <td>estimated</td>\n",
              "      <td>49.64</td>\n",
              "    </tr>\n",
              "  </tbody>\n",
              "</table>\n",
              "</div>"
            ],
            "text/plain": [
              "   sequence measurement_type  temperature_f\n",
              "0         1           actual          67.24\n",
              "1         2           actual          84.56\n",
              "2         3           actual          91.61\n",
              "3         4                0           0.00\n",
              "4         5        estimated          49.64"
            ]
          },
          "metadata": {
            "tags": []
          },
          "execution_count": 249
        }
      ]
    },
    {
      "cell_type": "code",
      "metadata": {
        "colab": {
          "base_uri": "https://localhost:8080/",
          "height": 204
        },
        "id": "3Arg3EZgNy6B",
        "outputId": "35bf2457-46ca-4099-ce64-5a1cb4bcb9fe"
      },
      "source": [
        "# fill missing value with previous value\n",
        "temps = pd.DataFrame({\"sequence\":[1,2,3,4,5],\n",
        "          \"measurement_type\":['actual','actual','actual',None,'estimated'],\n",
        "          \"temperature_f\":[67.24,84.56,91.61,None,49.64]\n",
        "         })\n",
        "temps.fillna(method='pad' , inplace=True)  # 'pad' means padding. Take value from previous row\n",
        "temps"
      ],
      "execution_count": null,
      "outputs": [
        {
          "output_type": "execute_result",
          "data": {
            "text/html": [
              "<div>\n",
              "<style scoped>\n",
              "    .dataframe tbody tr th:only-of-type {\n",
              "        vertical-align: middle;\n",
              "    }\n",
              "\n",
              "    .dataframe tbody tr th {\n",
              "        vertical-align: top;\n",
              "    }\n",
              "\n",
              "    .dataframe thead th {\n",
              "        text-align: right;\n",
              "    }\n",
              "</style>\n",
              "<table border=\"1\" class=\"dataframe\">\n",
              "  <thead>\n",
              "    <tr style=\"text-align: right;\">\n",
              "      <th></th>\n",
              "      <th>sequence</th>\n",
              "      <th>measurement_type</th>\n",
              "      <th>temperature_f</th>\n",
              "    </tr>\n",
              "  </thead>\n",
              "  <tbody>\n",
              "    <tr>\n",
              "      <th>0</th>\n",
              "      <td>1</td>\n",
              "      <td>actual</td>\n",
              "      <td>67.24</td>\n",
              "    </tr>\n",
              "    <tr>\n",
              "      <th>1</th>\n",
              "      <td>2</td>\n",
              "      <td>actual</td>\n",
              "      <td>84.56</td>\n",
              "    </tr>\n",
              "    <tr>\n",
              "      <th>2</th>\n",
              "      <td>3</td>\n",
              "      <td>actual</td>\n",
              "      <td>91.61</td>\n",
              "    </tr>\n",
              "    <tr>\n",
              "      <th>3</th>\n",
              "      <td>4</td>\n",
              "      <td>actual</td>\n",
              "      <td>91.61</td>\n",
              "    </tr>\n",
              "    <tr>\n",
              "      <th>4</th>\n",
              "      <td>5</td>\n",
              "      <td>estimated</td>\n",
              "      <td>49.64</td>\n",
              "    </tr>\n",
              "  </tbody>\n",
              "</table>\n",
              "</div>"
            ],
            "text/plain": [
              "   sequence measurement_type  temperature_f\n",
              "0         1           actual          67.24\n",
              "1         2           actual          84.56\n",
              "2         3           actual          91.61\n",
              "3         4           actual          91.61\n",
              "4         5        estimated          49.64"
            ]
          },
          "metadata": {
            "tags": []
          },
          "execution_count": 250
        }
      ]
    },
    {
      "cell_type": "code",
      "metadata": {
        "colab": {
          "base_uri": "https://localhost:8080/",
          "height": 204
        },
        "id": "BIc-DY7sONp_",
        "outputId": "ab651e06-6273-45aa-d1a2-7f260c45e024"
      },
      "source": [
        "# fill missing value with next value\n",
        "temps1 = pd.DataFrame({\"sequence\":[1,2,3,4,5],\n",
        "          \"measurement_type\":['actual','actual','actual',None,'estimated'],\n",
        "          \"temperature_f\":[67.24,84.56,91.61,None,49.64]\n",
        "         })\n",
        "temps1.fillna(method='bfill' , inplace=True)  # bfill takes next value to replace\n",
        "temps1"
      ],
      "execution_count": null,
      "outputs": [
        {
          "output_type": "execute_result",
          "data": {
            "text/html": [
              "<div>\n",
              "<style scoped>\n",
              "    .dataframe tbody tr th:only-of-type {\n",
              "        vertical-align: middle;\n",
              "    }\n",
              "\n",
              "    .dataframe tbody tr th {\n",
              "        vertical-align: top;\n",
              "    }\n",
              "\n",
              "    .dataframe thead th {\n",
              "        text-align: right;\n",
              "    }\n",
              "</style>\n",
              "<table border=\"1\" class=\"dataframe\">\n",
              "  <thead>\n",
              "    <tr style=\"text-align: right;\">\n",
              "      <th></th>\n",
              "      <th>sequence</th>\n",
              "      <th>measurement_type</th>\n",
              "      <th>temperature_f</th>\n",
              "    </tr>\n",
              "  </thead>\n",
              "  <tbody>\n",
              "    <tr>\n",
              "      <th>0</th>\n",
              "      <td>1</td>\n",
              "      <td>actual</td>\n",
              "      <td>67.24</td>\n",
              "    </tr>\n",
              "    <tr>\n",
              "      <th>1</th>\n",
              "      <td>2</td>\n",
              "      <td>actual</td>\n",
              "      <td>84.56</td>\n",
              "    </tr>\n",
              "    <tr>\n",
              "      <th>2</th>\n",
              "      <td>3</td>\n",
              "      <td>actual</td>\n",
              "      <td>91.61</td>\n",
              "    </tr>\n",
              "    <tr>\n",
              "      <th>3</th>\n",
              "      <td>4</td>\n",
              "      <td>estimated</td>\n",
              "      <td>49.64</td>\n",
              "    </tr>\n",
              "    <tr>\n",
              "      <th>4</th>\n",
              "      <td>5</td>\n",
              "      <td>estimated</td>\n",
              "      <td>49.64</td>\n",
              "    </tr>\n",
              "  </tbody>\n",
              "</table>\n",
              "</div>"
            ],
            "text/plain": [
              "   sequence measurement_type  temperature_f\n",
              "0         1           actual          67.24\n",
              "1         2           actual          84.56\n",
              "2         3           actual          91.61\n",
              "3         4        estimated          49.64\n",
              "4         5        estimated          49.64"
            ]
          },
          "metadata": {
            "tags": []
          },
          "execution_count": 251
        }
      ]
    },
    {
      "cell_type": "code",
      "metadata": {
        "colab": {
          "base_uri": "https://localhost:8080/",
          "height": 204
        },
        "id": "9Vr-g928OTRb",
        "outputId": "c1c5b137-1cd8-45b9-9c96-efc2eafab34a"
      },
      "source": [
        "# fill missing value with mean\n",
        "temps = pd.DataFrame({\"sequence\":[1,2,3,4,5],\n",
        "          \"measurement_type\":['actual','actual','actual',None,'estimated'],\n",
        "          \"temperature_f\":[67.24,84.56,91.61,None,49.64]\n",
        "         })\n",
        "temps['temperature_f'].fillna(temps['temperature_f'].mean(), inplace=True)  # Mean will not work on strings\n",
        "temps"
      ],
      "execution_count": null,
      "outputs": [
        {
          "output_type": "execute_result",
          "data": {
            "text/html": [
              "<div>\n",
              "<style scoped>\n",
              "    .dataframe tbody tr th:only-of-type {\n",
              "        vertical-align: middle;\n",
              "    }\n",
              "\n",
              "    .dataframe tbody tr th {\n",
              "        vertical-align: top;\n",
              "    }\n",
              "\n",
              "    .dataframe thead th {\n",
              "        text-align: right;\n",
              "    }\n",
              "</style>\n",
              "<table border=\"1\" class=\"dataframe\">\n",
              "  <thead>\n",
              "    <tr style=\"text-align: right;\">\n",
              "      <th></th>\n",
              "      <th>sequence</th>\n",
              "      <th>measurement_type</th>\n",
              "      <th>temperature_f</th>\n",
              "    </tr>\n",
              "  </thead>\n",
              "  <tbody>\n",
              "    <tr>\n",
              "      <th>0</th>\n",
              "      <td>1</td>\n",
              "      <td>actual</td>\n",
              "      <td>67.2400</td>\n",
              "    </tr>\n",
              "    <tr>\n",
              "      <th>1</th>\n",
              "      <td>2</td>\n",
              "      <td>actual</td>\n",
              "      <td>84.5600</td>\n",
              "    </tr>\n",
              "    <tr>\n",
              "      <th>2</th>\n",
              "      <td>3</td>\n",
              "      <td>actual</td>\n",
              "      <td>91.6100</td>\n",
              "    </tr>\n",
              "    <tr>\n",
              "      <th>3</th>\n",
              "      <td>4</td>\n",
              "      <td>None</td>\n",
              "      <td>73.2625</td>\n",
              "    </tr>\n",
              "    <tr>\n",
              "      <th>4</th>\n",
              "      <td>5</td>\n",
              "      <td>estimated</td>\n",
              "      <td>49.6400</td>\n",
              "    </tr>\n",
              "  </tbody>\n",
              "</table>\n",
              "</div>"
            ],
            "text/plain": [
              "   sequence measurement_type  temperature_f\n",
              "0         1           actual        67.2400\n",
              "1         2           actual        84.5600\n",
              "2         3           actual        91.6100\n",
              "3         4             None        73.2625\n",
              "4         5        estimated        49.6400"
            ]
          },
          "metadata": {
            "tags": []
          },
          "execution_count": 252
        }
      ]
    },
    {
      "cell_type": "markdown",
      "metadata": {
        "id": "KJUWIADkOh7T"
      },
      "source": [
        "# Lambda Function"
      ]
    },
    {
      "cell_type": "code",
      "metadata": {
        "colab": {
          "base_uri": "https://localhost:8080/"
        },
        "id": "8SkqbhNjOi3G",
        "outputId": "172165c5-7ddb-4f36-920c-58d25f8a76fd"
      },
      "source": [
        "# lambda is used to define a temporary expression without any return statement. It always contains an expression\n",
        "# that is returned. There is no need to assign a variable with lambda.\n",
        "\n",
        "\n",
        "def cube(y):\n",
        "    return y*y*y  # return is a keyword. Python stops when the code reaches to return statement. Print is a function.\n",
        "    \n",
        "\n",
        "# using the normally defined function\n",
        "    print(cube(5))\n",
        " \n",
        "# using the lambda function                 # Why this is red? How to resolve it?\n",
        "lambda_cube = lambda y: y*y*y\n",
        "print(lambda_cube(5))"
      ],
      "execution_count": null,
      "outputs": [
        {
          "output_type": "stream",
          "text": [
            "125\n"
          ],
          "name": "stdout"
        }
      ]
    },
    {
      "cell_type": "code",
      "metadata": {
        "colab": {
          "base_uri": "https://localhost:8080/",
          "height": 173
        },
        "id": "CgVzbDKQPHfW",
        "outputId": "036febf2-2828-4953-fce4-972b50c1b371"
      },
      "source": [
        "# Creating new dataframe to explore the use of Lambda and changing indices.\n",
        "\n",
        "teams = pd.DataFrame({\"Region\":['North','West','East','South'],\n",
        "          \"Team\":['One','Two','One','Two'],\n",
        "          \"Squad\":['A','B','C','D'],\n",
        "          \"Revenue\":[7500,5500,2750,6400],\n",
        "            \"Cost\":[5200,5100,4400,5300]})\n",
        "\n",
        "display (teams)"
      ],
      "execution_count": null,
      "outputs": [
        {
          "output_type": "display_data",
          "data": {
            "text/html": [
              "<div>\n",
              "<style scoped>\n",
              "    .dataframe tbody tr th:only-of-type {\n",
              "        vertical-align: middle;\n",
              "    }\n",
              "\n",
              "    .dataframe tbody tr th {\n",
              "        vertical-align: top;\n",
              "    }\n",
              "\n",
              "    .dataframe thead th {\n",
              "        text-align: right;\n",
              "    }\n",
              "</style>\n",
              "<table border=\"1\" class=\"dataframe\">\n",
              "  <thead>\n",
              "    <tr style=\"text-align: right;\">\n",
              "      <th></th>\n",
              "      <th>Region</th>\n",
              "      <th>Team</th>\n",
              "      <th>Squad</th>\n",
              "      <th>Revenue</th>\n",
              "      <th>Cost</th>\n",
              "    </tr>\n",
              "  </thead>\n",
              "  <tbody>\n",
              "    <tr>\n",
              "      <th>0</th>\n",
              "      <td>North</td>\n",
              "      <td>One</td>\n",
              "      <td>A</td>\n",
              "      <td>7500</td>\n",
              "      <td>5200</td>\n",
              "    </tr>\n",
              "    <tr>\n",
              "      <th>1</th>\n",
              "      <td>West</td>\n",
              "      <td>Two</td>\n",
              "      <td>B</td>\n",
              "      <td>5500</td>\n",
              "      <td>5100</td>\n",
              "    </tr>\n",
              "    <tr>\n",
              "      <th>2</th>\n",
              "      <td>East</td>\n",
              "      <td>One</td>\n",
              "      <td>C</td>\n",
              "      <td>2750</td>\n",
              "      <td>4400</td>\n",
              "    </tr>\n",
              "    <tr>\n",
              "      <th>3</th>\n",
              "      <td>South</td>\n",
              "      <td>Two</td>\n",
              "      <td>D</td>\n",
              "      <td>6400</td>\n",
              "      <td>5300</td>\n",
              "    </tr>\n",
              "  </tbody>\n",
              "</table>\n",
              "</div>"
            ],
            "text/plain": [
              "  Region Team Squad  Revenue  Cost\n",
              "0  North  One     A     7500  5200\n",
              "1   West  Two     B     5500  5100\n",
              "2   East  One     C     2750  4400\n",
              "3  South  Two     D     6400  5300"
            ]
          },
          "metadata": {
            "tags": []
          }
        }
      ]
    },
    {
      "cell_type": "code",
      "metadata": {
        "colab": {
          "base_uri": "https://localhost:8080/",
          "height": 173
        },
        "id": "pZ0yVurpPZPl",
        "outputId": "eba9220e-0513-4a0f-f9be-12e536534949"
      },
      "source": [
        "# apply() to alter values along an axis in your dataframe or in a series/column \n",
        "\n",
        "# Categorise based on the revenue and cost\n",
        "teams['Profit'] = teams.apply(lambda x: 'Profit' if x['Revenue']>x['Cost'] else 'Loss',axis=1)\n",
        "teams"
      ],
      "execution_count": null,
      "outputs": [
        {
          "output_type": "execute_result",
          "data": {
            "text/html": [
              "<div>\n",
              "<style scoped>\n",
              "    .dataframe tbody tr th:only-of-type {\n",
              "        vertical-align: middle;\n",
              "    }\n",
              "\n",
              "    .dataframe tbody tr th {\n",
              "        vertical-align: top;\n",
              "    }\n",
              "\n",
              "    .dataframe thead th {\n",
              "        text-align: right;\n",
              "    }\n",
              "</style>\n",
              "<table border=\"1\" class=\"dataframe\">\n",
              "  <thead>\n",
              "    <tr style=\"text-align: right;\">\n",
              "      <th></th>\n",
              "      <th>Region</th>\n",
              "      <th>Team</th>\n",
              "      <th>Squad</th>\n",
              "      <th>Revenue</th>\n",
              "      <th>Cost</th>\n",
              "      <th>Profit</th>\n",
              "    </tr>\n",
              "  </thead>\n",
              "  <tbody>\n",
              "    <tr>\n",
              "      <th>0</th>\n",
              "      <td>North</td>\n",
              "      <td>One</td>\n",
              "      <td>A</td>\n",
              "      <td>7500</td>\n",
              "      <td>5200</td>\n",
              "      <td>Profit</td>\n",
              "    </tr>\n",
              "    <tr>\n",
              "      <th>1</th>\n",
              "      <td>West</td>\n",
              "      <td>Two</td>\n",
              "      <td>B</td>\n",
              "      <td>5500</td>\n",
              "      <td>5100</td>\n",
              "      <td>Profit</td>\n",
              "    </tr>\n",
              "    <tr>\n",
              "      <th>2</th>\n",
              "      <td>East</td>\n",
              "      <td>One</td>\n",
              "      <td>C</td>\n",
              "      <td>2750</td>\n",
              "      <td>4400</td>\n",
              "      <td>Loss</td>\n",
              "    </tr>\n",
              "    <tr>\n",
              "      <th>3</th>\n",
              "      <td>South</td>\n",
              "      <td>Two</td>\n",
              "      <td>D</td>\n",
              "      <td>6400</td>\n",
              "      <td>5300</td>\n",
              "      <td>Profit</td>\n",
              "    </tr>\n",
              "  </tbody>\n",
              "</table>\n",
              "</div>"
            ],
            "text/plain": [
              "  Region Team Squad  Revenue  Cost  Profit\n",
              "0  North  One     A     7500  5200  Profit\n",
              "1   West  Two     B     5500  5100  Profit\n",
              "2   East  One     C     2750  4400    Loss\n",
              "3  South  Two     D     6400  5300  Profit"
            ]
          },
          "metadata": {
            "tags": []
          },
          "execution_count": 255
        }
      ]
    },
    {
      "cell_type": "code",
      "metadata": {
        "colab": {
          "base_uri": "https://localhost:8080/",
          "height": 173
        },
        "id": "JMN88TJlPlg_",
        "outputId": "61c17b1d-b7a9-4433-cdef-c85ea074f62f"
      },
      "source": [
        "# Use map() to substitute each value in a series\n",
        "team_map = {\"One\":\"Red\",\"Two\":\"Blue\"}      # new variable - dictionary (key-value pair)\n",
        "teams['Team Color'] = teams['Team'].map(team_map) # A new column with mapped values\n",
        "teams"
      ],
      "execution_count": null,
      "outputs": [
        {
          "output_type": "execute_result",
          "data": {
            "text/html": [
              "<div>\n",
              "<style scoped>\n",
              "    .dataframe tbody tr th:only-of-type {\n",
              "        vertical-align: middle;\n",
              "    }\n",
              "\n",
              "    .dataframe tbody tr th {\n",
              "        vertical-align: top;\n",
              "    }\n",
              "\n",
              "    .dataframe thead th {\n",
              "        text-align: right;\n",
              "    }\n",
              "</style>\n",
              "<table border=\"1\" class=\"dataframe\">\n",
              "  <thead>\n",
              "    <tr style=\"text-align: right;\">\n",
              "      <th></th>\n",
              "      <th>Region</th>\n",
              "      <th>Team</th>\n",
              "      <th>Squad</th>\n",
              "      <th>Revenue</th>\n",
              "      <th>Cost</th>\n",
              "      <th>Profit</th>\n",
              "      <th>Team Color</th>\n",
              "    </tr>\n",
              "  </thead>\n",
              "  <tbody>\n",
              "    <tr>\n",
              "      <th>0</th>\n",
              "      <td>North</td>\n",
              "      <td>One</td>\n",
              "      <td>A</td>\n",
              "      <td>7500</td>\n",
              "      <td>5200</td>\n",
              "      <td>Profit</td>\n",
              "      <td>Red</td>\n",
              "    </tr>\n",
              "    <tr>\n",
              "      <th>1</th>\n",
              "      <td>West</td>\n",
              "      <td>Two</td>\n",
              "      <td>B</td>\n",
              "      <td>5500</td>\n",
              "      <td>5100</td>\n",
              "      <td>Profit</td>\n",
              "      <td>Blue</td>\n",
              "    </tr>\n",
              "    <tr>\n",
              "      <th>2</th>\n",
              "      <td>East</td>\n",
              "      <td>One</td>\n",
              "      <td>C</td>\n",
              "      <td>2750</td>\n",
              "      <td>4400</td>\n",
              "      <td>Loss</td>\n",
              "      <td>Red</td>\n",
              "    </tr>\n",
              "    <tr>\n",
              "      <th>3</th>\n",
              "      <td>South</td>\n",
              "      <td>Two</td>\n",
              "      <td>D</td>\n",
              "      <td>6400</td>\n",
              "      <td>5300</td>\n",
              "      <td>Profit</td>\n",
              "      <td>Blue</td>\n",
              "    </tr>\n",
              "  </tbody>\n",
              "</table>\n",
              "</div>"
            ],
            "text/plain": [
              "  Region Team Squad  Revenue  Cost  Profit Team Color\n",
              "0  North  One     A     7500  5200  Profit        Red\n",
              "1   West  Two     B     5500  5100  Profit       Blue\n",
              "2   East  One     C     2750  4400    Loss        Red\n",
              "3  South  Two     D     6400  5300  Profit       Blue"
            ]
          },
          "metadata": {
            "tags": []
          },
          "execution_count": 256
        }
      ]
    },
    {
      "cell_type": "code",
      "metadata": {
        "colab": {
          "base_uri": "https://localhost:8080/",
          "height": 173
        },
        "id": "r4iS0vglQA18",
        "outputId": "17d60ec4-639d-4243-90e2-05619e015e98"
      },
      "source": [
        "# applymap() method do elementwise operation on the entire dataframe.\n",
        "# This method applies a function that accepts and returns a scalar to every element of a DataFrame.\n",
        "\n",
        "teams.applymap(lambda x: len(str(x)))  # int(x) won't work because data has strings which can not be convereted to int."
      ],
      "execution_count": null,
      "outputs": [
        {
          "output_type": "execute_result",
          "data": {
            "text/html": [
              "<div>\n",
              "<style scoped>\n",
              "    .dataframe tbody tr th:only-of-type {\n",
              "        vertical-align: middle;\n",
              "    }\n",
              "\n",
              "    .dataframe tbody tr th {\n",
              "        vertical-align: top;\n",
              "    }\n",
              "\n",
              "    .dataframe thead th {\n",
              "        text-align: right;\n",
              "    }\n",
              "</style>\n",
              "<table border=\"1\" class=\"dataframe\">\n",
              "  <thead>\n",
              "    <tr style=\"text-align: right;\">\n",
              "      <th></th>\n",
              "      <th>Region</th>\n",
              "      <th>Team</th>\n",
              "      <th>Squad</th>\n",
              "      <th>Revenue</th>\n",
              "      <th>Cost</th>\n",
              "      <th>Profit</th>\n",
              "      <th>Team Color</th>\n",
              "    </tr>\n",
              "  </thead>\n",
              "  <tbody>\n",
              "    <tr>\n",
              "      <th>0</th>\n",
              "      <td>5</td>\n",
              "      <td>3</td>\n",
              "      <td>1</td>\n",
              "      <td>4</td>\n",
              "      <td>4</td>\n",
              "      <td>6</td>\n",
              "      <td>3</td>\n",
              "    </tr>\n",
              "    <tr>\n",
              "      <th>1</th>\n",
              "      <td>4</td>\n",
              "      <td>3</td>\n",
              "      <td>1</td>\n",
              "      <td>4</td>\n",
              "      <td>4</td>\n",
              "      <td>6</td>\n",
              "      <td>4</td>\n",
              "    </tr>\n",
              "    <tr>\n",
              "      <th>2</th>\n",
              "      <td>4</td>\n",
              "      <td>3</td>\n",
              "      <td>1</td>\n",
              "      <td>4</td>\n",
              "      <td>4</td>\n",
              "      <td>4</td>\n",
              "      <td>3</td>\n",
              "    </tr>\n",
              "    <tr>\n",
              "      <th>3</th>\n",
              "      <td>5</td>\n",
              "      <td>3</td>\n",
              "      <td>1</td>\n",
              "      <td>4</td>\n",
              "      <td>4</td>\n",
              "      <td>6</td>\n",
              "      <td>4</td>\n",
              "    </tr>\n",
              "  </tbody>\n",
              "</table>\n",
              "</div>"
            ],
            "text/plain": [
              "   Region  Team  Squad  Revenue  Cost  Profit  Team Color\n",
              "0       5     3      1        4     4       6           3\n",
              "1       4     3      1        4     4       6           4\n",
              "2       4     3      1        4     4       4           3\n",
              "3       5     3      1        4     4       6           4"
            ]
          },
          "metadata": {
            "tags": []
          },
          "execution_count": 257
        }
      ]
    },
    {
      "cell_type": "code",
      "metadata": {
        "colab": {
          "base_uri": "https://localhost:8080/",
          "height": 142
        },
        "id": "OazHIKZwQR1z",
        "outputId": "1e582361-6292-4852-b331-dc2a544df3d8"
      },
      "source": [
        "# Grouping on different categories. Needs the category as well as parameter\n",
        "teams.groupby(['Profit']).max()"
      ],
      "execution_count": null,
      "outputs": [
        {
          "output_type": "execute_result",
          "data": {
            "text/html": [
              "<div>\n",
              "<style scoped>\n",
              "    .dataframe tbody tr th:only-of-type {\n",
              "        vertical-align: middle;\n",
              "    }\n",
              "\n",
              "    .dataframe tbody tr th {\n",
              "        vertical-align: top;\n",
              "    }\n",
              "\n",
              "    .dataframe thead th {\n",
              "        text-align: right;\n",
              "    }\n",
              "</style>\n",
              "<table border=\"1\" class=\"dataframe\">\n",
              "  <thead>\n",
              "    <tr style=\"text-align: right;\">\n",
              "      <th></th>\n",
              "      <th>Region</th>\n",
              "      <th>Team</th>\n",
              "      <th>Squad</th>\n",
              "      <th>Revenue</th>\n",
              "      <th>Cost</th>\n",
              "      <th>Team Color</th>\n",
              "    </tr>\n",
              "    <tr>\n",
              "      <th>Profit</th>\n",
              "      <th></th>\n",
              "      <th></th>\n",
              "      <th></th>\n",
              "      <th></th>\n",
              "      <th></th>\n",
              "      <th></th>\n",
              "    </tr>\n",
              "  </thead>\n",
              "  <tbody>\n",
              "    <tr>\n",
              "      <th>Loss</th>\n",
              "      <td>East</td>\n",
              "      <td>One</td>\n",
              "      <td>C</td>\n",
              "      <td>2750</td>\n",
              "      <td>4400</td>\n",
              "      <td>Red</td>\n",
              "    </tr>\n",
              "    <tr>\n",
              "      <th>Profit</th>\n",
              "      <td>West</td>\n",
              "      <td>Two</td>\n",
              "      <td>D</td>\n",
              "      <td>7500</td>\n",
              "      <td>5300</td>\n",
              "      <td>Red</td>\n",
              "    </tr>\n",
              "  </tbody>\n",
              "</table>\n",
              "</div>"
            ],
            "text/plain": [
              "       Region Team Squad  Revenue  Cost Team Color\n",
              "Profit                                            \n",
              "Loss     East  One     C     2750  4400        Red\n",
              "Profit   West  Two     D     7500  5300        Red"
            ]
          },
          "metadata": {
            "tags": []
          },
          "execution_count": 258
        }
      ]
    },
    {
      "cell_type": "code",
      "metadata": {
        "colab": {
          "base_uri": "https://localhost:8080/",
          "height": 204
        },
        "id": "Lo-ETcX9QeDL",
        "outputId": "3c28345d-ddae-4c26-dcca-52f5af83d733"
      },
      "source": [
        "# Can you group the records on Cost with minimum values?\n",
        "teams.groupby(['Cost']).min()"
      ],
      "execution_count": null,
      "outputs": [
        {
          "output_type": "execute_result",
          "data": {
            "text/html": [
              "<div>\n",
              "<style scoped>\n",
              "    .dataframe tbody tr th:only-of-type {\n",
              "        vertical-align: middle;\n",
              "    }\n",
              "\n",
              "    .dataframe tbody tr th {\n",
              "        vertical-align: top;\n",
              "    }\n",
              "\n",
              "    .dataframe thead th {\n",
              "        text-align: right;\n",
              "    }\n",
              "</style>\n",
              "<table border=\"1\" class=\"dataframe\">\n",
              "  <thead>\n",
              "    <tr style=\"text-align: right;\">\n",
              "      <th></th>\n",
              "      <th>Region</th>\n",
              "      <th>Team</th>\n",
              "      <th>Squad</th>\n",
              "      <th>Revenue</th>\n",
              "      <th>Profit</th>\n",
              "      <th>Team Color</th>\n",
              "    </tr>\n",
              "    <tr>\n",
              "      <th>Cost</th>\n",
              "      <th></th>\n",
              "      <th></th>\n",
              "      <th></th>\n",
              "      <th></th>\n",
              "      <th></th>\n",
              "      <th></th>\n",
              "    </tr>\n",
              "  </thead>\n",
              "  <tbody>\n",
              "    <tr>\n",
              "      <th>4400</th>\n",
              "      <td>East</td>\n",
              "      <td>One</td>\n",
              "      <td>C</td>\n",
              "      <td>2750</td>\n",
              "      <td>Loss</td>\n",
              "      <td>Red</td>\n",
              "    </tr>\n",
              "    <tr>\n",
              "      <th>5100</th>\n",
              "      <td>West</td>\n",
              "      <td>Two</td>\n",
              "      <td>B</td>\n",
              "      <td>5500</td>\n",
              "      <td>Profit</td>\n",
              "      <td>Blue</td>\n",
              "    </tr>\n",
              "    <tr>\n",
              "      <th>5200</th>\n",
              "      <td>North</td>\n",
              "      <td>One</td>\n",
              "      <td>A</td>\n",
              "      <td>7500</td>\n",
              "      <td>Profit</td>\n",
              "      <td>Red</td>\n",
              "    </tr>\n",
              "    <tr>\n",
              "      <th>5300</th>\n",
              "      <td>South</td>\n",
              "      <td>Two</td>\n",
              "      <td>D</td>\n",
              "      <td>6400</td>\n",
              "      <td>Profit</td>\n",
              "      <td>Blue</td>\n",
              "    </tr>\n",
              "  </tbody>\n",
              "</table>\n",
              "</div>"
            ],
            "text/plain": [
              "     Region Team Squad  Revenue  Profit Team Color\n",
              "Cost                                              \n",
              "4400   East  One     C     2750    Loss        Red\n",
              "5100   West  Two     B     5500  Profit       Blue\n",
              "5200  North  One     A     7500  Profit        Red\n",
              "5300  South  Two     D     6400  Profit       Blue"
            ]
          },
          "metadata": {
            "tags": []
          },
          "execution_count": 259
        }
      ]
    },
    {
      "cell_type": "code",
      "metadata": {
        "colab": {
          "base_uri": "https://localhost:8080/",
          "height": 204
        },
        "id": "N1GoPZu-Q9QU",
        "outputId": "4c1995d3-0fef-4681-b940-a720e3920c2e"
      },
      "source": [
        "# Can you group the records on Revenue column with mean values?\n",
        "teams.groupby(['Revenue']).mean()"
      ],
      "execution_count": null,
      "outputs": [
        {
          "output_type": "execute_result",
          "data": {
            "text/html": [
              "<div>\n",
              "<style scoped>\n",
              "    .dataframe tbody tr th:only-of-type {\n",
              "        vertical-align: middle;\n",
              "    }\n",
              "\n",
              "    .dataframe tbody tr th {\n",
              "        vertical-align: top;\n",
              "    }\n",
              "\n",
              "    .dataframe thead th {\n",
              "        text-align: right;\n",
              "    }\n",
              "</style>\n",
              "<table border=\"1\" class=\"dataframe\">\n",
              "  <thead>\n",
              "    <tr style=\"text-align: right;\">\n",
              "      <th></th>\n",
              "      <th>Cost</th>\n",
              "    </tr>\n",
              "    <tr>\n",
              "      <th>Revenue</th>\n",
              "      <th></th>\n",
              "    </tr>\n",
              "  </thead>\n",
              "  <tbody>\n",
              "    <tr>\n",
              "      <th>2750</th>\n",
              "      <td>4400</td>\n",
              "    </tr>\n",
              "    <tr>\n",
              "      <th>5500</th>\n",
              "      <td>5100</td>\n",
              "    </tr>\n",
              "    <tr>\n",
              "      <th>6400</th>\n",
              "      <td>5300</td>\n",
              "    </tr>\n",
              "    <tr>\n",
              "      <th>7500</th>\n",
              "      <td>5200</td>\n",
              "    </tr>\n",
              "  </tbody>\n",
              "</table>\n",
              "</div>"
            ],
            "text/plain": [
              "         Cost\n",
              "Revenue      \n",
              "2750     4400\n",
              "5500     5100\n",
              "6400     5300\n",
              "7500     5200"
            ]
          },
          "metadata": {
            "tags": []
          },
          "execution_count": 260
        }
      ]
    },
    {
      "cell_type": "code",
      "metadata": {
        "colab": {
          "base_uri": "https://localhost:8080/",
          "height": 173
        },
        "id": "Exl0rvIfRQHg",
        "outputId": "73486474-f16a-445d-94b1-304ce45239e3"
      },
      "source": [
        "# Grouping on the basis of aggregates\n",
        "teams.groupby(['Team']).agg({'Revenue':['mean','min','max']})"
      ],
      "execution_count": null,
      "outputs": [
        {
          "output_type": "execute_result",
          "data": {
            "text/html": [
              "<div>\n",
              "<style scoped>\n",
              "    .dataframe tbody tr th:only-of-type {\n",
              "        vertical-align: middle;\n",
              "    }\n",
              "\n",
              "    .dataframe tbody tr th {\n",
              "        vertical-align: top;\n",
              "    }\n",
              "\n",
              "    .dataframe thead tr th {\n",
              "        text-align: left;\n",
              "    }\n",
              "\n",
              "    .dataframe thead tr:last-of-type th {\n",
              "        text-align: right;\n",
              "    }\n",
              "</style>\n",
              "<table border=\"1\" class=\"dataframe\">\n",
              "  <thead>\n",
              "    <tr>\n",
              "      <th></th>\n",
              "      <th colspan=\"3\" halign=\"left\">Revenue</th>\n",
              "    </tr>\n",
              "    <tr>\n",
              "      <th></th>\n",
              "      <th>mean</th>\n",
              "      <th>min</th>\n",
              "      <th>max</th>\n",
              "    </tr>\n",
              "    <tr>\n",
              "      <th>Team</th>\n",
              "      <th></th>\n",
              "      <th></th>\n",
              "      <th></th>\n",
              "    </tr>\n",
              "  </thead>\n",
              "  <tbody>\n",
              "    <tr>\n",
              "      <th>One</th>\n",
              "      <td>5125</td>\n",
              "      <td>2750</td>\n",
              "      <td>7500</td>\n",
              "    </tr>\n",
              "    <tr>\n",
              "      <th>Two</th>\n",
              "      <td>5950</td>\n",
              "      <td>5500</td>\n",
              "      <td>6400</td>\n",
              "    </tr>\n",
              "  </tbody>\n",
              "</table>\n",
              "</div>"
            ],
            "text/plain": [
              "     Revenue            \n",
              "        mean   min   max\n",
              "Team                    \n",
              "One     5125  2750  7500\n",
              "Two     5950  5500  6400"
            ]
          },
          "metadata": {
            "tags": []
          },
          "execution_count": 261
        }
      ]
    },
    {
      "cell_type": "code",
      "metadata": {
        "colab": {
          "base_uri": "https://localhost:8080/",
          "height": 173
        },
        "id": "AW68QkQMRh2w",
        "outputId": "22a87c2e-8800-4dd0-d9c3-9731f881be14"
      },
      "source": [
        "# Copy-paste the copy from earlier to redefine teams dataframe, and display it\n",
        "teams = pd.DataFrame({\"Region\":['North','West','East','South'],\n",
        "          \"Team\":['One','Two','three','Two'],\n",
        "          \"Squad\":['A','B','C','D'],\n",
        "          \"Revenue\":[7500,5500,2750,6400],\n",
        "            \"Cost\":[5200,5100,4400,5300]})\n",
        "\n",
        "display (teams)"
      ],
      "execution_count": null,
      "outputs": [
        {
          "output_type": "display_data",
          "data": {
            "text/html": [
              "<div>\n",
              "<style scoped>\n",
              "    .dataframe tbody tr th:only-of-type {\n",
              "        vertical-align: middle;\n",
              "    }\n",
              "\n",
              "    .dataframe tbody tr th {\n",
              "        vertical-align: top;\n",
              "    }\n",
              "\n",
              "    .dataframe thead th {\n",
              "        text-align: right;\n",
              "    }\n",
              "</style>\n",
              "<table border=\"1\" class=\"dataframe\">\n",
              "  <thead>\n",
              "    <tr style=\"text-align: right;\">\n",
              "      <th></th>\n",
              "      <th>Region</th>\n",
              "      <th>Team</th>\n",
              "      <th>Squad</th>\n",
              "      <th>Revenue</th>\n",
              "      <th>Cost</th>\n",
              "    </tr>\n",
              "  </thead>\n",
              "  <tbody>\n",
              "    <tr>\n",
              "      <th>0</th>\n",
              "      <td>North</td>\n",
              "      <td>One</td>\n",
              "      <td>A</td>\n",
              "      <td>7500</td>\n",
              "      <td>5200</td>\n",
              "    </tr>\n",
              "    <tr>\n",
              "      <th>1</th>\n",
              "      <td>West</td>\n",
              "      <td>Two</td>\n",
              "      <td>B</td>\n",
              "      <td>5500</td>\n",
              "      <td>5100</td>\n",
              "    </tr>\n",
              "    <tr>\n",
              "      <th>2</th>\n",
              "      <td>East</td>\n",
              "      <td>three</td>\n",
              "      <td>C</td>\n",
              "      <td>2750</td>\n",
              "      <td>4400</td>\n",
              "    </tr>\n",
              "    <tr>\n",
              "      <th>3</th>\n",
              "      <td>South</td>\n",
              "      <td>Two</td>\n",
              "      <td>D</td>\n",
              "      <td>6400</td>\n",
              "      <td>5300</td>\n",
              "    </tr>\n",
              "  </tbody>\n",
              "</table>\n",
              "</div>"
            ],
            "text/plain": [
              "  Region   Team Squad  Revenue  Cost\n",
              "0  North    One     A     7500  5200\n",
              "1   West    Two     B     5500  5100\n",
              "2   East  three     C     2750  4400\n",
              "3  South    Two     D     6400  5300"
            ]
          },
          "metadata": {
            "tags": []
          }
        }
      ]
    },
    {
      "cell_type": "code",
      "metadata": {
        "colab": {
          "base_uri": "https://localhost:8080/",
          "height": 377
        },
        "id": "ZBzN-K61SBqj",
        "outputId": "7fff32eb-27b1-45f5-9f0e-33166cafc2f0"
      },
      "source": [
        "# Setting two columns as index when a single column has not unique values.\n",
        "\n",
        "teams_reindex = teams.set_index(['Region','Team'])  # 2 indices. useful when values are not unique\n",
        "display(teams)\n",
        "\n",
        "print()    # TO print blank/new line.\n",
        "\n",
        "\n",
        "display(teams_reindex)"
      ],
      "execution_count": null,
      "outputs": [
        {
          "output_type": "display_data",
          "data": {
            "text/html": [
              "<div>\n",
              "<style scoped>\n",
              "    .dataframe tbody tr th:only-of-type {\n",
              "        vertical-align: middle;\n",
              "    }\n",
              "\n",
              "    .dataframe tbody tr th {\n",
              "        vertical-align: top;\n",
              "    }\n",
              "\n",
              "    .dataframe thead th {\n",
              "        text-align: right;\n",
              "    }\n",
              "</style>\n",
              "<table border=\"1\" class=\"dataframe\">\n",
              "  <thead>\n",
              "    <tr style=\"text-align: right;\">\n",
              "      <th></th>\n",
              "      <th>Region</th>\n",
              "      <th>Team</th>\n",
              "      <th>Squad</th>\n",
              "      <th>Revenue</th>\n",
              "      <th>Cost</th>\n",
              "    </tr>\n",
              "  </thead>\n",
              "  <tbody>\n",
              "    <tr>\n",
              "      <th>0</th>\n",
              "      <td>North</td>\n",
              "      <td>One</td>\n",
              "      <td>A</td>\n",
              "      <td>7500</td>\n",
              "      <td>5200</td>\n",
              "    </tr>\n",
              "    <tr>\n",
              "      <th>1</th>\n",
              "      <td>West</td>\n",
              "      <td>Two</td>\n",
              "      <td>B</td>\n",
              "      <td>5500</td>\n",
              "      <td>5100</td>\n",
              "    </tr>\n",
              "    <tr>\n",
              "      <th>2</th>\n",
              "      <td>East</td>\n",
              "      <td>three</td>\n",
              "      <td>C</td>\n",
              "      <td>2750</td>\n",
              "      <td>4400</td>\n",
              "    </tr>\n",
              "    <tr>\n",
              "      <th>3</th>\n",
              "      <td>South</td>\n",
              "      <td>Two</td>\n",
              "      <td>D</td>\n",
              "      <td>6400</td>\n",
              "      <td>5300</td>\n",
              "    </tr>\n",
              "  </tbody>\n",
              "</table>\n",
              "</div>"
            ],
            "text/plain": [
              "  Region   Team Squad  Revenue  Cost\n",
              "0  North    One     A     7500  5200\n",
              "1   West    Two     B     5500  5100\n",
              "2   East  three     C     2750  4400\n",
              "3  South    Two     D     6400  5300"
            ]
          },
          "metadata": {
            "tags": []
          }
        },
        {
          "output_type": "stream",
          "text": [
            "\n"
          ],
          "name": "stdout"
        },
        {
          "output_type": "display_data",
          "data": {
            "text/html": [
              "<div>\n",
              "<style scoped>\n",
              "    .dataframe tbody tr th:only-of-type {\n",
              "        vertical-align: middle;\n",
              "    }\n",
              "\n",
              "    .dataframe tbody tr th {\n",
              "        vertical-align: top;\n",
              "    }\n",
              "\n",
              "    .dataframe thead th {\n",
              "        text-align: right;\n",
              "    }\n",
              "</style>\n",
              "<table border=\"1\" class=\"dataframe\">\n",
              "  <thead>\n",
              "    <tr style=\"text-align: right;\">\n",
              "      <th></th>\n",
              "      <th></th>\n",
              "      <th>Squad</th>\n",
              "      <th>Revenue</th>\n",
              "      <th>Cost</th>\n",
              "    </tr>\n",
              "    <tr>\n",
              "      <th>Region</th>\n",
              "      <th>Team</th>\n",
              "      <th></th>\n",
              "      <th></th>\n",
              "      <th></th>\n",
              "    </tr>\n",
              "  </thead>\n",
              "  <tbody>\n",
              "    <tr>\n",
              "      <th>North</th>\n",
              "      <th>One</th>\n",
              "      <td>A</td>\n",
              "      <td>7500</td>\n",
              "      <td>5200</td>\n",
              "    </tr>\n",
              "    <tr>\n",
              "      <th>West</th>\n",
              "      <th>Two</th>\n",
              "      <td>B</td>\n",
              "      <td>5500</td>\n",
              "      <td>5100</td>\n",
              "    </tr>\n",
              "    <tr>\n",
              "      <th>East</th>\n",
              "      <th>three</th>\n",
              "      <td>C</td>\n",
              "      <td>2750</td>\n",
              "      <td>4400</td>\n",
              "    </tr>\n",
              "    <tr>\n",
              "      <th>South</th>\n",
              "      <th>Two</th>\n",
              "      <td>D</td>\n",
              "      <td>6400</td>\n",
              "      <td>5300</td>\n",
              "    </tr>\n",
              "  </tbody>\n",
              "</table>\n",
              "</div>"
            ],
            "text/plain": [
              "             Squad  Revenue  Cost\n",
              "Region Team                      \n",
              "North  One       A     7500  5200\n",
              "West   Two       B     5500  5100\n",
              "East   three     C     2750  4400\n",
              "South  Two       D     6400  5300"
            ]
          },
          "metadata": {
            "tags": []
          }
        }
      ]
    },
    {
      "cell_type": "code",
      "metadata": {
        "colab": {
          "base_uri": "https://localhost:8080/",
          "height": 452
        },
        "id": "t8W1HeyFSQNW",
        "outputId": "32d747a7-1cd7-4569-a32c-d1dc665e6ba6"
      },
      "source": [
        "# Restructuring the dataframe based the multiple indices\n",
        "stacked = pd.DataFrame(teams_reindex.stack())\n",
        "stacked"
      ],
      "execution_count": null,
      "outputs": [
        {
          "output_type": "execute_result",
          "data": {
            "text/html": [
              "<div>\n",
              "<style scoped>\n",
              "    .dataframe tbody tr th:only-of-type {\n",
              "        vertical-align: middle;\n",
              "    }\n",
              "\n",
              "    .dataframe tbody tr th {\n",
              "        vertical-align: top;\n",
              "    }\n",
              "\n",
              "    .dataframe thead th {\n",
              "        text-align: right;\n",
              "    }\n",
              "</style>\n",
              "<table border=\"1\" class=\"dataframe\">\n",
              "  <thead>\n",
              "    <tr style=\"text-align: right;\">\n",
              "      <th></th>\n",
              "      <th></th>\n",
              "      <th></th>\n",
              "      <th>0</th>\n",
              "    </tr>\n",
              "    <tr>\n",
              "      <th>Region</th>\n",
              "      <th>Team</th>\n",
              "      <th></th>\n",
              "      <th></th>\n",
              "    </tr>\n",
              "  </thead>\n",
              "  <tbody>\n",
              "    <tr>\n",
              "      <th rowspan=\"3\" valign=\"top\">North</th>\n",
              "      <th rowspan=\"3\" valign=\"top\">One</th>\n",
              "      <th>Squad</th>\n",
              "      <td>A</td>\n",
              "    </tr>\n",
              "    <tr>\n",
              "      <th>Revenue</th>\n",
              "      <td>7500</td>\n",
              "    </tr>\n",
              "    <tr>\n",
              "      <th>Cost</th>\n",
              "      <td>5200</td>\n",
              "    </tr>\n",
              "    <tr>\n",
              "      <th rowspan=\"3\" valign=\"top\">West</th>\n",
              "      <th rowspan=\"3\" valign=\"top\">Two</th>\n",
              "      <th>Squad</th>\n",
              "      <td>B</td>\n",
              "    </tr>\n",
              "    <tr>\n",
              "      <th>Revenue</th>\n",
              "      <td>5500</td>\n",
              "    </tr>\n",
              "    <tr>\n",
              "      <th>Cost</th>\n",
              "      <td>5100</td>\n",
              "    </tr>\n",
              "    <tr>\n",
              "      <th rowspan=\"3\" valign=\"top\">East</th>\n",
              "      <th rowspan=\"3\" valign=\"top\">three</th>\n",
              "      <th>Squad</th>\n",
              "      <td>C</td>\n",
              "    </tr>\n",
              "    <tr>\n",
              "      <th>Revenue</th>\n",
              "      <td>2750</td>\n",
              "    </tr>\n",
              "    <tr>\n",
              "      <th>Cost</th>\n",
              "      <td>4400</td>\n",
              "    </tr>\n",
              "    <tr>\n",
              "      <th rowspan=\"3\" valign=\"top\">South</th>\n",
              "      <th rowspan=\"3\" valign=\"top\">Two</th>\n",
              "      <th>Squad</th>\n",
              "      <td>D</td>\n",
              "    </tr>\n",
              "    <tr>\n",
              "      <th>Revenue</th>\n",
              "      <td>6400</td>\n",
              "    </tr>\n",
              "    <tr>\n",
              "      <th>Cost</th>\n",
              "      <td>5300</td>\n",
              "    </tr>\n",
              "  </tbody>\n",
              "</table>\n",
              "</div>"
            ],
            "text/plain": [
              "                         0\n",
              "Region Team               \n",
              "North  One   Squad       A\n",
              "             Revenue  7500\n",
              "             Cost     5200\n",
              "West   Two   Squad       B\n",
              "             Revenue  5500\n",
              "             Cost     5100\n",
              "East   three Squad       C\n",
              "             Revenue  2750\n",
              "             Cost     4400\n",
              "South  Two   Squad       D\n",
              "             Revenue  6400\n",
              "             Cost     5300"
            ]
          },
          "metadata": {
            "tags": []
          },
          "execution_count": 264
        }
      ]
    },
    {
      "cell_type": "markdown",
      "metadata": {
        "id": "H1gZI2-tShgk"
      },
      "source": [
        "# Mergining dataframes"
      ]
    },
    {
      "cell_type": "code",
      "metadata": {
        "colab": {
          "base_uri": "https://localhost:8080/"
        },
        "id": "1x0TwUHjSjky",
        "outputId": "1ed66ea3-826f-452c-8a7d-64d910507125"
      },
      "source": [
        "# Defining two new dataframes\n",
        "group1 = pd.DataFrame({'name': ['Alice', 'Bob', 'Charlie', 'David'],\n",
        "                    'number': [1, 2, 3, 4]})\n",
        "group2 = pd.DataFrame({'name': ['Charlie', 'David', 'Edward', 'Ford'],\n",
        "                    'number': [3, 4, 5, 6]})\n",
        "print(group1,group2)"
      ],
      "execution_count": null,
      "outputs": [
        {
          "output_type": "stream",
          "text": [
            "      name  number\n",
            "0    Alice       1\n",
            "1      Bob       2\n",
            "2  Charlie       3\n",
            "3    David       4       name  number\n",
            "0  Charlie       3\n",
            "1    David       4\n",
            "2   Edward       5\n",
            "3     Ford       6\n"
          ],
          "name": "stdout"
        }
      ]
    },
    {
      "cell_type": "code",
      "metadata": {
        "colab": {
          "base_uri": "https://localhost:8080/",
          "height": 173
        },
        "id": "8UZTWigNX6dz",
        "outputId": "ce47c58e-e406-4f41-b606-1ad463606d06"
      },
      "source": [
        "group1.merge(group2,how='left', on='number')   # Left - all from 1st table and only common from 2nd table.\n",
        "\n",
        "# Notice the NAN or empty values."
      ],
      "execution_count": null,
      "outputs": [
        {
          "output_type": "execute_result",
          "data": {
            "text/html": [
              "<div>\n",
              "<style scoped>\n",
              "    .dataframe tbody tr th:only-of-type {\n",
              "        vertical-align: middle;\n",
              "    }\n",
              "\n",
              "    .dataframe tbody tr th {\n",
              "        vertical-align: top;\n",
              "    }\n",
              "\n",
              "    .dataframe thead th {\n",
              "        text-align: right;\n",
              "    }\n",
              "</style>\n",
              "<table border=\"1\" class=\"dataframe\">\n",
              "  <thead>\n",
              "    <tr style=\"text-align: right;\">\n",
              "      <th></th>\n",
              "      <th>name_x</th>\n",
              "      <th>number</th>\n",
              "      <th>name_y</th>\n",
              "    </tr>\n",
              "  </thead>\n",
              "  <tbody>\n",
              "    <tr>\n",
              "      <th>0</th>\n",
              "      <td>Alice</td>\n",
              "      <td>1</td>\n",
              "      <td>NaN</td>\n",
              "    </tr>\n",
              "    <tr>\n",
              "      <th>1</th>\n",
              "      <td>Bob</td>\n",
              "      <td>2</td>\n",
              "      <td>NaN</td>\n",
              "    </tr>\n",
              "    <tr>\n",
              "      <th>2</th>\n",
              "      <td>Charlie</td>\n",
              "      <td>3</td>\n",
              "      <td>Charlie</td>\n",
              "    </tr>\n",
              "    <tr>\n",
              "      <th>3</th>\n",
              "      <td>David</td>\n",
              "      <td>4</td>\n",
              "      <td>David</td>\n",
              "    </tr>\n",
              "  </tbody>\n",
              "</table>\n",
              "</div>"
            ],
            "text/plain": [
              "    name_x  number   name_y\n",
              "0    Alice       1      NaN\n",
              "1      Bob       2      NaN\n",
              "2  Charlie       3  Charlie\n",
              "3    David       4    David"
            ]
          },
          "metadata": {
            "tags": []
          },
          "execution_count": 266
        }
      ]
    },
    {
      "cell_type": "code",
      "metadata": {
        "colab": {
          "base_uri": "https://localhost:8080/",
          "height": 111
        },
        "id": "NdQ3iySQYpi1",
        "outputId": "f6031d0b-032f-4739-cdee-b8ee35a8e10a"
      },
      "source": [
        "group1.merge(group2)   # Shows only the common records."
      ],
      "execution_count": null,
      "outputs": [
        {
          "output_type": "execute_result",
          "data": {
            "text/html": [
              "<div>\n",
              "<style scoped>\n",
              "    .dataframe tbody tr th:only-of-type {\n",
              "        vertical-align: middle;\n",
              "    }\n",
              "\n",
              "    .dataframe tbody tr th {\n",
              "        vertical-align: top;\n",
              "    }\n",
              "\n",
              "    .dataframe thead th {\n",
              "        text-align: right;\n",
              "    }\n",
              "</style>\n",
              "<table border=\"1\" class=\"dataframe\">\n",
              "  <thead>\n",
              "    <tr style=\"text-align: right;\">\n",
              "      <th></th>\n",
              "      <th>name</th>\n",
              "      <th>number</th>\n",
              "    </tr>\n",
              "  </thead>\n",
              "  <tbody>\n",
              "    <tr>\n",
              "      <th>0</th>\n",
              "      <td>Charlie</td>\n",
              "      <td>3</td>\n",
              "    </tr>\n",
              "    <tr>\n",
              "      <th>1</th>\n",
              "      <td>David</td>\n",
              "      <td>4</td>\n",
              "    </tr>\n",
              "  </tbody>\n",
              "</table>\n",
              "</div>"
            ],
            "text/plain": [
              "      name  number\n",
              "0  Charlie       3\n",
              "1    David       4"
            ]
          },
          "metadata": {
            "tags": []
          },
          "execution_count": 267
        }
      ]
    },
    {
      "cell_type": "code",
      "metadata": {
        "colab": {
          "base_uri": "https://localhost:8080/",
          "height": 111
        },
        "id": "RazMphUAYy0u",
        "outputId": "4846f08a-7a5b-46cc-ee31-6650c7c2a0c7"
      },
      "source": [
        "group1.merge(group2,how='inner',left_on='number',right_on='number')  # Inner - Shows only the common records\n",
        "\n",
        "# Why there are no null values now in the output? Answer as a comment."
      ],
      "execution_count": null,
      "outputs": [
        {
          "output_type": "execute_result",
          "data": {
            "text/html": [
              "<div>\n",
              "<style scoped>\n",
              "    .dataframe tbody tr th:only-of-type {\n",
              "        vertical-align: middle;\n",
              "    }\n",
              "\n",
              "    .dataframe tbody tr th {\n",
              "        vertical-align: top;\n",
              "    }\n",
              "\n",
              "    .dataframe thead th {\n",
              "        text-align: right;\n",
              "    }\n",
              "</style>\n",
              "<table border=\"1\" class=\"dataframe\">\n",
              "  <thead>\n",
              "    <tr style=\"text-align: right;\">\n",
              "      <th></th>\n",
              "      <th>name_x</th>\n",
              "      <th>number</th>\n",
              "      <th>name_y</th>\n",
              "    </tr>\n",
              "  </thead>\n",
              "  <tbody>\n",
              "    <tr>\n",
              "      <th>0</th>\n",
              "      <td>Charlie</td>\n",
              "      <td>3</td>\n",
              "      <td>Charlie</td>\n",
              "    </tr>\n",
              "    <tr>\n",
              "      <th>1</th>\n",
              "      <td>David</td>\n",
              "      <td>4</td>\n",
              "      <td>David</td>\n",
              "    </tr>\n",
              "  </tbody>\n",
              "</table>\n",
              "</div>"
            ],
            "text/plain": [
              "    name_x  number   name_y\n",
              "0  Charlie       3  Charlie\n",
              "1    David       4    David"
            ]
          },
          "metadata": {
            "tags": []
          },
          "execution_count": 268
        }
      ]
    },
    {
      "cell_type": "code",
      "metadata": {
        "colab": {
          "base_uri": "https://localhost:8080/",
          "height": 173
        },
        "id": "hfM5lesxZAww",
        "outputId": "8cb28edd-009a-4259-c91b-8096dbc3a744"
      },
      "source": [
        "group1.merge(group2,how='right',left_on='number',right_on='number')  # Right - All from 2nd table, common from 1st table."
      ],
      "execution_count": null,
      "outputs": [
        {
          "output_type": "execute_result",
          "data": {
            "text/html": [
              "<div>\n",
              "<style scoped>\n",
              "    .dataframe tbody tr th:only-of-type {\n",
              "        vertical-align: middle;\n",
              "    }\n",
              "\n",
              "    .dataframe tbody tr th {\n",
              "        vertical-align: top;\n",
              "    }\n",
              "\n",
              "    .dataframe thead th {\n",
              "        text-align: right;\n",
              "    }\n",
              "</style>\n",
              "<table border=\"1\" class=\"dataframe\">\n",
              "  <thead>\n",
              "    <tr style=\"text-align: right;\">\n",
              "      <th></th>\n",
              "      <th>name_x</th>\n",
              "      <th>number</th>\n",
              "      <th>name_y</th>\n",
              "    </tr>\n",
              "  </thead>\n",
              "  <tbody>\n",
              "    <tr>\n",
              "      <th>0</th>\n",
              "      <td>Charlie</td>\n",
              "      <td>3</td>\n",
              "      <td>Charlie</td>\n",
              "    </tr>\n",
              "    <tr>\n",
              "      <th>1</th>\n",
              "      <td>David</td>\n",
              "      <td>4</td>\n",
              "      <td>David</td>\n",
              "    </tr>\n",
              "    <tr>\n",
              "      <th>2</th>\n",
              "      <td>NaN</td>\n",
              "      <td>5</td>\n",
              "      <td>Edward</td>\n",
              "    </tr>\n",
              "    <tr>\n",
              "      <th>3</th>\n",
              "      <td>NaN</td>\n",
              "      <td>6</td>\n",
              "      <td>Ford</td>\n",
              "    </tr>\n",
              "  </tbody>\n",
              "</table>\n",
              "</div>"
            ],
            "text/plain": [
              "    name_x  number   name_y\n",
              "0  Charlie       3  Charlie\n",
              "1    David       4    David\n",
              "2      NaN       5   Edward\n",
              "3      NaN       6     Ford"
            ]
          },
          "metadata": {
            "tags": []
          },
          "execution_count": 269
        }
      ]
    },
    {
      "cell_type": "markdown",
      "metadata": {
        "id": "ggWTRLW-SFQc"
      },
      "source": [
        "# Matplotlib library in Python"
      ]
    },
    {
      "cell_type": "code",
      "metadata": {
        "colab": {
          "base_uri": "https://localhost:8080/",
          "height": 1000
        },
        "id": "VOEnuGqdSJN8",
        "outputId": "e2df4679-c698-4651-c1ae-d9f889018386"
      },
      "source": [
        "mtcars = pd.read_csv(\"/content/mtcars.csv\")\n",
        "display(mtcars)"
      ],
      "execution_count": null,
      "outputs": [
        {
          "output_type": "display_data",
          "data": {
            "text/html": [
              "<div>\n",
              "<style scoped>\n",
              "    .dataframe tbody tr th:only-of-type {\n",
              "        vertical-align: middle;\n",
              "    }\n",
              "\n",
              "    .dataframe tbody tr th {\n",
              "        vertical-align: top;\n",
              "    }\n",
              "\n",
              "    .dataframe thead th {\n",
              "        text-align: right;\n",
              "    }\n",
              "</style>\n",
              "<table border=\"1\" class=\"dataframe\">\n",
              "  <thead>\n",
              "    <tr style=\"text-align: right;\">\n",
              "      <th></th>\n",
              "      <th>car_names</th>\n",
              "      <th>mpg</th>\n",
              "      <th>cyl</th>\n",
              "      <th>disp</th>\n",
              "      <th>hp</th>\n",
              "      <th>drat</th>\n",
              "      <th>wt</th>\n",
              "      <th>qsec</th>\n",
              "      <th>vs</th>\n",
              "      <th>am</th>\n",
              "      <th>gear</th>\n",
              "      <th>carb</th>\n",
              "    </tr>\n",
              "  </thead>\n",
              "  <tbody>\n",
              "    <tr>\n",
              "      <th>0</th>\n",
              "      <td>Mazda RX4</td>\n",
              "      <td>21.0</td>\n",
              "      <td>6</td>\n",
              "      <td>160.0</td>\n",
              "      <td>110</td>\n",
              "      <td>3.90</td>\n",
              "      <td>2.620</td>\n",
              "      <td>16.46</td>\n",
              "      <td>0</td>\n",
              "      <td>1</td>\n",
              "      <td>4</td>\n",
              "      <td>4</td>\n",
              "    </tr>\n",
              "    <tr>\n",
              "      <th>1</th>\n",
              "      <td>Mazda RX4 Wag</td>\n",
              "      <td>21.0</td>\n",
              "      <td>6</td>\n",
              "      <td>160.0</td>\n",
              "      <td>110</td>\n",
              "      <td>3.90</td>\n",
              "      <td>2.875</td>\n",
              "      <td>17.02</td>\n",
              "      <td>0</td>\n",
              "      <td>1</td>\n",
              "      <td>4</td>\n",
              "      <td>4</td>\n",
              "    </tr>\n",
              "    <tr>\n",
              "      <th>2</th>\n",
              "      <td>Datsun 710</td>\n",
              "      <td>22.8</td>\n",
              "      <td>4</td>\n",
              "      <td>108.0</td>\n",
              "      <td>93</td>\n",
              "      <td>3.85</td>\n",
              "      <td>2.320</td>\n",
              "      <td>18.61</td>\n",
              "      <td>1</td>\n",
              "      <td>1</td>\n",
              "      <td>4</td>\n",
              "      <td>1</td>\n",
              "    </tr>\n",
              "    <tr>\n",
              "      <th>3</th>\n",
              "      <td>Hornet 4 Drive</td>\n",
              "      <td>21.4</td>\n",
              "      <td>6</td>\n",
              "      <td>258.0</td>\n",
              "      <td>110</td>\n",
              "      <td>3.08</td>\n",
              "      <td>3.215</td>\n",
              "      <td>19.44</td>\n",
              "      <td>1</td>\n",
              "      <td>0</td>\n",
              "      <td>3</td>\n",
              "      <td>1</td>\n",
              "    </tr>\n",
              "    <tr>\n",
              "      <th>4</th>\n",
              "      <td>Hornet Sportabout</td>\n",
              "      <td>18.7</td>\n",
              "      <td>8</td>\n",
              "      <td>360.0</td>\n",
              "      <td>175</td>\n",
              "      <td>3.15</td>\n",
              "      <td>3.440</td>\n",
              "      <td>17.02</td>\n",
              "      <td>0</td>\n",
              "      <td>0</td>\n",
              "      <td>3</td>\n",
              "      <td>2</td>\n",
              "    </tr>\n",
              "    <tr>\n",
              "      <th>5</th>\n",
              "      <td>Valiant</td>\n",
              "      <td>18.1</td>\n",
              "      <td>6</td>\n",
              "      <td>225.0</td>\n",
              "      <td>105</td>\n",
              "      <td>2.76</td>\n",
              "      <td>3.460</td>\n",
              "      <td>20.22</td>\n",
              "      <td>1</td>\n",
              "      <td>0</td>\n",
              "      <td>3</td>\n",
              "      <td>1</td>\n",
              "    </tr>\n",
              "    <tr>\n",
              "      <th>6</th>\n",
              "      <td>Duster 360</td>\n",
              "      <td>14.3</td>\n",
              "      <td>8</td>\n",
              "      <td>360.0</td>\n",
              "      <td>245</td>\n",
              "      <td>3.21</td>\n",
              "      <td>3.570</td>\n",
              "      <td>15.84</td>\n",
              "      <td>0</td>\n",
              "      <td>0</td>\n",
              "      <td>3</td>\n",
              "      <td>4</td>\n",
              "    </tr>\n",
              "    <tr>\n",
              "      <th>7</th>\n",
              "      <td>Merc 240D</td>\n",
              "      <td>24.4</td>\n",
              "      <td>4</td>\n",
              "      <td>146.7</td>\n",
              "      <td>62</td>\n",
              "      <td>3.69</td>\n",
              "      <td>3.190</td>\n",
              "      <td>20.00</td>\n",
              "      <td>1</td>\n",
              "      <td>0</td>\n",
              "      <td>4</td>\n",
              "      <td>2</td>\n",
              "    </tr>\n",
              "    <tr>\n",
              "      <th>8</th>\n",
              "      <td>Merc 230</td>\n",
              "      <td>22.8</td>\n",
              "      <td>4</td>\n",
              "      <td>140.8</td>\n",
              "      <td>95</td>\n",
              "      <td>3.92</td>\n",
              "      <td>3.150</td>\n",
              "      <td>22.90</td>\n",
              "      <td>1</td>\n",
              "      <td>0</td>\n",
              "      <td>4</td>\n",
              "      <td>2</td>\n",
              "    </tr>\n",
              "    <tr>\n",
              "      <th>9</th>\n",
              "      <td>Merc 280</td>\n",
              "      <td>19.2</td>\n",
              "      <td>6</td>\n",
              "      <td>167.6</td>\n",
              "      <td>123</td>\n",
              "      <td>3.92</td>\n",
              "      <td>3.440</td>\n",
              "      <td>18.30</td>\n",
              "      <td>1</td>\n",
              "      <td>0</td>\n",
              "      <td>4</td>\n",
              "      <td>4</td>\n",
              "    </tr>\n",
              "    <tr>\n",
              "      <th>10</th>\n",
              "      <td>Merc 280C</td>\n",
              "      <td>17.8</td>\n",
              "      <td>6</td>\n",
              "      <td>167.6</td>\n",
              "      <td>123</td>\n",
              "      <td>3.92</td>\n",
              "      <td>3.440</td>\n",
              "      <td>18.90</td>\n",
              "      <td>1</td>\n",
              "      <td>0</td>\n",
              "      <td>4</td>\n",
              "      <td>4</td>\n",
              "    </tr>\n",
              "    <tr>\n",
              "      <th>11</th>\n",
              "      <td>Merc 450SE</td>\n",
              "      <td>16.4</td>\n",
              "      <td>8</td>\n",
              "      <td>275.8</td>\n",
              "      <td>180</td>\n",
              "      <td>3.07</td>\n",
              "      <td>4.070</td>\n",
              "      <td>17.40</td>\n",
              "      <td>0</td>\n",
              "      <td>0</td>\n",
              "      <td>3</td>\n",
              "      <td>3</td>\n",
              "    </tr>\n",
              "    <tr>\n",
              "      <th>12</th>\n",
              "      <td>Merc 450SL</td>\n",
              "      <td>17.3</td>\n",
              "      <td>8</td>\n",
              "      <td>275.8</td>\n",
              "      <td>180</td>\n",
              "      <td>3.07</td>\n",
              "      <td>3.730</td>\n",
              "      <td>17.60</td>\n",
              "      <td>0</td>\n",
              "      <td>0</td>\n",
              "      <td>3</td>\n",
              "      <td>3</td>\n",
              "    </tr>\n",
              "    <tr>\n",
              "      <th>13</th>\n",
              "      <td>Merc 450SLC</td>\n",
              "      <td>15.2</td>\n",
              "      <td>8</td>\n",
              "      <td>275.8</td>\n",
              "      <td>180</td>\n",
              "      <td>3.07</td>\n",
              "      <td>3.780</td>\n",
              "      <td>18.00</td>\n",
              "      <td>0</td>\n",
              "      <td>0</td>\n",
              "      <td>3</td>\n",
              "      <td>3</td>\n",
              "    </tr>\n",
              "    <tr>\n",
              "      <th>14</th>\n",
              "      <td>Cadillac Fleetwood</td>\n",
              "      <td>10.4</td>\n",
              "      <td>8</td>\n",
              "      <td>472.0</td>\n",
              "      <td>205</td>\n",
              "      <td>2.93</td>\n",
              "      <td>5.250</td>\n",
              "      <td>17.98</td>\n",
              "      <td>0</td>\n",
              "      <td>0</td>\n",
              "      <td>3</td>\n",
              "      <td>4</td>\n",
              "    </tr>\n",
              "    <tr>\n",
              "      <th>15</th>\n",
              "      <td>Lincoln Continental</td>\n",
              "      <td>10.4</td>\n",
              "      <td>8</td>\n",
              "      <td>460.0</td>\n",
              "      <td>215</td>\n",
              "      <td>3.00</td>\n",
              "      <td>5.424</td>\n",
              "      <td>17.82</td>\n",
              "      <td>0</td>\n",
              "      <td>0</td>\n",
              "      <td>3</td>\n",
              "      <td>4</td>\n",
              "    </tr>\n",
              "    <tr>\n",
              "      <th>16</th>\n",
              "      <td>Chrysler Imperial</td>\n",
              "      <td>14.7</td>\n",
              "      <td>8</td>\n",
              "      <td>440.0</td>\n",
              "      <td>230</td>\n",
              "      <td>3.23</td>\n",
              "      <td>5.345</td>\n",
              "      <td>17.42</td>\n",
              "      <td>0</td>\n",
              "      <td>0</td>\n",
              "      <td>3</td>\n",
              "      <td>4</td>\n",
              "    </tr>\n",
              "    <tr>\n",
              "      <th>17</th>\n",
              "      <td>Fiat 128</td>\n",
              "      <td>32.4</td>\n",
              "      <td>4</td>\n",
              "      <td>78.7</td>\n",
              "      <td>66</td>\n",
              "      <td>4.08</td>\n",
              "      <td>2.200</td>\n",
              "      <td>19.47</td>\n",
              "      <td>1</td>\n",
              "      <td>1</td>\n",
              "      <td>4</td>\n",
              "      <td>1</td>\n",
              "    </tr>\n",
              "    <tr>\n",
              "      <th>18</th>\n",
              "      <td>Honda Civic</td>\n",
              "      <td>30.4</td>\n",
              "      <td>4</td>\n",
              "      <td>75.7</td>\n",
              "      <td>52</td>\n",
              "      <td>4.93</td>\n",
              "      <td>1.615</td>\n",
              "      <td>18.52</td>\n",
              "      <td>1</td>\n",
              "      <td>1</td>\n",
              "      <td>4</td>\n",
              "      <td>2</td>\n",
              "    </tr>\n",
              "    <tr>\n",
              "      <th>19</th>\n",
              "      <td>Toyota Corolla</td>\n",
              "      <td>33.9</td>\n",
              "      <td>4</td>\n",
              "      <td>71.1</td>\n",
              "      <td>65</td>\n",
              "      <td>4.22</td>\n",
              "      <td>1.835</td>\n",
              "      <td>19.90</td>\n",
              "      <td>1</td>\n",
              "      <td>1</td>\n",
              "      <td>4</td>\n",
              "      <td>1</td>\n",
              "    </tr>\n",
              "    <tr>\n",
              "      <th>20</th>\n",
              "      <td>Toyota Corona</td>\n",
              "      <td>21.5</td>\n",
              "      <td>4</td>\n",
              "      <td>120.1</td>\n",
              "      <td>97</td>\n",
              "      <td>3.70</td>\n",
              "      <td>2.465</td>\n",
              "      <td>20.01</td>\n",
              "      <td>1</td>\n",
              "      <td>0</td>\n",
              "      <td>3</td>\n",
              "      <td>1</td>\n",
              "    </tr>\n",
              "    <tr>\n",
              "      <th>21</th>\n",
              "      <td>Dodge Challenger</td>\n",
              "      <td>15.5</td>\n",
              "      <td>8</td>\n",
              "      <td>318.0</td>\n",
              "      <td>150</td>\n",
              "      <td>2.76</td>\n",
              "      <td>3.520</td>\n",
              "      <td>16.87</td>\n",
              "      <td>0</td>\n",
              "      <td>0</td>\n",
              "      <td>3</td>\n",
              "      <td>2</td>\n",
              "    </tr>\n",
              "    <tr>\n",
              "      <th>22</th>\n",
              "      <td>AMC Javelin</td>\n",
              "      <td>15.2</td>\n",
              "      <td>8</td>\n",
              "      <td>304.0</td>\n",
              "      <td>150</td>\n",
              "      <td>3.15</td>\n",
              "      <td>3.435</td>\n",
              "      <td>17.30</td>\n",
              "      <td>0</td>\n",
              "      <td>0</td>\n",
              "      <td>3</td>\n",
              "      <td>2</td>\n",
              "    </tr>\n",
              "    <tr>\n",
              "      <th>23</th>\n",
              "      <td>Camaro Z28</td>\n",
              "      <td>13.3</td>\n",
              "      <td>8</td>\n",
              "      <td>350.0</td>\n",
              "      <td>245</td>\n",
              "      <td>3.73</td>\n",
              "      <td>3.840</td>\n",
              "      <td>15.41</td>\n",
              "      <td>0</td>\n",
              "      <td>0</td>\n",
              "      <td>3</td>\n",
              "      <td>4</td>\n",
              "    </tr>\n",
              "    <tr>\n",
              "      <th>24</th>\n",
              "      <td>Pontiac Firebird</td>\n",
              "      <td>19.2</td>\n",
              "      <td>8</td>\n",
              "      <td>400.0</td>\n",
              "      <td>175</td>\n",
              "      <td>3.08</td>\n",
              "      <td>3.845</td>\n",
              "      <td>17.05</td>\n",
              "      <td>0</td>\n",
              "      <td>0</td>\n",
              "      <td>3</td>\n",
              "      <td>2</td>\n",
              "    </tr>\n",
              "    <tr>\n",
              "      <th>25</th>\n",
              "      <td>Fiat X1-9</td>\n",
              "      <td>27.3</td>\n",
              "      <td>4</td>\n",
              "      <td>79.0</td>\n",
              "      <td>66</td>\n",
              "      <td>4.08</td>\n",
              "      <td>1.935</td>\n",
              "      <td>18.90</td>\n",
              "      <td>1</td>\n",
              "      <td>1</td>\n",
              "      <td>4</td>\n",
              "      <td>1</td>\n",
              "    </tr>\n",
              "    <tr>\n",
              "      <th>26</th>\n",
              "      <td>Porsche 914-2</td>\n",
              "      <td>26.0</td>\n",
              "      <td>4</td>\n",
              "      <td>120.3</td>\n",
              "      <td>91</td>\n",
              "      <td>4.43</td>\n",
              "      <td>2.140</td>\n",
              "      <td>16.70</td>\n",
              "      <td>0</td>\n",
              "      <td>1</td>\n",
              "      <td>5</td>\n",
              "      <td>2</td>\n",
              "    </tr>\n",
              "    <tr>\n",
              "      <th>27</th>\n",
              "      <td>Lotus Europa</td>\n",
              "      <td>30.4</td>\n",
              "      <td>4</td>\n",
              "      <td>95.1</td>\n",
              "      <td>113</td>\n",
              "      <td>3.77</td>\n",
              "      <td>1.513</td>\n",
              "      <td>16.90</td>\n",
              "      <td>1</td>\n",
              "      <td>1</td>\n",
              "      <td>5</td>\n",
              "      <td>2</td>\n",
              "    </tr>\n",
              "    <tr>\n",
              "      <th>28</th>\n",
              "      <td>Ford Pantera L</td>\n",
              "      <td>15.8</td>\n",
              "      <td>8</td>\n",
              "      <td>351.0</td>\n",
              "      <td>264</td>\n",
              "      <td>4.22</td>\n",
              "      <td>3.170</td>\n",
              "      <td>14.50</td>\n",
              "      <td>0</td>\n",
              "      <td>1</td>\n",
              "      <td>5</td>\n",
              "      <td>4</td>\n",
              "    </tr>\n",
              "    <tr>\n",
              "      <th>29</th>\n",
              "      <td>Ferrari Dino</td>\n",
              "      <td>19.7</td>\n",
              "      <td>6</td>\n",
              "      <td>145.0</td>\n",
              "      <td>175</td>\n",
              "      <td>3.62</td>\n",
              "      <td>2.770</td>\n",
              "      <td>15.50</td>\n",
              "      <td>0</td>\n",
              "      <td>1</td>\n",
              "      <td>5</td>\n",
              "      <td>6</td>\n",
              "    </tr>\n",
              "    <tr>\n",
              "      <th>30</th>\n",
              "      <td>Maserati Bora</td>\n",
              "      <td>15.0</td>\n",
              "      <td>8</td>\n",
              "      <td>301.0</td>\n",
              "      <td>335</td>\n",
              "      <td>3.54</td>\n",
              "      <td>3.570</td>\n",
              "      <td>14.60</td>\n",
              "      <td>0</td>\n",
              "      <td>1</td>\n",
              "      <td>5</td>\n",
              "      <td>8</td>\n",
              "    </tr>\n",
              "    <tr>\n",
              "      <th>31</th>\n",
              "      <td>Volvo 142E</td>\n",
              "      <td>21.4</td>\n",
              "      <td>4</td>\n",
              "      <td>121.0</td>\n",
              "      <td>109</td>\n",
              "      <td>4.11</td>\n",
              "      <td>2.780</td>\n",
              "      <td>18.60</td>\n",
              "      <td>1</td>\n",
              "      <td>1</td>\n",
              "      <td>4</td>\n",
              "      <td>2</td>\n",
              "    </tr>\n",
              "  </tbody>\n",
              "</table>\n",
              "</div>"
            ],
            "text/plain": [
              "              car_names   mpg  cyl   disp   hp  ...   qsec  vs  am  gear  carb\n",
              "0             Mazda RX4  21.0    6  160.0  110  ...  16.46   0   1     4     4\n",
              "1         Mazda RX4 Wag  21.0    6  160.0  110  ...  17.02   0   1     4     4\n",
              "2            Datsun 710  22.8    4  108.0   93  ...  18.61   1   1     4     1\n",
              "3        Hornet 4 Drive  21.4    6  258.0  110  ...  19.44   1   0     3     1\n",
              "4     Hornet Sportabout  18.7    8  360.0  175  ...  17.02   0   0     3     2\n",
              "5               Valiant  18.1    6  225.0  105  ...  20.22   1   0     3     1\n",
              "6            Duster 360  14.3    8  360.0  245  ...  15.84   0   0     3     4\n",
              "7             Merc 240D  24.4    4  146.7   62  ...  20.00   1   0     4     2\n",
              "8              Merc 230  22.8    4  140.8   95  ...  22.90   1   0     4     2\n",
              "9              Merc 280  19.2    6  167.6  123  ...  18.30   1   0     4     4\n",
              "10            Merc 280C  17.8    6  167.6  123  ...  18.90   1   0     4     4\n",
              "11           Merc 450SE  16.4    8  275.8  180  ...  17.40   0   0     3     3\n",
              "12           Merc 450SL  17.3    8  275.8  180  ...  17.60   0   0     3     3\n",
              "13          Merc 450SLC  15.2    8  275.8  180  ...  18.00   0   0     3     3\n",
              "14   Cadillac Fleetwood  10.4    8  472.0  205  ...  17.98   0   0     3     4\n",
              "15  Lincoln Continental  10.4    8  460.0  215  ...  17.82   0   0     3     4\n",
              "16    Chrysler Imperial  14.7    8  440.0  230  ...  17.42   0   0     3     4\n",
              "17             Fiat 128  32.4    4   78.7   66  ...  19.47   1   1     4     1\n",
              "18          Honda Civic  30.4    4   75.7   52  ...  18.52   1   1     4     2\n",
              "19       Toyota Corolla  33.9    4   71.1   65  ...  19.90   1   1     4     1\n",
              "20        Toyota Corona  21.5    4  120.1   97  ...  20.01   1   0     3     1\n",
              "21     Dodge Challenger  15.5    8  318.0  150  ...  16.87   0   0     3     2\n",
              "22          AMC Javelin  15.2    8  304.0  150  ...  17.30   0   0     3     2\n",
              "23           Camaro Z28  13.3    8  350.0  245  ...  15.41   0   0     3     4\n",
              "24     Pontiac Firebird  19.2    8  400.0  175  ...  17.05   0   0     3     2\n",
              "25            Fiat X1-9  27.3    4   79.0   66  ...  18.90   1   1     4     1\n",
              "26        Porsche 914-2  26.0    4  120.3   91  ...  16.70   0   1     5     2\n",
              "27         Lotus Europa  30.4    4   95.1  113  ...  16.90   1   1     5     2\n",
              "28       Ford Pantera L  15.8    8  351.0  264  ...  14.50   0   1     5     4\n",
              "29         Ferrari Dino  19.7    6  145.0  175  ...  15.50   0   1     5     6\n",
              "30        Maserati Bora  15.0    8  301.0  335  ...  14.60   0   1     5     8\n",
              "31           Volvo 142E  21.4    4  121.0  109  ...  18.60   1   1     4     2\n",
              "\n",
              "[32 rows x 12 columns]"
            ]
          },
          "metadata": {
            "tags": []
          }
        }
      ]
    },
    {
      "cell_type": "code",
      "metadata": {
        "colab": {
          "base_uri": "https://localhost:8080/",
          "height": 204
        },
        "id": "k6V_-Jp0SUjJ",
        "outputId": "7601962f-5013-4f02-b8d4-cd066dce5bcf"
      },
      "source": [
        "mtcars.head()"
      ],
      "execution_count": null,
      "outputs": [
        {
          "output_type": "execute_result",
          "data": {
            "text/html": [
              "<div>\n",
              "<style scoped>\n",
              "    .dataframe tbody tr th:only-of-type {\n",
              "        vertical-align: middle;\n",
              "    }\n",
              "\n",
              "    .dataframe tbody tr th {\n",
              "        vertical-align: top;\n",
              "    }\n",
              "\n",
              "    .dataframe thead th {\n",
              "        text-align: right;\n",
              "    }\n",
              "</style>\n",
              "<table border=\"1\" class=\"dataframe\">\n",
              "  <thead>\n",
              "    <tr style=\"text-align: right;\">\n",
              "      <th></th>\n",
              "      <th>car_names</th>\n",
              "      <th>mpg</th>\n",
              "      <th>cyl</th>\n",
              "      <th>disp</th>\n",
              "      <th>hp</th>\n",
              "      <th>drat</th>\n",
              "      <th>wt</th>\n",
              "      <th>qsec</th>\n",
              "      <th>vs</th>\n",
              "      <th>am</th>\n",
              "      <th>gear</th>\n",
              "      <th>carb</th>\n",
              "    </tr>\n",
              "  </thead>\n",
              "  <tbody>\n",
              "    <tr>\n",
              "      <th>0</th>\n",
              "      <td>Mazda RX4</td>\n",
              "      <td>21.0</td>\n",
              "      <td>6</td>\n",
              "      <td>160.0</td>\n",
              "      <td>110</td>\n",
              "      <td>3.90</td>\n",
              "      <td>2.620</td>\n",
              "      <td>16.46</td>\n",
              "      <td>0</td>\n",
              "      <td>1</td>\n",
              "      <td>4</td>\n",
              "      <td>4</td>\n",
              "    </tr>\n",
              "    <tr>\n",
              "      <th>1</th>\n",
              "      <td>Mazda RX4 Wag</td>\n",
              "      <td>21.0</td>\n",
              "      <td>6</td>\n",
              "      <td>160.0</td>\n",
              "      <td>110</td>\n",
              "      <td>3.90</td>\n",
              "      <td>2.875</td>\n",
              "      <td>17.02</td>\n",
              "      <td>0</td>\n",
              "      <td>1</td>\n",
              "      <td>4</td>\n",
              "      <td>4</td>\n",
              "    </tr>\n",
              "    <tr>\n",
              "      <th>2</th>\n",
              "      <td>Datsun 710</td>\n",
              "      <td>22.8</td>\n",
              "      <td>4</td>\n",
              "      <td>108.0</td>\n",
              "      <td>93</td>\n",
              "      <td>3.85</td>\n",
              "      <td>2.320</td>\n",
              "      <td>18.61</td>\n",
              "      <td>1</td>\n",
              "      <td>1</td>\n",
              "      <td>4</td>\n",
              "      <td>1</td>\n",
              "    </tr>\n",
              "    <tr>\n",
              "      <th>3</th>\n",
              "      <td>Hornet 4 Drive</td>\n",
              "      <td>21.4</td>\n",
              "      <td>6</td>\n",
              "      <td>258.0</td>\n",
              "      <td>110</td>\n",
              "      <td>3.08</td>\n",
              "      <td>3.215</td>\n",
              "      <td>19.44</td>\n",
              "      <td>1</td>\n",
              "      <td>0</td>\n",
              "      <td>3</td>\n",
              "      <td>1</td>\n",
              "    </tr>\n",
              "    <tr>\n",
              "      <th>4</th>\n",
              "      <td>Hornet Sportabout</td>\n",
              "      <td>18.7</td>\n",
              "      <td>8</td>\n",
              "      <td>360.0</td>\n",
              "      <td>175</td>\n",
              "      <td>3.15</td>\n",
              "      <td>3.440</td>\n",
              "      <td>17.02</td>\n",
              "      <td>0</td>\n",
              "      <td>0</td>\n",
              "      <td>3</td>\n",
              "      <td>2</td>\n",
              "    </tr>\n",
              "  </tbody>\n",
              "</table>\n",
              "</div>"
            ],
            "text/plain": [
              "           car_names   mpg  cyl   disp   hp  ...   qsec  vs  am  gear  carb\n",
              "0          Mazda RX4  21.0    6  160.0  110  ...  16.46   0   1     4     4\n",
              "1      Mazda RX4 Wag  21.0    6  160.0  110  ...  17.02   0   1     4     4\n",
              "2         Datsun 710  22.8    4  108.0   93  ...  18.61   1   1     4     1\n",
              "3     Hornet 4 Drive  21.4    6  258.0  110  ...  19.44   1   0     3     1\n",
              "4  Hornet Sportabout  18.7    8  360.0  175  ...  17.02   0   0     3     2\n",
              "\n",
              "[5 rows x 12 columns]"
            ]
          },
          "metadata": {
            "tags": []
          },
          "execution_count": 272
        }
      ]
    },
    {
      "cell_type": "code",
      "metadata": {
        "id": "eFECLquDSZ4f"
      },
      "source": [
        "#  Create a scatter plot with mpg and hp by providing xlabel and ylabel\n",
        "import matplotlib.pyplot as plt\n",
        "import seaborn as sns"
      ],
      "execution_count": null,
      "outputs": []
    },
    {
      "cell_type": "code",
      "metadata": {
        "colab": {
          "base_uri": "https://localhost:8080/",
          "height": 296
        },
        "id": "Na84C62eSj72",
        "outputId": "5a04249c-5d2b-4f95-856a-a25f3e5e21f1"
      },
      "source": [
        "sns.scatterplot(data=mtcars,x='mpg',y='hp')"
      ],
      "execution_count": null,
      "outputs": [
        {
          "output_type": "execute_result",
          "data": {
            "text/plain": [
              "<matplotlib.axes._subplots.AxesSubplot at 0x7f5151117b50>"
            ]
          },
          "metadata": {
            "tags": []
          },
          "execution_count": 275
        },
        {
          "output_type": "display_data",
          "data": {
            "image/png": "[encoded data removed]",
            "text/plain": [
              "<Figure size 432x288 with 1 Axes>"
            ]
          },
          "metadata": {
            "tags": [],
            "needs_background": "light"
          }
        }
      ]
    },
    {
      "cell_type": "code",
      "metadata": {
        "colab": {
          "base_uri": "https://localhost:8080/",
          "height": 296
        },
        "id": "HaE1C9RFSso1",
        "outputId": "e7c567d0-a461-497b-d877-3d1e4b7e6990"
      },
      "source": [
        "# Change the color to red in the previous code\n",
        "sns.scatterplot(data=mtcars,x='mpg',y='hp',color='red')"
      ],
      "execution_count": null,
      "outputs": [
        {
          "output_type": "execute_result",
          "data": {
            "text/plain": [
              "<matplotlib.axes._subplots.AxesSubplot at 0x7f5150201e10>"
            ]
          },
          "metadata": {
            "tags": []
          },
          "execution_count": 276
        },
        {
          "output_type": "display_data",
          "data": {
            "image/png": "[encoded data removed]",
            "text/plain": [
              "<Figure size 432x288 with 1 Axes>"
            ]
          },
          "metadata": {
            "tags": [],
            "needs_background": "light"
          }
        }
      ]
    },
    {
      "cell_type": "code",
      "metadata": {
        "colab": {
          "base_uri": "https://localhost:8080/",
          "height": 173
        },
        "id": "WvI8UvErTMgk",
        "outputId": "50598bbf-d81d-446c-9198-097a877974fb"
      },
      "source": [
        "# Create crosstab for cyl(cylinder) and columns as count\n",
        "pd.crosstab(mtcars['cyl'],mtcars['cyl'])"
      ],
      "execution_count": null,
      "outputs": [
        {
          "output_type": "execute_result",
          "data": {
            "text/html": [
              "<div>\n",
              "<style scoped>\n",
              "    .dataframe tbody tr th:only-of-type {\n",
              "        vertical-align: middle;\n",
              "    }\n",
              "\n",
              "    .dataframe tbody tr th {\n",
              "        vertical-align: top;\n",
              "    }\n",
              "\n",
              "    .dataframe thead th {\n",
              "        text-align: right;\n",
              "    }\n",
              "</style>\n",
              "<table border=\"1\" class=\"dataframe\">\n",
              "  <thead>\n",
              "    <tr style=\"text-align: right;\">\n",
              "      <th>cyl</th>\n",
              "      <th>4</th>\n",
              "      <th>6</th>\n",
              "      <th>8</th>\n",
              "    </tr>\n",
              "    <tr>\n",
              "      <th>cyl</th>\n",
              "      <th></th>\n",
              "      <th></th>\n",
              "      <th></th>\n",
              "    </tr>\n",
              "  </thead>\n",
              "  <tbody>\n",
              "    <tr>\n",
              "      <th>4</th>\n",
              "      <td>11</td>\n",
              "      <td>0</td>\n",
              "      <td>0</td>\n",
              "    </tr>\n",
              "    <tr>\n",
              "      <th>6</th>\n",
              "      <td>0</td>\n",
              "      <td>7</td>\n",
              "      <td>0</td>\n",
              "    </tr>\n",
              "    <tr>\n",
              "      <th>8</th>\n",
              "      <td>0</td>\n",
              "      <td>0</td>\n",
              "      <td>14</td>\n",
              "    </tr>\n",
              "  </tbody>\n",
              "</table>\n",
              "</div>"
            ],
            "text/plain": [
              "cyl   4  6   8\n",
              "cyl           \n",
              "4    11  0   0\n",
              "6     0  7   0\n",
              "8     0  0  14"
            ]
          },
          "metadata": {
            "tags": []
          },
          "execution_count": 283
        }
      ]
    },
    {
      "cell_type": "code",
      "metadata": {
        "colab": {
          "base_uri": "https://localhost:8080/",
          "height": 276
        },
        "id": "ZyWZyPlmTcmE",
        "outputId": "62cceea9-e10f-4539-8705-6d7f638f4975"
      },
      "source": [
        "# Other way to create the crosstab\n",
        "import numpy as np \n",
        "import pandas as pd\n",
        "import seaborn as sns\n",
        "import matplotlib.pyplot as plt\n",
        "\n",
        "ct = pd.crosstab(mtcars.cyl, mtcars.cyl)\n",
        "\n",
        "ct.plot.bar(stacked=True)    # Try staked=False and then by removing stakced part\n",
        "plt.legend(title='mark')   # Optional\n",
        "\n",
        "plt.show()"
      ],
      "execution_count": null,
      "outputs": [
        {
          "output_type": "display_data",
          "data": {
            "image/png": "[encoded data removed]",
            "text/plain": [
              "<Figure size 432x288 with 1 Axes>"
            ]
          },
          "metadata": {
            "tags": [],
            "needs_background": "light"
          }
        }
      ]
    },
    {
      "cell_type": "code",
      "metadata": {
        "colab": {
          "base_uri": "https://localhost:8080/",
          "height": 276
        },
        "id": "7x8vd2cGVAq5",
        "outputId": "fe453964-48d4-4c42-e397-e24c6fe4aa8b"
      },
      "source": [
        "# Create crosstab for cyl(cylinder) and am as 'ct2' and create a bar plot\n",
        "import numpy as np \n",
        "import pandas as pd\n",
        "import seaborn as sns\n",
        "import matplotlib.pyplot as plt\n",
        "\n",
        "ct2 = pd.crosstab(mtcars.cyl, mtcars.am)\n",
        "\n",
        "ct2.plot.bar(stacked=True)   \n",
        "plt.legend(title='mark')   \n",
        "plt.show()"
      ],
      "execution_count": null,
      "outputs": [
        {
          "output_type": "display_data",
          "data": {
            "image/png": "[encoded data removed]",
            "text/plain": [
              "<Figure size 432x288 with 1 Axes>"
            ]
          },
          "metadata": {
            "tags": [],
            "needs_background": "light"
          }
        }
      ]
    },
    {
      "cell_type": "code",
      "metadata": {
        "colab": {
          "base_uri": "https://localhost:8080/",
          "height": 325
        },
        "id": "W20MOxYsViQ0",
        "outputId": "973287d3-f12a-428f-ebdc-1f746e11e629"
      },
      "source": [
        "# Create groupby (cyl) to visualize mpg and hp in a bar chart\n",
        "groups = mtcars.groupby([\"mpg\", \"hp\"])[\"cyl\"].sum()\n",
        "groups.plot.bar(color=\"blue\")\n",
        "plt.show()"
      ],
      "execution_count": null,
      "outputs": [
        {
          "output_type": "display_data",
          "data": {
            "image/png": "[encoded data removed]",
            "text/plain": [
              "<Figure size 432x288 with 1 Axes>"
            ]
          },
          "metadata": {
            "tags": [],
            "needs_background": "light"
          }
        }
      ]
    },
    {
      "cell_type": "code",
      "metadata": {
        "colab": {
          "base_uri": "https://localhost:8080/",
          "height": 1000
        },
        "id": "DxXB8dMsWktv",
        "outputId": "de326e20-39ba-4959-9743-5fc393ce0124"
      },
      "source": [
        "# Create a pie chart for cyl count\n",
        "exp_vals = mtcars['cyl']\n",
        "exp_labels = mtcars['car_names']\n",
        "plt.pie(exp_vals, labels=exp_labels)"
      ],
      "execution_count": null,
      "outputs": [
        {
          "output_type": "execute_result",
          "data": {
            "text/plain": [
              "([<matplotlib.patches.Wedge at 0x7f514fda32d0>,\n",
              "  <matplotlib.patches.Wedge at 0x7f514fda3750>,\n",
              "  <matplotlib.patches.Wedge at 0x7f514fdacdd0>,\n",
              "  <matplotlib.patches.Wedge at 0x7f51504529d0>,\n",
              "  <matplotlib.patches.Wedge at 0x7f51503f5190>,\n",
              "  <matplotlib.patches.Wedge at 0x7f514fd17ed0>,\n",
              "  <matplotlib.patches.Wedge at 0x7f514fd17910>,\n",
              "  <matplotlib.patches.Wedge at 0x7f514fd178d0>,\n",
              "  <matplotlib.patches.Wedge at 0x7f5150452990>,\n",
              "  <matplotlib.patches.Wedge at 0x7f51503f1c10>,\n",
              "  <matplotlib.patches.Wedge at 0x7f514fd849d0>,\n",
              "  <matplotlib.patches.Wedge at 0x7f514fd0e510>,\n",
              "  <matplotlib.patches.Wedge at 0x7f514fd0eb50>,\n",
              "  <matplotlib.patches.Wedge at 0x7f514fd0ea10>,\n",
              "  <matplotlib.patches.Wedge at 0x7f514fe40650>,\n",
              "  <matplotlib.patches.Wedge at 0x7f514fe40310>,\n",
              "  <matplotlib.patches.Wedge at 0x7f514fe40510>,\n",
              "  <matplotlib.patches.Wedge at 0x7f514fd13290>,\n",
              "  <matplotlib.patches.Wedge at 0x7f514fd13450>,\n",
              "  <matplotlib.patches.Wedge at 0x7f514fe08910>,\n",
              "  <matplotlib.patches.Wedge at 0x7f514fe08690>,\n",
              "  <matplotlib.patches.Wedge at 0x7f514fe082d0>,\n",
              "  <matplotlib.patches.Wedge at 0x7f514fe7e890>,\n",
              "  <matplotlib.patches.Wedge at 0x7f514fe7ef10>,\n",
              "  <matplotlib.patches.Wedge at 0x7f514fd19ad0>,\n",
              "  <matplotlib.patches.Wedge at 0x7f514fd19850>,\n",
              "  <matplotlib.patches.Wedge at 0x7f514fd19690>,\n",
              "  <matplotlib.patches.Wedge at 0x7f514fe16c10>,\n",
              "  <matplotlib.patches.Wedge at 0x7f514fe162d0>,\n",
              "  <matplotlib.patches.Wedge at 0x7f514ff39790>,\n",
              "  <matplotlib.patches.Wedge at 0x7f514ff39510>,\n",
              "  <matplotlib.patches.Wedge at 0x7f514ff39fd0>],\n",
              " [Text(1.0950191145337336, 0.10456165074136119, 'Mazda RX4'),\n",
              "  Text(1.0554422683381766, 0.30990582150899426, 'Mazda RX4 Wag'),\n",
              "  Text(0.9932191867778543, 0.47277441451112623, 'Datsun 710'),\n",
              "  Text(0.9060442307978922, 0.6237658629949671, 'Hornet 4 Drive'),\n",
              "  Text(0.7463603391484059, 0.8080508920521507, 'Hornet Sportabout'),\n",
              "  Text(0.5499999814184447, 0.9526279548909482, 'Valiant'),\n",
              "  Text(0.32661238951661997, 1.0503924728472895, 'Duster 360'),\n",
              "  Text(0.1219219957886105, 1.0932223135954198, 'Merc 240D'),\n",
              "  Text(-0.017452584337146144, 1.0998615400585452, 'Merc 230'),\n",
              "  Text(-0.19101302219849886, 1.083288523594059, 'Merc 280'),\n",
              "  Text(-0.3925748749698607, 1.0275626343646398, 'Merc 280C'),\n",
              "  Text(-0.609312100566927, 0.915826819929794, 'Merc 450SE'),\n",
              "  Text(-0.8197909187472499, 0.7334458736263639, 'Merc 450SL'),\n",
              "  Text(-0.977719009966283, 0.5040491419996185, 'Merc 450SLC'),\n",
              "  Text(-1.0729727734236518, 0.2423415513104533, 'Cadillac Fleetwood'),\n",
              "  Text(-1.0994461954992827, -0.03490076220017501, 'Lincoln Continental'),\n",
              "  Text(-1.055442261084307, -0.3099058462134034, 'Chrysler Imperial'),\n",
              "  Text(-0.9777189775214465, -0.5040492049338212, 'Fiat 128'),\n",
              "  Text(-0.9060442198476717, -0.6237658789005889, 'Honda Civic'),\n",
              "  Text(-0.8197908715365142, -0.7334459263949883, 'Toyota Corolla'),\n",
              "  Text(-0.72034678124766, -0.8313245543986633, 'Toyota Corona'),\n",
              "  Text(-0.5499999702695119, -0.9526279613277874, 'Dodge Challenger'),\n",
              "  Text(-0.29312116222118967, -1.0602263834946286, 'AMC Javelin'),\n",
              "  Text(-0.01745252641288206, -1.099861540977685, 'Camaro Z28'),\n",
              "  Text(0.2593348616642474, -1.0689927172462803, 'Pontiac Firebird'),\n",
              "  Text(0.45695654464242413, -1.0005951810339966, 'Fiat X1-9'),\n",
              "  Text(0.5799480426032507, -0.9346979554276655, 'Porsche 914-2'),\n",
              "  Text(0.6936079594791204, -0.853761089853134, 'Lotus Europa'),\n",
              "  Text(0.8426489085782035, -0.7070663454527889, 'Ford Pantera L'),\n",
              "  Text(0.9777190099662828, -0.504049141999619, 'Ferrari Dino'),\n",
              "  Text(1.0647435813009043, -0.27626274826426545, 'Maserati Bora'),\n",
              "  Text(1.0977853465726937, -0.06976627301405297, 'Volvo 142E')])"
            ]
          },
          "metadata": {
            "tags": []
          },
          "execution_count": 297
        },
        {
          "output_type": "display_data",
          "data": {
            "image/png": "[encoded data removed]",
            "text/plain": [
              "<Figure size 432x288 with 1 Axes>"
            ]
          },
          "metadata": {
            "tags": []
          }
        }
      ]
    },
    {
      "cell_type": "code",
      "metadata": {
        "colab": {
          "base_uri": "https://localhost:8080/",
          "height": 333
        },
        "id": "_aMlwY-_X5l6",
        "outputId": "52947710-9a9c-48f4-adfd-44d48d42f29d"
      },
      "source": [
        "# Create a Histogram for MPG column\n",
        "plt.hist(mtcars['mpg'])"
      ],
      "execution_count": null,
      "outputs": [
        {
          "output_type": "execute_result",
          "data": {
            "text/plain": [
              "(array([2., 4., 6., 6., 5., 3., 1., 1., 2., 2.]),\n",
              " array([10.4 , 12.75, 15.1 , 17.45, 19.8 , 22.15, 24.5 , 26.85, 29.2 ,\n",
              "        31.55, 33.9 ]),\n",
              " <a list of 10 Patch objects>)"
            ]
          },
          "metadata": {
            "tags": []
          },
          "execution_count": 298
        },
        {
          "output_type": "display_data",
          "data": {
            "image/png": "[encoded data removed]",
            "text/plain": [
              "<Figure size 432x288 with 1 Axes>"
            ]
          },
          "metadata": {
            "tags": [],
            "needs_background": "light"
          }
        }
      ]
    },
    {
      "cell_type": "code",
      "metadata": {
        "id": "AlCL22_La4GB"
      },
      "source": [
        ""
      ],
      "execution_count": null,
      "outputs": []
    }
  ]
}